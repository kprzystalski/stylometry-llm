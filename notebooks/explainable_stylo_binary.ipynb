{
 "cells": [
  {
   "cell_type": "code",
   "execution_count": 2,
   "id": "d8323211-3a36-460e-b5b1-c5e61206ae74",
   "metadata": {},
   "outputs": [
    {
     "name": "stderr",
     "output_type": "stream",
     "text": [
      "D:\\ProgramData\\Anaconda3\\envs\\clarin\\lib\\site-packages\\spacy\\util.py:887: UserWarning: [W095] Model 'en_core_web_trf' (3.4.1) was trained with spaCy v3.4 and may not be 100% compatible with the current version (3.5.1). If you see errors or degraded performance, download a newer compatible model or retrain your custom model with the current spaCy version. For more details and available updates, run: python -m spacy validate\n",
      "  warnings.warn(warn_msg)\n"
     ]
    }
   ],
   "source": [
    "import pandas as pd\n",
    "import numpy as np\n",
    "\n",
    "import importlib\n",
    "import sys\n",
    "sys.path.append('D:\\\\...') # ścieżka do folderu, w którym znajduje się podfolder 'cl_explainable_stylo'\n",
    "from cl_explainable_stylo import base"
   ]
  },
  {
   "cell_type": "code",
   "execution_count": 3,
   "id": "d5bd025e-2674-4f14-bfda-1348aa69755e",
   "metadata": {
    "scrolled": true
   },
   "outputs": [
    {
     "name": "stdout",
     "output_type": "stream",
     "text": [
      "Initialisation metadata loaded from exp_stylo_july.json.\n",
      "Available text labels ['filename', 'class', 'term'].\n",
      "Predefined text classes ['wiki', 'wiki', 'wiki', 'wiki', 'wiki', 'wiki', 'wiki', 'wiki', 'wiki', 'wiki', 'wiki', 'wiki', 'wiki', 'wiki', 'wiki', 'wiki', 'wiki', 'wiki', 'wiki', 'wiki', 'wiki', 'wiki', 'wiki', 'wiki', 'wiki', 'wiki', 'wiki', 'wiki', 'wiki', 'wiki', 'wiki', 'wiki', 'wiki', 'wiki', 'wiki', 'wiki', 'wiki', 'wiki', 'wiki', 'wiki', 'wiki', 'wiki', 'wiki', 'wiki', 'wiki', 'wiki', 'wiki', 'wiki', 'wiki', 'wiki', 'wiki', 'wiki', 'wiki', 'wiki', 'wiki', 'wiki', 'wiki', 'wiki', 'wiki', 'wiki', 'wiki', 'wiki', 'wiki', 'wiki', 'wiki', 'wiki', 'wiki', 'wiki', 'wiki', 'wiki', 'wiki', 'wiki', 'wiki', 'wiki', 'wiki', 'wiki', 'wiki', 'wiki', 'wiki', 'wiki', 'wiki', 'wiki', 'wiki', 'wiki', 'wiki', 'wiki', 'wiki', 'wiki', 'wiki', 'wiki', 'wiki', 'wiki', 'wiki', 'wiki', 'wiki', 'wiki', 'wiki', 'wiki', 'wiki', 'wiki', 'wiki', 'wiki', 'wiki', 'wiki', 'wiki', 'wiki', 'wiki', 'wiki', 'wiki', 'wiki', 'wiki', 'wiki', 'wiki', 'wiki', 'wiki', 'wiki', 'wiki', 'wiki', 'wiki', 'wiki', 'wiki', 'wiki', 'wiki', 'wiki', 'wiki', 'wiki', 'wiki', 'wiki', 'wiki', 'wiki', 'wiki', 'wiki', 'wiki', 'wiki', 'wiki', 'wiki', 'wiki', 'wiki', 'wiki', 'wiki', 'wiki', 'wiki', 'wiki', 'wiki', 'wiki', 'wiki', 'wiki', 'wiki', 'wiki', 'wiki', 'wiki', 'wiki', 'wiki', 'wiki', 'wiki', 'wiki', 'wiki', 'wiki', 'wiki', 'wiki', 'wiki', 'wiki', 'wiki', 'wiki', 'wiki', 'wiki', 'wiki', 'wiki', 'wiki', 'wiki', 'wiki', 'wiki', 'wiki', 'wiki', 'wiki', 'wiki', 'wiki', 'wiki', 'wiki', 'wiki', 'wiki', 'wiki', 'wiki', 'wiki', 'wiki', 'wiki', 'wiki', 'wiki', 'wiki', 'wiki', 'wiki', 'wiki', 'wiki', 'wiki', 'wiki', 'wiki', 'wiki', 'wiki', 'wiki', 'wiki', 'wiki', 'wiki', 'wiki', 'wiki', 'wiki', 'wiki', 'wiki', 'wiki', 'wiki', 'wiki', 'wiki', 'wiki', 'wiki', 'wiki', 'wiki', 'wiki', 'wiki', 'wiki', 'wiki', 'wiki', 'wiki', 'wiki', 'wiki', 'wiki', 'wiki', 'wiki', 'wiki', 'wiki', 'wiki', 'wiki', 'wiki', 'wiki', 'wiki', 'wiki', 'wiki', 'wiki', 'wiki', 'wiki', 'wiki', 'wiki', 'wiki', 'wiki', 'wiki', 'wiki', 'wiki', 'wiki', 'wiki', 'wiki', 'wiki', 'wiki', 'wiki', 'wiki', 'wiki', 'wiki', 'wiki', 'wiki', 'wiki', 'wiki', 'wiki', 'wiki', 'wiki', 'wiki', 'wiki', 'wiki', 'wiki', 'wiki', 'wiki', 'wiki', 'wiki', 'wiki', 'wiki', 'wiki', 'wiki', 'wiki', 'wiki', 'wiki', 'wiki', 'wiki', 'wiki', 'wiki', 'wiki', 'wiki', 'wiki', 'wiki', 'wiki', 'wiki', 'wiki', 'wiki', 'wiki', 'wiki', 'wiki', 'wiki', 'wiki', 'wiki', 'wiki', 'wiki', 'wiki', 'wiki', 'wiki', 'wiki', 'wiki', 'wiki', 'wiki', 'wiki', 'wiki', 'wiki', 'wiki', 'wiki', 'wiki', 'wiki', 'wiki', 'wiki', 'wiki', 'wiki', 'wiki', 'wiki', 'wiki', 'wiki', 'wiki', 'wiki', 'wiki', 'wiki', 'wiki', 'wiki', 'wiki', 'wiki', 'wiki', 'wiki', 'wiki', 'wiki', 'wiki', 'wiki', 'wiki', 'wiki', 'wiki', 'wiki', 'wiki', 'wiki', 'wiki', 'wiki', 'wiki', 'wiki', 'wiki', 'wiki', 'wiki', 'wiki', 'wiki', 'wiki', 'wiki', 'wiki', 'wiki', 'wiki', 'wiki', 'wiki', 'wiki', 'wiki', 'wiki', 'wiki', 'wiki', 'wiki', 'wiki', 'wiki', 'wiki', 'wiki', 'wiki', 'wiki', 'wiki', 'wiki', 'wiki', 'wiki', 'wiki', 'wiki', 'wiki', 'wiki', 'wiki', 'wiki', 'wiki', 'wiki', 'wiki', 'wiki', 'wiki', 'wiki', 'wiki', 'wiki', 'wiki', 'wiki', 'wiki', 'wiki', 'wiki', 'wiki', 'wiki', 'wiki', 'wiki', 'wiki', 'wiki', 'wiki', 'wiki', 'wiki', 'wiki', 'wiki', 'wiki', 'wiki', 'wiki', 'wiki', 'wiki', 'wiki', 'wiki', 'wiki', 'wiki', 'wiki', 'wiki', 'wiki', 'wiki', 'wiki', 'wiki', 'wiki', 'wiki', 'wiki', 'wiki', 'wiki', 'wiki', 'wiki', 'wiki', 'wiki', 'wiki', 'wiki', 'wiki', 'wiki', 'wiki', 'wiki', 'wiki', 'wiki', 'wiki', 'wiki', 'wiki', 'wiki', 'wiki', 'wiki', 'wiki', 'wiki', 'wiki', 'wiki', 'wiki', 'wiki', 'wiki', 'wiki', 'wiki', 'wiki', 'wiki', 'wiki', 'wiki', 'wiki', 'wiki', 'wiki', 'wiki', 'wiki', 'wiki', 'wiki', 'wiki', 'wiki', 'wiki', 'wiki', 'wiki', 'wiki', 'wiki', 'wiki', 'wiki', 'wiki', 'wiki', 'wiki', 'wiki', 'wiki', 'wiki', 'wiki', 'wiki', 'wiki', 'wiki', 'wiki', 'wiki', 'wiki', 'wiki', 'wiki', 'wiki', 'wiki', 'wiki', 'wiki', 'wiki', 'wiki', 'wiki', 'wiki', 'wiki', 'wiki', 'wiki', 'wiki', 'wiki', 'wiki', 'wiki', 'wiki', 'wiki', 'wiki', 'wiki', 'wiki', 'wiki', 'wiki', 'wiki', 'wiki', 'wiki', 'wiki', 'wiki', 'wiki', 'wiki', 'wiki', 'wiki', 'wiki', 'wiki', 'wiki', 'wiki', 'wiki', 'wiki', 'wiki', 'wiki', 'wiki', 'wiki', 'wiki', 'wiki', 'wiki', 'wiki', 'wiki', 'wiki', 'wiki', 'wiki', 'wiki', 'wiki', 'wiki', 'wiki', 'wiki', 'wiki', 'wiki', 'wiki', 'wiki', 'wiki', 'wiki', 'wiki', 'wiki', 'wiki', 'wiki', 'wiki', 'wiki', 'wiki', 'wiki', 'wiki', 'wiki', 'wiki', 'wiki', 'wiki', 'wiki', 'wiki', 'wiki', 'wiki', 'wiki', 'wiki', 'wiki', 'wiki', 'wiki', 'wiki', 'wiki', 'wiki', 'wiki', 'wiki', 'wiki', 'wiki', 'wiki', 'wiki', 'wiki', 'wiki', 'wiki', 'wiki', 'wiki', 'wiki', 'wiki', 'wiki', 'wiki', 'wiki', 'wiki', 'wiki', 'wiki', 'wiki', 'wiki', 'wiki', 'wiki', 'wiki', 'wiki', 'wiki', 'wiki', 'wiki', 'wiki', 'wiki', 'wiki', 'wiki', 'wiki', 'wiki', 'wiki', 'wiki', 'wiki', 'wiki', 'wiki', 'wiki', 'wiki', 'wiki', 'wiki', 'wiki', 'wiki', 'wiki', 'wiki', 'wiki', 'wiki', 'wiki', 'wiki', 'wiki', 'wiki', 'wiki', 'wiki', 'wiki', 'wiki', 'wiki', 'wiki', 'wiki', 'wiki', 'wiki', 'wiki', 'wiki', 'wiki', 'wiki', 'wiki', 'wiki', 'wiki', 'wiki', 'wiki', 'wiki', 'wiki', 'wiki', 'wiki', 'wiki', 'wiki', 'wiki', 'wiki', 'wiki', 'wiki', 'wiki', 'wiki', 'wiki', 'wiki', 'wiki', 'wiki', 'wiki', 'wiki', 'wiki', 'wiki', 'wiki', 'wiki', 'wiki', 'wiki', 'wiki', 'wiki', 'wiki', 'wiki', 'wiki', 'wiki', 'wiki', 'wiki', 'wiki', 'wiki', 'wiki', 'wiki', 'wiki', 'wiki', 'wiki', 'wiki', 'wiki', 'wiki', 'wiki', 'wiki', 'wiki', 'wiki', 'wiki', 'wiki', 'wiki', 'wiki', 'wiki', 'wiki', 'wiki', 'wiki', 'wiki', 'wiki', 'wiki', 'wiki', 'wiki', 'wiki', 'wiki', 'wiki', 'wiki', 'wiki', 'wiki', 'wiki', 'wiki', 'wiki', 'wiki', 'wiki', 'wiki', 'wiki', 'wiki', 'wiki', 'wiki', 'wiki', 'wiki', 'wiki', 'wiki', 'wiki', 'wiki', 'wiki', 'wiki', 'wiki', 'wiki', 'wiki', 'wiki', 'wiki', 'wiki', 'wiki', 'wiki', 'wiki', 'wiki', 'wiki', 'wiki', 'wiki', 'wiki', 'wiki', 'wiki', 'wiki', 'wiki', 'wiki', 'wiki', 'wiki', 'wiki', 'wiki', 'wiki', 'wiki', 'wiki', 'wiki', 'wiki', 'wiki', 'wiki', 'wiki', 'wiki', 'wiki', 'wiki', 'wiki', 'wiki', 'wiki', 'wiki', 'wiki', 'wiki', 'wiki', 'wiki', 'wiki', 'wiki', 'wiki', 'wiki', 'wiki', 'wiki', 'wiki', 'wiki', 'wiki', 'wiki', 'wiki', 'wiki', 'wiki', 'wiki', 'wiki', 'wiki', 'wiki', 'wiki', 'wiki', 'wiki', 'wiki', 'wiki', 'wiki', 'wiki', 'wiki', 'wiki', 'wiki', 'wiki', 'wiki', 'wiki', 'wiki', 'wiki', 'wiki', 'wiki', 'wiki', 'wiki', 'wiki', 'wiki', 'wiki', 'wiki', 'wiki', 'wiki', 'wiki', 'wiki', 'wiki', 'wiki', 'wiki', 'wiki', 'wiki', 'wiki', 'wiki', 'wiki', 'wiki', 'wiki', 'wiki', 'wiki', 'wiki', 'wiki', 'wiki', 'wiki', 'wiki', 'wiki', 'wiki', 'wiki', 'wiki', 'wiki', 'wiki', 'wiki', 'wiki', 'wiki', 'wiki', 'wiki', 'wiki', 'wiki', 'wiki', 'wiki', 'wiki', 'wiki', 'wiki', 'wiki', 'wiki', 'wiki', 'wiki', 'wiki', 'wiki', 'wiki', 'wiki', 'wiki', 'wiki', 'wiki', 'wiki', 'wiki', 'wiki', 'wiki', 'wiki', 'wiki', 'wiki', 'wiki', 'wiki', 'wiki', 'wiki', 'wiki', 'wiki', 'wiki', 'wiki', 'wiki', 'wiki', 'wiki', 'wiki', 'wiki', 'wiki', 'wiki', 'wiki', 'wiki', 'wiki', 'wiki', 'wiki', 'wiki', 'wiki', 'wiki', 'wiki', 'wiki', 'wiki', 'wiki', 'wiki', 'wiki', 'wiki', 'wiki', 'wiki', 'wiki', 'wiki', 'wiki', 'wiki', 'wiki', 'wiki', 'wiki', 'wiki', 'wiki', 'wiki', 'wiki', 'wiki', 'wiki', 'wiki', 'wiki', 'wiki', 'wiki', 'wiki', 'wiki', 'wiki', 'wiki', 'wiki', 'wiki', 'wiki', 'wiki', 'wiki', 'wiki', 'wiki', 'wiki', 'wiki', 'wiki', 'wiki', 'wiki', 'wiki', 'wiki', 'wiki', 'wiki', 'wiki', 'wiki', 'wiki', 'wiki', 'wiki', 'wiki', 'wiki', 'wiki', 'wiki', 'wiki', 'wiki', 'wiki', 'wiki', 'wiki', 'wiki', 'wiki', 'wiki', 'wiki', 'wiki', 'wiki', 'wiki', 'wiki', 'wiki', 'wiki', 'wiki', 'wiki', 'wiki', 'wiki', 'wiki', 'wiki', 'wiki', 'wiki', 'wiki', 'wiki', 'wiki', 'wiki', 'wiki', 'wiki', 'wiki', 'wiki', 'wiki', 'wiki', 'wiki', 'wiki', 'wiki', 'wiki', 'wiki', 'wiki', 'wiki', 'wiki', 'wiki', 'wiki', 'wiki', 'wiki', 'wiki', 'wiki', 'wiki', 'wiki', 'wiki', 'wiki', 'wiki', 'wiki', 'wiki', 'wiki', 'wiki', 'wiki', 'wiki', 'wiki', 'wiki', 'wiki', 'wiki', 'wiki', 'wiki', 'wiki', 'wiki', 'wiki', 'wiki', 'wiki', 'wiki', 'wiki', 'wiki', 'wiki', 'wiki', 'wiki', 'wiki', 'wiki', 'wiki', 'wiki', 'wiki', 'wiki', 'wiki', 'wiki', 'wiki', 'wiki', 'wiki', 'wiki', 'wiki', 'wiki', 'wiki', 'wiki', 'wiki', 'wiki', 'wiki', 'wiki', 'wiki', 'wiki', 'wiki', 'wiki', 'wiki', 'wiki', 'wiki', 'wiki', 'wiki', 'wiki', 'wiki', 'wiki', 'wiki', 'wiki', 'wiki', 'wiki', 'wiki', 'wiki', 'wiki', 'wiki', 'wiki', 'wiki', 'wiki', 'wiki', 'wiki', 'wiki', 'wiki', 'wiki', 'wiki', 'wiki', 'wiki', 'wiki', 'wiki', 'wiki', 'wiki', 'wiki', 'wiki', 'wiki', 'wiki', 'wiki', 'wiki', 'wiki', 'wiki', 'wiki', 'wiki', 'wiki', 'wiki', 'wiki', 'wiki', 'wiki', 'wiki', 'wiki', 'wiki', 'wiki', 'wiki', 'wiki', 'wiki', 'wiki', 'wiki', 'wiki', 'wiki', 'wiki', 'wiki', 'wiki', 'wiki', 'wiki', 'wiki', 'wiki', 'wiki', 'wiki', 'wiki', 'wiki', 'wiki', 'wiki', 'wiki', 'wiki', 'wiki', 'wiki', 'wiki', 'wiki', 'wiki', 'wiki', 'wiki', 'wiki', 'wiki', 'wiki', 'wiki', 'wiki', 'wiki', 'wiki', 'wiki', 'wiki', 'wiki', 'wiki', 'wiki', 'wiki', 'wiki', 'wiki', 'wiki', 'wiki', 'wiki', 'wiki', 'wiki', 'wiki', 'wiki', 'wiki', 'wiki', 'wiki', 'wiki', 'wiki', 'wiki', 'wiki', 'wiki', 'wiki', 'wiki', 'wiki', 'wiki', 'wiki', 'wiki', 'wiki', 'wiki', 'wiki', 'wiki', 'wiki', 'wiki', 'wiki', 'wiki', 'wiki', 'wiki', 'wiki', 'wiki', 'wiki', 'wiki', 'wiki', 'wiki', 'wiki', 'wiki', 'wiki', 'wiki', 'wiki', 'wiki', 'wiki', 'wiki', 'wiki', 'wiki', 'wiki', 'wiki', 'wiki', 'wiki', 'wiki', 'wiki', 'wiki', 'wiki', 'wiki', 'wiki', 'wiki', 'wiki', 'wiki', 'wiki', 'wiki', 'wiki', 'wiki', 'wiki', 'wiki', 'wiki', 'wiki', 'wiki', 'wiki', 'wiki', 'wiki', 'wiki', 'wiki', 'wiki', 'wiki', 'wiki', 'wiki', 'wiki', 'wiki', 'wiki', 'wiki', 'wiki', 'wiki', 'wiki', 'wiki', 'wiki', 'wiki', 'wiki', 'wiki', 'wiki', 'wiki', 'wiki', 'wiki', 'wiki', 'wiki', 'wiki', 'wiki', 'wiki', 'wiki', 'wiki', 'wiki', 'wiki', 'wiki', 'wiki', 'wiki', 'wiki', 'wiki', 'wiki', 'wiki', 'wiki', 'wiki', 'wiki', 'wiki', 'wiki', 'wiki', 'wiki', 'wiki', 'wiki', 'wiki', 'wiki', 'wiki', 'wiki', 'wiki', 'wiki', 'wiki', 'wiki', 'wiki', 'wiki', 'wiki', 'wiki', 'wiki', 'wiki', 'wiki', 'wiki', 'wiki', 'wiki', 'wiki', 'wiki', 'wiki', 'wiki', 'wiki', 'wiki', 'wiki', 'wiki', 'wiki', 'wiki', 'wiki', 'wiki', 'wiki', 'wiki', 'wiki', 'wiki', 'wiki', 'wiki', 'wiki', 'wiki', 'wiki', 'wiki', 'wiki', 'wiki', 'wiki', 'wiki', 'wiki', 'wiki', 'wiki', 'wiki', 'wiki', 'wiki', 'wiki', 'wiki', 'wiki', 'wiki', 'wiki', 'wiki', 'wiki', 'wiki', 'wiki', 'wiki', 'wiki', 'wiki', 'wiki', 'wiki', 'wiki', 'wiki', 'wiki', 'wiki', 'wiki', 'wiki', 'wiki', 'wiki', 'wiki', 'wiki', 'wiki', 'wiki', 'wiki', 'wiki', 'wiki', 'wiki', 'wiki', 'wiki', 'wiki', 'wiki', 'wiki', 'wiki', 'wiki', 'wiki', 'wiki', 'wiki', 'wiki', 'wiki', 'wiki', 'wiki', 'wiki', 'wiki', 'wiki', 'wiki', 'wiki', 'wiki', 'wiki', 'wiki', 'wiki', 'wiki', 'wiki', 'wiki', 'wiki', 'wiki', 'wiki', 'wiki', 'wiki', 'wiki', 'wiki', 'wiki', 'wiki', 'wiki', 'wiki', 'wiki', 'wiki', 'wiki', 'wiki', 'wiki', 'wiki', 'wiki', 'wiki', 'wiki', 'wiki', 'wiki', 'wiki', 'wiki', 'wiki', 'wiki', 'wiki', 'wiki', 'wiki', 'wiki', 'wiki', 'wiki', 'wiki', 'wiki', 'wiki', 'wiki', 'wiki', 'wiki', 'wiki', 'wiki', 'wiki', 'wiki', 'wiki', 'wiki', 'wiki', 'wiki', 'wiki', 'wiki', 'wiki', 'wiki', 'wiki', 'wiki', 'wiki', 'wiki', 'wiki', 'wiki', 'wiki', 'wiki', 'wiki', 'wiki', 'wiki', 'wiki', 'wiki', 'wiki', 'wiki', 'wiki', 'wiki', 'wiki', 'wiki', 'wiki', 'wiki', 'wiki', 'wiki', 'wiki', 'wiki', 'wiki', 'wiki', 'wiki', 'wiki', 'wiki', 'wiki', 'wiki', 'wiki', 'wiki', 'wiki', 'wiki', 'wiki', 'wiki', 'wiki', 'wiki', 'wiki', 'wiki', 'wiki', 'wiki', 'wiki', 'wiki', 'wiki', 'wiki', 'wiki', 'wiki', 'wiki', 'wiki', 'wiki', 'wiki', 'wiki', 'wiki', 'wiki', 'wiki', 'wiki', 'wiki', 'wiki', 'wiki', 'wiki', 'wiki', 'wiki', 'wiki', 'wiki', 'wiki', 'wiki', 'wiki', 'wiki', 'wiki', 'wiki', 'wiki', 'wiki', 'wiki', 'wiki', 'wiki', 'wiki', 'wiki', 'wiki', 'wiki', 'wiki', 'wiki', 'wiki', 'wiki', 'wiki', 'wiki', 'wiki', 'wiki', 'wiki', 'wiki', 'wiki', 'wiki', 'wiki', 'wiki', 'wiki', 'wiki', 'wiki', 'wiki', 'wiki', 'wiki', 'wiki', 'wiki', 'wiki', 'wiki', 'wiki', 'wiki', 'wiki', 'wiki', 'wiki', 'wiki', 'wiki', 'wiki', 'wiki', 'wiki', 'wiki', 'wiki', 'wiki', 'wiki', 'wiki', 'wiki', 'wiki', 'wiki', 'wiki', 'wiki', 'wiki', 'wiki', 'wiki', 'wiki', 'wiki', 'wiki', 'wiki', 'wiki', 'wiki', 'wiki', 'wiki', 'wiki', 'wiki', 'wiki', 'wiki', 'wiki', 'wiki', 'wiki', 'wiki', 'wiki', 'wiki', 'wiki', 'wiki', 'wiki', 'wiki', 'wiki', 'wiki', 'wiki', 'wiki', 'wiki', 'wiki', 'wiki', 'wiki', 'wiki', 'wiki', 'wiki', 'wiki', 'wiki', 'wiki', 'wiki', 'wiki', 'wiki', 'wiki', 'wiki', 'wiki', 'wiki', 'wiki', 'wiki', 'wiki', 'wiki', 'wiki', 'wiki', 'wiki', 'wiki', 'wiki', 'wiki', 'wiki', 'wiki', 'wiki', 'wiki', 'wiki', 'wiki', 'wiki', 'wiki', 'wiki', 'wiki', 'wiki', 'wiki', 'wiki', 'wiki', 'wiki', 'wiki', 'wiki', 'wiki', 'wiki', 'wiki', 'wiki', 'wiki', 'wiki', 'wiki', 'wiki', 'wiki', 'wiki', 'wiki', 'wiki', 'wiki', 'wiki', 'wiki', 'wiki', 'wiki', 'wiki', 'wiki', 'wiki', 'wiki', 'wiki', 'wiki', 'wiki', 'wiki', 'wiki', 'wiki', 'wiki', 'wiki', 'wiki', 'wiki', 'wiki', 'wiki', 'wiki', 'wiki', 'wiki', 'wiki', 'wiki', 'wiki', 'wiki', 'wiki', 'wiki', 'wiki', 'wiki', 'wiki', 'wiki', 'wiki', 'wiki', 'wiki', 'wiki', 'wiki', 'wiki', 'wiki', 'wiki', 'wiki', 'wiki', 'wiki', 'wiki', 'wiki', 'wiki', 'wiki', 'wiki', 'wiki', 'wiki', 'wiki', 'wiki', 'wiki', 'wiki', 'wiki', 'wiki', 'wiki', 'wiki', 'wiki', 'wiki', 'wiki', 'wiki', 'wiki', 'wiki', 'wiki', 'wiki', 'wiki', 'wiki', 'wiki', 'wiki', 'wiki', 'wiki', 'wiki', 'wiki', 'wiki', 'wiki', 'wiki', 'wiki', 'wiki', 'wiki', 'wiki', 'wiki', 'wiki', 'wiki', 'wiki', 'wiki', 'wiki', 'wiki', 'wiki', 'wiki', 'wiki', 'wiki', 'wiki', 'wiki', 'wiki', 'wiki', 'wiki', 'wiki', 'wiki', 'wiki', 'wiki', 'wiki', 'wiki', 'wiki', 'wiki', 'wiki', 'wiki', 'wiki', 'wiki', 'wiki', 'wiki', 'wiki', 'wiki', 'wiki', 'wiki', 'wiki', 'wiki', 'wiki', 'wiki', 'wiki', 'wiki', 'wiki', 'wiki', 'wiki', 'wiki', 'wiki', 'wiki', 'wiki', 'wiki', 'wiki', 'wiki', 'wiki', 'wiki', 'wiki', 'wiki', 'wiki', 'wiki', 'wiki', 'wiki', 'wiki', 'wiki', 'wiki', 'wiki', 'wiki', 'wiki', 'wiki', 'wiki', 'wiki', 'wiki', 'wiki', 'wiki', 'wiki', 'wiki', 'wiki', 'wiki', 'wiki', 'wiki', 'wiki', 'wiki', 'wiki', 'wiki', 'wiki', 'wiki', 'wiki', 'wiki', 'wiki', 'wiki', 'wiki', 'wiki', 'wiki', 'wiki', 'wiki', 'wiki', 'wiki', 'wiki', 'wiki', 'wiki', 'wiki', 'wiki', 'wiki', 'wiki', 'wiki', 'wiki', 'wiki', 'wiki', 'wiki', 'wiki', 'wiki', 'wiki', 'wiki', 'wiki', 'wiki', 'wiki', 'wiki', 'wiki', 'wiki', 'wiki', 'wiki', 'wiki', 'wiki', 'wiki', 'wiki', 'wiki', 'wiki', 'wiki', 'wiki', 'wiki', 'wiki', 'wiki', 'wiki', 'wiki', 'wiki', 'wiki', 'wiki', 'wiki', 'wiki', 'wiki', 'wiki', 'wiki', 'wiki', 'wiki', 'wiki', 'wiki', 'wiki', 'wiki', 'wiki', 'wiki', 'wiki', 'wiki', 'wiki', 'wiki', 'wiki', 'wiki', 'wiki', 'wiki', 'wiki', 'wiki', 'wiki', 'wiki', 'wiki', 'wiki', 'wiki', 'wiki', 'wiki', 'wiki', 'wiki', 'wiki', 'wiki', 'wiki', 'wiki', 'wiki', 'wiki', 'wiki', 'wiki', 'wiki', 'wiki', 'wiki', 'wiki', 'wiki', 'wiki', 'wiki', 'wiki', 'wiki', 'wiki', 'wiki', 'wiki', 'wiki', 'wiki', 'wiki', 'wiki', 'wiki', 'wiki', 'wiki', 'wiki', 'wiki', 'wiki', 'wiki', 'wiki', 'wiki', 'wiki', 'wiki', 'wiki', 'wiki', 'wiki', 'wiki', 'wiki', 'wiki', 'wiki', 'wiki', 'wiki', 'wiki', 'wiki', 'wiki', 'wiki', 'wiki', 'wiki', 'wiki', 'wiki', 'wiki', 'wiki', 'wiki', 'wiki', 'wiki', 'wiki', 'wiki', 'wiki', 'wiki', 'wiki', 'wiki', 'wiki', 'wiki', 'wiki', 'wiki', 'wiki', 'wiki', 'wiki', 'wiki', 'wiki', 'wiki', 'wiki', 'wiki', 'wiki', 'wiki', 'wiki', 'wiki', 'wiki', 'wiki', 'wiki', 'wiki', 'wiki', 'wiki', 'wiki', 'wiki', 'wiki', 'wiki', 'wiki', 'wiki', 'wiki', 'wiki', 'wiki', 'wiki', 'wiki', 'wiki', 'wiki', 'wiki', 'wiki', 'wiki', 'wiki', 'wiki', 'wiki', 'wiki', 'wiki', 'wiki', 'wiki', 'wiki', 'wiki', 'wiki', 'wiki', 'wiki', 'wiki', 'wiki', 'wiki', 'wiki', 'wiki', 'wiki', 'wiki', 'wiki', 'wiki', 'wiki', 'wiki', 'wiki', 'wiki', 'wiki', 'wiki', 'wiki', 'wiki', 'wiki', 'wiki', 'wiki', 'wiki', 'wiki', 'wiki', 'wiki', 'wiki', 'wiki', 'wiki', 'wiki', 'wiki', 'wiki', 'wiki', 'wiki', 'wiki', 'wiki', 'wiki', 'wiki', 'wiki', 'wiki', 'wiki', 'wiki', 'wiki', 'wiki', 'wiki', 'wiki', 'wiki', 'wiki', 'wiki', 'wiki', 'wiki', 'wiki', 'wiki', 'wiki', 'wiki', 'wiki', 'wiki', 'wiki', 'wiki', 'wiki', 'wiki', 'wiki', 'wiki', 'wiki', 'wiki', 'wiki', 'wiki', 'wiki', 'wiki', 'wiki', 'wiki', 'wiki', 'wiki', 'wiki', 'wiki', 'wiki', 'wiki', 'wiki', 'wiki', 'wiki', 'wiki', 'wiki', 'wiki', 'wiki', 'wiki', 'wiki', 'wiki', 'wiki', 'wiki', 'wiki', 'wiki', 'wiki', 'wiki', 'wiki', 'wiki', 'wiki', 'wiki', 'wiki', 'wiki', 'wiki', 'wiki', 'wiki', 'wiki', 'wiki', 'wiki', 'wiki', 'wiki', 'wiki', 'wiki', 'wiki', 'wiki', 'wiki', 'wiki', 'wiki', 'wiki', 'wiki', 'wiki', 'wiki', 'wiki', 'wiki', 'wiki', 'wiki', 'wiki', 'wiki', 'wiki', 'wiki', 'wiki', 'wiki', 'wiki', 'wiki', 'wiki', 'wiki', 'wiki', 'wiki', 'wiki', 'wiki', 'wiki', 'wiki', 'wiki', 'wiki', 'wiki', 'wiki', 'wiki', 'wiki', 'wiki', 'wiki', 'wiki', 'wiki', 'wiki', 'wiki', 'wiki', 'wiki', 'wiki', 'wiki', 'wiki', 'wiki', 'wiki', 'wiki', 'wiki', 'wiki', 'wiki', 'wiki', 'wiki', 'wiki', 'wiki', 'wiki', 'wiki', 'wiki', 'wiki', 'wiki', 'wiki', 'wiki', 'wiki', 'wiki', 'wiki', 'wiki', 'wiki', 'wiki', 'wiki', 'wiki', 'wiki', 'wiki', 'wiki', 'wiki', 'wiki', 'wiki', 'wiki', 'wiki', 'wiki', 'wiki', 'wiki', 'wiki', 'wiki', 'wiki', 'wiki', 'wiki', 'wiki', 'wiki', 'wiki', 'wiki', 'wiki', 'wiki', 'wiki', 'wiki', 'wiki', 'wiki', 'wiki', 'wiki', 'wiki', 'wiki', 'wiki', 'wiki', 'wiki', 'wiki', 'wiki', 'wiki', 'wiki', 'wiki', 'wiki', 'wiki', 'wiki', 'wiki', 'wiki', 'wiki', 'wiki', 'wiki', 'wiki', 'wiki', 'wiki', 'wiki', 'wiki', 'wiki', 'wiki', 'wiki', 'wiki', 'wiki', 'wiki', 'wiki', 'wiki', 'wiki', 'wiki', 'wiki', 'wiki', 'wiki', 'wiki', 'wiki', 'wiki', 'wiki', 'wiki', 'wiki', 'wiki', 'wiki', 'wiki', 'wiki', 'wiki', 'wiki', 'wiki', 'wiki', 'wiki', 'wiki', 'wiki', 'wiki', 'wiki', 'wiki', 'wiki', 'wiki', 'wiki', 'wiki', 'wiki', 'wiki', 'wiki', 'wiki', 'wiki', 'wiki', 'wiki', 'wiki', 'wiki', 'wiki', 'wiki', 'wiki', 'wiki', 'wiki', 'wiki', 'wiki', 'wiki', 'wiki', 'wiki', 'wiki', 'wiki', 'wiki', 'wiki', 'wiki', 'wiki', 'wiki', 'wiki', 'wiki', 'wiki', 'wiki', 'wiki', 'wiki', 'wiki', 'wiki', 'wiki', 'wiki', 'wiki', 'wiki', 'wiki', 'wiki', 'wiki', 'wiki', 'wiki', 'wiki', 'wiki', 'wiki', 'wiki', 'wiki', 'wiki', 'wiki', 'wiki', 'wiki', 'wiki', 'wiki', 'wiki', 'wiki', 'wiki', 'wiki', 'wiki', 'wiki', 'wiki', 'wiki', 'wiki', 'wiki', 'wiki', 'wiki', 'wiki', 'wiki', 'wiki', 'wiki', 'wiki', 'wiki', 'wiki', 'wiki', 'wiki', 'wiki', 'wiki', 'wiki', 'wiki', 'wiki', 'wiki', 'wiki', 'wiki', 'wiki', 'wiki', 'wiki', 'wiki', 'wiki', 'wiki', 'wiki', 'wiki', 'wiki', 'wiki', 'wiki', 'wiki', 'wiki', 'wiki', 'wiki', 'wiki', 'wiki', 'wiki', 'wiki', 'wiki', 'wiki', 'wiki', 'wiki', 'wiki', 'wiki', 'wiki', 'wiki', 'wiki', 'wiki', 'wiki', 'wiki', 'wiki', 'wiki', 'wiki', 'wiki', 'wiki', 'wiki', 'wiki', 'wiki', 'wiki', 'wiki', 'wiki', 'wiki', 'wiki', 'wiki', 'wiki', 'wiki', 'wiki', 'wiki', 'wiki', 'wiki', 'wiki', 'wiki', 'wiki', 'wiki', 'wiki', 'wiki', 'wiki', 'wiki', 'wiki', 'wiki', 'wiki', 'wiki', 'wiki', 'wiki', 'wiki', 'wiki', 'wiki', 'wiki', 'wiki', 'wiki', 'wiki', 'wiki', 'wiki', 'wiki', 'wiki', 'wiki', 'wiki', 'wiki', 'wiki', 'wiki', 'wiki', 'wiki', 'wiki', 'wiki', 'wiki', 'wiki', 'wiki', 'wiki', 'wiki', 'wiki', 'wiki', 'wiki', 'wiki', 'wiki', 'wiki', 'wiki', 'wiki', 'wiki', 'wiki', 'wiki', 'wiki', 'wiki', 'wiki', 'wiki', 'wiki', 'wiki', 'wiki', 'wiki', 'wiki', 'wiki', 'wiki', 'gpt3', 'gpt3', 'gpt3', 'gpt3', 'gpt3', 'gpt3', 'gpt3', 'gpt3', 'gpt3', 'gpt3', 'gpt3', 'gpt3', 'gpt3', 'gpt3', 'gpt3', 'gpt3', 'gpt3', 'gpt3', 'gpt3', 'gpt3', 'gpt3', 'gpt3', 'gpt3', 'gpt3', 'gpt3', 'gpt3', 'gpt3', 'gpt3', 'gpt3', 'gpt3', 'gpt3', 'gpt3', 'gpt3', 'gpt3', 'gpt3', 'gpt3', 'gpt3', 'gpt3', 'gpt3', 'gpt3', 'gpt3', 'gpt3', 'gpt3', 'gpt3', 'gpt3', 'gpt3', 'gpt3', 'gpt3', 'gpt3', 'gpt3', 'gpt3', 'gpt3', 'gpt3', 'gpt3', 'gpt3', 'gpt3', 'gpt3', 'gpt3', 'gpt3', 'gpt3', 'gpt3', 'gpt3', 'gpt3', 'gpt3', 'gpt3', 'gpt3', 'gpt3', 'gpt3', 'gpt3', 'gpt3', 'gpt3', 'gpt3', 'gpt3', 'gpt3', 'gpt3', 'gpt3', 'gpt3', 'gpt3', 'gpt3', 'gpt3', 'gpt3', 'gpt3', 'gpt3', 'gpt3', 'gpt3', 'gpt3', 'gpt3', 'gpt3', 'gpt3', 'gpt3', 'gpt3', 'gpt3', 'gpt3', 'gpt3', 'gpt3', 'gpt3', 'gpt3', 'gpt3', 'gpt3', 'gpt3', 'gpt3', 'gpt3', 'gpt3', 'gpt3', 'gpt3', 'gpt3', 'gpt3', 'gpt3', 'gpt3', 'gpt3', 'gpt3', 'gpt3', 'gpt3', 'gpt3', 'gpt3', 'gpt3', 'gpt3', 'gpt3', 'gpt3', 'gpt3', 'gpt3', 'gpt3', 'gpt3', 'gpt3', 'gpt3', 'gpt3', 'gpt3', 'gpt3', 'gpt3', 'gpt3', 'gpt3', 'gpt3', 'gpt3', 'gpt3', 'gpt3', 'gpt3', 'gpt3', 'gpt3', 'gpt3', 'gpt3', 'gpt3', 'gpt3', 'gpt3', 'gpt3', 'gpt3', 'gpt3', 'gpt3', 'gpt3', 'gpt3', 'gpt3', 'gpt3', 'gpt3', 'gpt3', 'gpt3', 'gpt3', 'gpt3', 'gpt3', 'gpt3', 'gpt3', 'gpt3', 'gpt3', 'gpt3', 'gpt3', 'gpt3', 'gpt3', 'gpt3', 'gpt3', 'gpt3', 'gpt3', 'gpt3', 'gpt3', 'gpt3', 'gpt3', 'gpt3', 'gpt3', 'gpt3', 'gpt3', 'gpt3', 'gpt3', 'gpt3', 'gpt3', 'gpt3', 'gpt3', 'gpt3', 'gpt3', 'gpt3', 'gpt3', 'gpt3', 'gpt3', 'gpt3', 'gpt3', 'gpt3', 'gpt3', 'gpt3', 'gpt3', 'gpt3', 'gpt3', 'gpt3', 'gpt3', 'gpt3', 'gpt3', 'gpt3', 'gpt3', 'gpt3', 'gpt3', 'gpt3', 'gpt3', 'gpt3', 'gpt3', 'gpt3', 'gpt3', 'gpt3', 'gpt3', 'gpt3', 'gpt3', 'gpt3', 'gpt3', 'gpt3', 'gpt3', 'gpt3', 'gpt3', 'gpt3', 'gpt3', 'gpt3', 'gpt3', 'gpt3', 'gpt3', 'gpt3', 'gpt3', 'gpt3', 'gpt3', 'gpt3', 'gpt3', 'gpt3', 'gpt3', 'gpt3', 'gpt3', 'gpt3', 'gpt3', 'gpt3', 'gpt3', 'gpt3', 'gpt3', 'gpt3', 'gpt3', 'gpt3', 'gpt3', 'gpt3', 'gpt3', 'gpt3', 'gpt3', 'gpt3', 'gpt3', 'gpt3', 'gpt3', 'gpt3', 'gpt3', 'gpt3', 'gpt3', 'gpt3', 'gpt3', 'gpt3', 'gpt3', 'gpt3', 'gpt3', 'gpt3', 'gpt3', 'gpt3', 'gpt3', 'gpt3', 'gpt3', 'gpt3', 'gpt3', 'gpt3', 'gpt3', 'gpt3', 'gpt3', 'gpt3', 'gpt3', 'gpt3', 'gpt3', 'gpt3', 'gpt3', 'gpt3', 'gpt3', 'gpt3', 'gpt3', 'gpt3', 'gpt3', 'gpt3', 'gpt3', 'gpt3', 'gpt3', 'gpt3', 'gpt3', 'gpt3', 'gpt3', 'gpt3', 'gpt3', 'gpt3', 'gpt3', 'gpt3', 'gpt3', 'gpt3', 'gpt3', 'gpt3', 'gpt3', 'gpt3', 'gpt3', 'gpt3', 'gpt3', 'gpt3', 'gpt3', 'gpt3', 'gpt3', 'gpt3', 'gpt3', 'gpt3', 'gpt3', 'gpt3', 'gpt3', 'gpt3', 'gpt3', 'gpt3', 'gpt3', 'gpt3', 'gpt3', 'gpt3', 'gpt3', 'gpt3', 'gpt3', 'gpt3', 'gpt3', 'gpt3', 'gpt3', 'gpt3', 'gpt3', 'gpt3', 'gpt3', 'gpt3', 'gpt3', 'gpt3', 'gpt3', 'gpt3', 'gpt3', 'gpt3', 'gpt3', 'gpt3', 'gpt3', 'gpt3', 'gpt3', 'gpt3', 'gpt3', 'gpt3', 'gpt3', 'gpt3', 'gpt3', 'gpt3', 'gpt3', 'gpt3', 'gpt3', 'gpt3', 'gpt3', 'gpt3', 'gpt3', 'gpt3', 'gpt3', 'gpt3', 'gpt3', 'gpt3', 'gpt3', 'gpt3', 'gpt3', 'gpt3', 'gpt3', 'gpt3', 'gpt3', 'gpt3', 'gpt3', 'gpt3', 'gpt3', 'gpt3', 'gpt3', 'gpt3', 'gpt3', 'gpt3', 'gpt3', 'gpt3', 'gpt3', 'gpt3', 'gpt3', 'gpt3', 'gpt3', 'gpt3', 'gpt3', 'gpt3', 'gpt3', 'gpt3', 'gpt3', 'gpt3', 'gpt3', 'gpt3', 'gpt3', 'gpt3', 'gpt3', 'gpt3', 'gpt3', 'gpt3', 'gpt3', 'gpt3', 'gpt3', 'gpt3', 'gpt3', 'gpt3', 'gpt3', 'gpt3', 'gpt3', 'gpt3', 'gpt3', 'gpt3', 'gpt3', 'gpt3', 'gpt3', 'gpt3', 'gpt3', 'gpt3', 'gpt3', 'gpt3', 'gpt3', 'gpt3', 'gpt3', 'gpt3', 'gpt3', 'gpt3', 'gpt3', 'gpt3', 'gpt3', 'gpt3', 'gpt3', 'gpt3', 'gpt3', 'gpt3', 'gpt3', 'gpt3', 'gpt3', 'gpt3', 'gpt3', 'gpt3', 'gpt3', 'gpt3', 'gpt3', 'gpt3', 'gpt3', 'gpt3', 'gpt3', 'gpt3', 'gpt3', 'gpt3', 'gpt3', 'gpt3', 'gpt3', 'gpt3', 'gpt3', 'gpt3', 'gpt3', 'gpt3', 'gpt3', 'gpt3', 'gpt3', 'gpt3', 'gpt3', 'gpt3', 'gpt3', 'gpt3', 'gpt3', 'gpt3', 'gpt3', 'gpt3', 'gpt3', 'gpt3', 'gpt3', 'gpt3', 'gpt3', 'gpt3', 'gpt3', 'gpt3', 'gpt3', 'gpt3', 'gpt3', 'gpt3', 'gpt3', 'gpt3', 'gpt3', 'gpt3', 'gpt3', 'gpt3', 'gpt3', 'gpt3', 'gpt3', 'gpt3', 'gpt3', 'gpt3', 'gpt3', 'gpt3', 'gpt3', 'gpt3', 'gpt3', 'gpt3', 'gpt3', 'gpt3', 'gpt3', 'gpt3', 'gpt3', 'gpt3', 'gpt3', 'gpt3', 'gpt3', 'gpt3', 'gpt3', 'gpt3', 'gpt3', 'gpt3', 'gpt3', 'gpt3', 'gpt3', 'gpt3', 'gpt3', 'gpt3', 'gpt3', 'gpt3', 'gpt3', 'gpt3', 'gpt3', 'gpt3', 'gpt3', 'gpt3', 'gpt3', 'gpt3', 'gpt3', 'gpt3', 'gpt3', 'gpt3', 'gpt3', 'gpt3', 'gpt3', 'gpt3', 'gpt3', 'gpt3', 'gpt3', 'gpt3', 'gpt3', 'gpt3', 'gpt3', 'gpt3', 'gpt3', 'gpt3', 'gpt3', 'gpt3', 'gpt3', 'gpt3', 'gpt3', 'gpt3', 'gpt3', 'gpt3', 'gpt3', 'gpt3', 'gpt3', 'gpt3', 'gpt3', 'gpt3', 'gpt3', 'gpt3', 'gpt3', 'gpt3', 'gpt3', 'gpt3', 'gpt3', 'gpt3', 'gpt3', 'gpt3', 'gpt3', 'gpt3', 'gpt3', 'gpt3', 'gpt3', 'gpt3', 'gpt3', 'gpt3', 'gpt3', 'gpt3', 'gpt3', 'gpt3', 'gpt3', 'gpt3', 'gpt3', 'gpt3', 'gpt3', 'gpt3', 'gpt3', 'gpt3', 'gpt3', 'gpt3', 'gpt3', 'gpt3', 'gpt3', 'gpt3', 'gpt3', 'gpt3', 'gpt3', 'gpt3', 'gpt3', 'gpt3', 'gpt3', 'gpt3', 'gpt3', 'gpt3', 'gpt3', 'gpt3', 'gpt3', 'gpt3', 'gpt3', 'gpt3', 'gpt3', 'gpt3', 'gpt3', 'gpt3', 'gpt3', 'gpt3', 'gpt3', 'gpt3', 'gpt3', 'gpt3', 'gpt3', 'gpt3', 'gpt3', 'gpt3', 'gpt3', 'gpt3', 'gpt3', 'gpt3', 'gpt3', 'gpt3', 'gpt3', 'gpt3', 'gpt3', 'gpt3', 'gpt3', 'gpt3', 'gpt3', 'gpt3', 'gpt3', 'gpt3', 'gpt3', 'gpt3', 'gpt3', 'gpt3', 'gpt3', 'gpt3', 'gpt3', 'gpt3', 'gpt3', 'gpt3', 'gpt3', 'gpt3', 'gpt3', 'gpt3', 'gpt3', 'gpt3', 'gpt3', 'gpt3', 'gpt3', 'gpt3', 'gpt3', 'gpt3', 'gpt3', 'gpt3', 'gpt3', 'gpt3', 'gpt3', 'gpt3', 'gpt3', 'gpt3', 'gpt3', 'gpt3', 'gpt3', 'gpt3', 'gpt3', 'gpt3', 'gpt3', 'gpt3', 'gpt3', 'gpt3', 'gpt3', 'gpt3', 'gpt3', 'gpt3', 'gpt3', 'gpt3', 'gpt3', 'gpt3', 'gpt3', 'gpt3', 'gpt3', 'gpt3', 'gpt3', 'gpt3', 'gpt3', 'gpt3', 'gpt3', 'gpt3', 'gpt3', 'gpt3', 'gpt3', 'gpt3', 'gpt3', 'gpt3', 'gpt3', 'gpt3', 'gpt3', 'gpt3', 'gpt3', 'gpt3', 'gpt3', 'gpt3', 'gpt3', 'gpt3', 'gpt3', 'gpt3', 'gpt3', 'gpt3', 'gpt3', 'gpt3', 'gpt3', 'gpt3', 'gpt3', 'gpt3', 'gpt3', 'gpt3', 'gpt3', 'gpt3', 'gpt3', 'gpt3', 'gpt3', 'gpt3', 'gpt3', 'gpt3', 'gpt3', 'gpt3', 'gpt3', 'gpt3', 'gpt3', 'gpt3', 'gpt3', 'gpt3', 'gpt3', 'gpt3', 'gpt3', 'gpt3', 'gpt3', 'gpt3', 'gpt3', 'gpt3', 'gpt3', 'gpt3', 'gpt3', 'gpt3', 'gpt3', 'gpt3', 'gpt3', 'gpt3', 'gpt3', 'gpt3', 'gpt3', 'gpt3', 'gpt3', 'gpt3', 'gpt3', 'gpt3', 'gpt3', 'gpt3', 'gpt3', 'gpt3', 'gpt3', 'gpt3', 'gpt3', 'gpt3', 'gpt3', 'gpt3', 'gpt3', 'gpt3', 'gpt3', 'gpt3', 'gpt3', 'gpt3', 'gpt3', 'gpt3', 'gpt3', 'gpt3', 'gpt3', 'gpt3', 'gpt3', 'gpt3', 'gpt3', 'gpt3', 'gpt3', 'gpt3', 'gpt3', 'gpt3', 'gpt3', 'gpt3', 'gpt3', 'gpt3', 'gpt3', 'gpt3', 'gpt3', 'gpt3', 'gpt3', 'gpt3', 'gpt3', 'gpt3', 'gpt3', 'gpt3', 'gpt3', 'gpt3', 'gpt3', 'gpt3', 'gpt3', 'gpt3', 'gpt3', 'gpt3', 'gpt3', 'gpt3', 'gpt3', 'gpt3', 'gpt3', 'gpt3', 'gpt3', 'gpt3', 'gpt3', 'gpt3', 'gpt3', 'gpt3', 'gpt3', 'gpt3', 'gpt3', 'gpt3', 'gpt3', 'gpt3', 'gpt3', 'gpt3', 'gpt3', 'gpt3', 'gpt3', 'gpt3', 'gpt3', 'gpt3', 'gpt3', 'gpt3', 'gpt3', 'gpt3', 'gpt3', 'gpt3', 'gpt3', 'gpt3', 'gpt3', 'gpt3', 'gpt3', 'gpt3', 'gpt3', 'gpt3', 'gpt3', 'gpt3', 'gpt3', 'gpt3', 'gpt3', 'gpt3', 'gpt3', 'gpt3', 'gpt3', 'gpt3', 'gpt3', 'gpt3', 'gpt3', 'gpt3', 'gpt3', 'gpt3', 'gpt3', 'gpt3', 'gpt3', 'gpt3', 'gpt3', 'gpt3', 'gpt3', 'gpt3', 'gpt3', 'gpt3', 'gpt3', 'gpt3', 'gpt3', 'gpt3', 'gpt3', 'gpt3', 'gpt3', 'gpt3', 'gpt3', 'gpt3', 'gpt3', 'gpt3', 'gpt3', 'gpt3', 'gpt3', 'gpt3', 'gpt3', 'gpt3', 'gpt3', 'gpt3', 'gpt3', 'gpt3', 'gpt3', 'gpt3', 'gpt3', 'gpt3', 'gpt3', 'gpt3', 'gpt3', 'gpt3', 'gpt3', 'gpt3', 'gpt3', 'gpt3', 'gpt3', 'gpt3', 'gpt3', 'gpt3', 'gpt3', 'gpt3', 'gpt3', 'gpt3', 'gpt3', 'gpt3', 'gpt3', 'gpt3', 'gpt3', 'gpt3', 'gpt3', 'gpt3', 'gpt3', 'gpt3', 'gpt3', 'gpt3', 'gpt3', 'gpt3', 'gpt3', 'gpt3', 'gpt3', 'gpt3', 'gpt3', 'gpt3', 'gpt3', 'gpt3', 'gpt3', 'gpt3', 'gpt3', 'gpt3', 'gpt3', 'gpt3', 'gpt3', 'gpt3', 'gpt3', 'gpt3', 'gpt3', 'gpt3', 'gpt3', 'gpt3', 'gpt3', 'gpt3', 'gpt3', 'gpt3', 'gpt3', 'gpt3', 'gpt3', 'gpt3', 'gpt3', 'gpt3', 'gpt3', 'gpt3', 'gpt3', 'gpt3', 'gpt3', 'gpt3', 'gpt3', 'gpt3', 'gpt3', 'gpt3', 'gpt3', 'gpt3', 'gpt3', 'gpt3', 'gpt3', 'gpt3', 'gpt3', 'gpt3', 'gpt3', 'gpt3', 'gpt3', 'gpt3', 'gpt3', 'gpt3', 'gpt3', 'gpt3', 'gpt3', 'gpt3', 'gpt3', 'gpt3', 'gpt3', 'gpt3', 'gpt3', 'gpt3', 'gpt3', 'gpt3', 'gpt3', 'gpt3', 'gpt3', 'gpt3', 'gpt3', 'gpt3', 'gpt3', 'gpt3', 'gpt3', 'gpt3', 'gpt3', 'gpt3', 'gpt3', 'gpt3', 'gpt3', 'gpt3', 'gpt3', 'gpt3', 'gpt3', 'gpt3', 'gpt3', 'gpt3', 'gpt3', 'gpt3', 'gpt3', 'gpt3', 'gpt3', 'gpt3', 'gpt3', 'gpt3', 'gpt3', 'gpt3', 'gpt3', 'gpt3', 'gpt3', 'gpt3', 'gpt3', 'gpt3', 'gpt3', 'gpt3', 'gpt3', 'gpt3', 'gpt3', 'gpt3', 'gpt3', 'gpt3', 'gpt3', 'gpt3', 'gpt3', 'gpt3', 'gpt3', 'gpt3', 'gpt3', 'gpt3', 'gpt3', 'gpt3', 'gpt3', 'gpt3', 'gpt3', 'gpt3', 'gpt3', 'gpt3', 'gpt3', 'gpt3', 'gpt3', 'gpt3', 'gpt3', 'gpt3', 'gpt3', 'gpt3', 'gpt3', 'gpt3', 'gpt3', 'gpt3', 'gpt3', 'gpt3', 'gpt3', 'gpt3', 'gpt3', 'gpt3', 'gpt3', 'gpt3', 'gpt3', 'gpt3', 'gpt3', 'gpt3', 'gpt3', 'gpt3', 'gpt3', 'gpt3', 'gpt3', 'gpt3', 'gpt3', 'gpt3', 'gpt3', 'gpt3', 'gpt3', 'gpt3', 'gpt3', 'gpt3', 'gpt3', 'gpt3', 'gpt3', 'gpt3', 'gpt3', 'gpt3', 'gpt3', 'gpt3', 'gpt3', 'gpt3', 'gpt3', 'gpt3', 'gpt3', 'gpt3', 'gpt3', 'gpt3', 'gpt3', 'gpt3', 'gpt3', 'gpt3', 'gpt3', 'gpt3', 'gpt3', 'gpt3', 'gpt3', 'gpt3', 'gpt3', 'gpt3', 'gpt3', 'gpt3', 'gpt3', 'gpt3', 'gpt3', 'gpt3', 'gpt3', 'gpt3', 'gpt3', 'gpt3', 'gpt3', 'gpt3', 'gpt3', 'gpt3', 'gpt3', 'gpt3', 'gpt3', 'gpt3', 'gpt3', 'gpt3', 'gpt3', 'gpt3', 'gpt3', 'gpt3', 'gpt3', 'gpt3', 'gpt3', 'gpt3', 'gpt3', 'gpt3', 'gpt3', 'gpt3', 'gpt3', 'gpt3', 'gpt3', 'gpt3', 'gpt3', 'gpt3', 'gpt3', 'gpt3', 'gpt3', 'gpt3', 'gpt3', 'gpt3', 'gpt3', 'gpt3', 'gpt3', 'gpt3', 'gpt3', 'gpt3', 'gpt3', 'gpt3', 'gpt3', 'gpt3', 'gpt3', 'gpt3', 'gpt3', 'gpt3', 'gpt3', 'gpt3', 'gpt3', 'gpt3', 'gpt3', 'gpt3', 'gpt3', 'gpt3', 'gpt3', 'gpt3', 'gpt3', 'gpt3', 'gpt3', 'gpt3', 'gpt3', 'gpt3', 'gpt3', 'gpt3', 'gpt3', 'gpt3', 'gpt3', 'gpt3', 'gpt3', 'gpt3', 'gpt3', 'gpt3', 'gpt3', 'gpt3', 'gpt3', 'gpt3', 'gpt3', 'gpt3', 'gpt3', 'gpt3', 'gpt3', 'gpt3', 'gpt3', 'gpt3', 'gpt3', 'gpt3', 'gpt3', 'gpt3', 'gpt3', 'gpt3', 'gpt3', 'gpt3', 'gpt3', 'gpt3', 'gpt3', 'gpt3', 'gpt3', 'gpt3', 'gpt3', 'gpt3', 'gpt3', 'gpt3', 'gpt3', 'gpt3', 'gpt3', 'gpt3', 'gpt3', 'gpt3', 'gpt3', 'gpt3', 'gpt3', 'gpt3', 'gpt3', 'gpt3', 'gpt3', 'gpt3', 'gpt3', 'gpt3', 'gpt3', 'gpt3', 'gpt3', 'gpt3', 'gpt3', 'gpt3', 'gpt3', 'gpt3', 'gpt3', 'gpt3', 'gpt3', 'gpt3', 'gpt3', 'gpt3', 'gpt3', 'gpt3', 'gpt3', 'gpt3', 'gpt3', 'gpt3', 'gpt3', 'gpt3', 'gpt3', 'gpt3', 'gpt3', 'gpt3', 'gpt3', 'gpt3', 'gpt3', 'gpt3', 'gpt3', 'gpt3', 'gpt3', 'gpt3', 'gpt3', 'gpt3', 'gpt3', 'gpt3', 'gpt3', 'gpt3', 'gpt3', 'gpt3', 'gpt3', 'gpt3', 'gpt3', 'gpt3', 'gpt3', 'gpt3', 'gpt3', 'gpt3', 'gpt3', 'gpt3', 'gpt3', 'gpt3', 'gpt3', 'gpt3', 'gpt3', 'gpt3', 'gpt3', 'gpt3', 'gpt3', 'gpt3', 'gpt3', 'gpt3', 'gpt3', 'gpt3', 'gpt3', 'gpt3', 'gpt3', 'gpt3', 'gpt3', 'gpt3', 'gpt3', 'gpt3', 'gpt3', 'gpt3', 'gpt3', 'gpt3', 'gpt3', 'gpt3', 'gpt3', 'gpt3', 'gpt3', 'gpt3', 'gpt3', 'gpt3', 'gpt3', 'gpt3', 'gpt3', 'gpt3', 'gpt3', 'gpt3', 'gpt3', 'gpt3', 'gpt3', 'gpt3', 'gpt3', 'gpt3', 'gpt3', 'gpt3', 'gpt3', 'gpt3', 'gpt3', 'gpt3', 'gpt3', 'gpt3', 'gpt3', 'gpt3', 'gpt3', 'gpt3', 'gpt3', 'gpt3', 'gpt3', 'gpt3', 'gpt3', 'gpt3', 'gpt3', 'gpt3', 'gpt3', 'gpt3', 'gpt3', 'gpt3', 'gpt3', 'gpt3', 'gpt3', 'gpt3', 'gpt3', 'gpt3', 'gpt3', 'gpt3', 'gpt3', 'gpt3', 'gpt3', 'gpt3', 'gpt3', 'gpt3', 'gpt3', 'gpt3', 'gpt3', 'gpt3', 'gpt3', 'gpt3', 'gpt3', 'gpt3', 'gpt3', 'gpt3', 'gpt3', 'gpt3', 'gpt3', 'gpt3', 'gpt3', 'gpt3', 'gpt3', 'gpt3', 'gpt3', 'gpt3', 'gpt3', 'gpt3', 'gpt3', 'gpt3', 'gpt3', 'gpt3', 'gpt3', 'gpt3', 'gpt3', 'gpt3', 'gpt3', 'gpt3', 'gpt3', 'gpt3', 'gpt3', 'gpt3', 'gpt3', 'gpt3', 'gpt3', 'gpt3', 'gpt3', 'gpt3', 'gpt3', 'gpt3', 'gpt3', 'gpt3', 'gpt3', 'gpt3', 'gpt3', 'gpt3', 'gpt3', 'gpt3', 'gpt3', 'gpt3', 'gpt3', 'gpt3', 'gpt3', 'gpt3', 'gpt3', 'gpt3', 'gpt3', 'gpt3', 'gpt3', 'gpt3', 'gpt3', 'gpt3', 'gpt3', 'gpt3', 'gpt3', 'gpt3', 'gpt3', 'gpt3', 'gpt3', 'gpt3', 'gpt3', 'gpt3', 'gpt3', 'gpt3', 'gpt3', 'gpt3', 'gpt3', 'gpt3', 'gpt3', 'gpt3', 'gpt3', 'gpt3', 'gpt3', 'gpt3', 'gpt3', 'gpt3', 'gpt3', 'gpt3', 'gpt3', 'gpt3', 'gpt3', 'gpt3', 'gpt3', 'gpt3', 'gpt3', 'gpt3', 'gpt3', 'gpt3', 'gpt3', 'gpt3', 'gpt3', 'gpt3', 'gpt3', 'gpt3', 'gpt3', 'gpt3', 'gpt3', 'gpt3', 'gpt3', 'gpt3', 'gpt3', 'gpt3', 'gpt3', 'gpt3', 'gpt3', 'gpt3', 'gpt3', 'gpt3', 'gpt3', 'gpt3', 'gpt3', 'gpt3', 'gpt3', 'gpt3', 'gpt3', 'gpt3', 'gpt3', 'gpt3', 'gpt3', 'gpt3', 'gpt3', 'gpt3', 'gpt3', 'gpt3', 'gpt3', 'gpt3', 'gpt3', 'gpt3', 'gpt3', 'gpt3', 'gpt3', 'gpt3', 'gpt3', 'gpt3', 'gpt3', 'gpt3', 'gpt3', 'gpt3', 'gpt3', 'gpt3', 'gpt3', 'gpt3', 'gpt3', 'gpt3', 'gpt3', 'gpt3', 'gpt3', 'gpt3', 'gpt3', 'gpt3', 'gpt3', 'gpt3', 'gpt3', 'gpt3', 'gpt3', 'gpt3', 'gpt3', 'gpt3', 'gpt3', 'gpt3', 'gpt3', 'gpt3', 'gpt3', 'gpt3', 'gpt3', 'gpt3', 'gpt3', 'gpt3', 'gpt3', 'gpt3', 'gpt3', 'gpt3', 'gpt3', 'gpt3', 'gpt3', 'gpt3', 'gpt3', 'gpt3', 'gpt3', 'gpt3', 'gpt3', 'gpt3', 'gpt3', 'gpt3', 'gpt3', 'gpt3', 'gpt3', 'gpt3', 'gpt3', 'gpt3', 'gpt3', 'gpt3', 'gpt3', 'gpt3', 'gpt3', 'gpt3', 'gpt3', 'gpt3', 'gpt3', 'gpt3', 'gpt3', 'gpt3', 'gpt3', 'gpt3', 'gpt3', 'gpt3', 'gpt3', 'gpt3', 'gpt3', 'gpt3', 'gpt3', 'gpt3', 'gpt3', 'gpt3', 'gpt3', 'gpt3', 'gpt3', 'gpt3', 'gpt3', 'gpt3', 'gpt3', 'gpt3', 'gpt3', 'gpt3', 'gpt3', 'gpt3', 'gpt3', 'gpt3', 'gpt3', 'gpt3', 'gpt3', 'gpt3', 'gpt3', 'gpt3', 'gpt3', 'gpt3', 'gpt3', 'gpt3', 'gpt3', 'gpt3', 'gpt3', 'gpt3', 'gpt3', 'gpt3', 'gpt3', 'gpt3', 'gpt3', 'gpt3', 'gpt3', 'gpt3', 'gpt3', 'gpt3', 'gpt3', 'gpt3', 'gpt3', 'gpt3', 'gpt3', 'gpt3', 'gpt3', 'gpt3', 'gpt3', 'gpt3', 'gpt3', 'gpt3', 'gpt3', 'gpt3', 'gpt3', 'gpt3', 'gpt3', 'gpt3', 'gpt3', 'gpt3', 'gpt3', 'gpt3', 'gpt3', 'gpt3', 'gpt3', 'gpt3', 'gpt3', 'gpt3', 'gpt3', 'gpt3', 'gpt3', 'gpt3', 'gpt3', 'gpt3', 'gpt3', 'gpt3', 'gpt3', 'gpt3', 'gpt3', 'gpt3', 'gpt3', 'gpt3', 'gpt3', 'gpt3', 'gpt3', 'gpt3', 'gpt3', 'gpt3', 'gpt3', 'gpt3', 'gpt3', 'gpt3', 'gpt3', 'gpt3', 'gpt3', 'gpt3', 'gpt3', 'gpt3', 'gpt3', 'gpt3', 'gpt3', 'gpt3', 'gpt3', 'gpt3', 'gpt3', 'gpt3', 'gpt3', 'gpt3', 'gpt3', 'gpt3', 'gpt3', 'gpt3', 'gpt3', 'gpt3', 'gpt3', 'gpt3', 'gpt3', 'gpt3', 'gpt3', 'gpt3', 'gpt3', 'gpt3', 'gpt3', 'gpt3', 'gpt3', 'gpt3', 'gpt3', 'gpt3', 'gpt3', 'gpt3', 'gpt3', 'gpt3', 'gpt3', 'gpt3', 'gpt3', 'gpt3', 'gpt3', 'gpt3', 'gpt3', 'gpt3', 'gpt3', 'gpt3', 'gpt3', 'gpt3', 'gpt3', 'gpt3', 'gpt3', 'gpt3', 'gpt3', 'gpt3', 'gpt3', 'gpt3', 'gpt3', 'gpt3', 'gpt3', 'gpt3', 'gpt3', 'gpt3', 'gpt3', 'gpt3', 'gpt3', 'gpt3', 'gpt3', 'gpt3', 'gpt3', 'gpt3', 'gpt3', 'gpt3', 'gpt3', 'gpt3', 'gpt3', 'gpt3', 'gpt3', 'gpt3', 'gpt3', 'gpt3', 'gpt3', 'gpt3', 'gpt3', 'gpt3', 'gpt3', 'gpt3', 'gpt3', 'gpt3', 'gpt3', 'gpt3', 'gpt3', 'gpt3', 'gpt3', 'gpt3', 'gpt3', 'gpt3', 'gpt3', 'gpt3', 'gpt3', 'gpt3', 'gpt3', 'gpt3', 'gpt3', 'gpt3', 'gpt3', 'gpt3', 'gpt3', 'gpt3', 'gpt3', 'gpt3', 'gpt3', 'gpt3', 'gpt3', 'gpt3', 'gpt3', 'gpt3', 'gpt3', 'gpt3', 'gpt3', 'gpt3', 'gpt3', 'gpt3', 'gpt3', 'gpt3', 'gpt3', 'gpt3', 'gpt3', 'gpt3', 'gpt3', 'gpt3', 'gpt3', 'gpt3', 'gpt3', 'gpt3', 'gpt3', 'gpt3', 'gpt3', 'gpt3', 'gpt3', 'gpt3', 'gpt3', 'gpt3', 'gpt3', 'gpt3', 'gpt3', 'gpt3', 'gpt3', 'gpt3', 'gpt3', 'gpt3', 'gpt3', 'gpt3', 'gpt3', 'gpt3', 'gpt3', 'gpt3', 'gpt3', 'gpt3', 'gpt3', 'gpt3', 'gpt3', 'gpt3', 'gpt3', 'gpt3', 'gpt3', 'gpt3', 'gpt3', 'gpt3', 'gpt3', 'gpt3', 'gpt3', 'gpt3', 'gpt3', 'gpt3', 'gpt3', 'gpt3', 'gpt3', 'gpt3', 'gpt3', 'gpt3', 'gpt3', 'gpt3', 'gpt3', 'gpt3', 'gpt3', 'gpt3', 'gpt3', 'gpt3', 'gpt3', 'gpt3', 'gpt3', 'gpt3', 'gpt3', 'gpt3', 'gpt3', 'gpt3', 'gpt3', 'gpt3', 'gpt3', 'gpt3', 'gpt3', 'gpt3', 'gpt3', 'gpt3', 'gpt3', 'gpt3', 'gpt3', 'gpt3', 'gpt3', 'gpt3', 'gpt3', 'gpt3', 'gpt3', 'gpt3', 'gpt3', 'gpt3', 'gpt3', 'gpt3', 'gpt3', 'gpt3', 'gpt3', 'gpt3', 'gpt3', 'gpt3', 'gpt3', 'gpt3', 'gpt3', 'gpt3', 'gpt3', 'gpt3', 'gpt3', 'gpt3', 'gpt3', 'gpt3', 'gpt3', 'gpt3', 'gpt3', 'gpt3', 'gpt3', 'gpt3', 'gpt3', 'gpt3', 'gpt3', 'gpt3', 'gpt3', 'gpt3', 'gpt3', 'gpt3', 'gpt3', 'gpt3', 'gpt3', 'gpt3', 'gpt3', 'gpt3', 'gpt3', 'gpt3', 'gpt3', 'gpt3', 'gpt3', 'gpt3', 'gpt3', 'gpt3', 'gpt3', 'gpt3', 'gpt3', 'gpt3', 'gpt3', 'gpt3', 'gpt3', 'gpt3', 'gpt3', 'gpt3', 'gpt3', 'gpt3', 'gpt3', 'gpt3', 'gpt3', 'gpt3', 'gpt3', 'gpt3', 'gpt3', 'gpt3', 'gpt3', 'gpt3', 'gpt3', 'gpt3', 'gpt3', 'gpt3', 'gpt3', 'gpt3', 'gpt3', 'gpt3', 'gpt3', 'gpt3', 'gpt3', 'gpt3', 'gpt3', 'gpt3', 'gpt3', 'gpt3', 'gpt3', 'gpt3', 'gpt3', 'gpt3', 'gpt3', 'gpt3', 'gpt3', 'gpt3', 'gpt3', 'gpt3', 'gpt3', 'gpt3', 'gpt3', 'gpt3', 'gpt3', 'gpt3', 'gpt3', 'gpt3', 'gpt3', 'gpt3', 'gpt3', 'gpt3', 'gpt3', 'gpt3', 'gpt3', 'gpt3', 'gpt3', 'gpt3', 'gpt3', 'gpt3', 'gpt3', 'gpt3', 'gpt3', 'gpt3', 'gpt3', 'gpt3', 'gpt3', 'gpt3', 'gpt3', 'gpt3', 'gpt3', 'gpt3', 'gpt3', 'gpt3', 'gpt3', 'gpt3', 'gpt3', 'gpt3', 'gpt3', 'gpt3', 'gpt3', 'gpt3', 'gpt3', 'gpt3', 'gpt3', 'gpt3', 'gpt3', 'gpt3', 'gpt3', 'gpt3', 'gpt3', 'gpt3', 'gpt3', 'gpt3', 'gpt3', 'gpt3', 'gpt3', 'gpt3', 'gpt3', 'gpt3', 'gpt3', 'gpt3', 'gpt3', 'gpt3', 'gpt3', 'gpt3', 'gpt3', 'gpt3', 'gpt3', 'gpt3', 'gpt3', 'gpt3', 'gpt3', 'gpt3', 'gpt3', 'gpt3', 'gpt3', 'gpt3', 'gpt3', 'gpt3', 'gpt3', 'gpt3', 'gpt3', 'gpt3', 'gpt3', 'gpt3', 'gpt3', 'gpt3', 'gpt3', 'gpt3', 'gpt3', 'gpt3', 'gpt3', 'gpt3', 'gpt3', 'gpt3', 'gpt3', 'gpt3', 'gpt3', 'gpt3', 'gpt3', 'gpt3', 'gpt3', 'gpt3', 'gpt3', 'gpt3', 'gpt3', 'gpt3', 'gpt3', 'gpt3', 'gpt3', 'gpt3', 'gpt3', 'gpt3', 'gpt3', 'gpt3', 'gpt3', 'gpt3', 'gpt3', 'gpt3', 'gpt3', 'gpt3', 'gpt3', 'gpt3', 'gpt3', 'gpt3', 'gpt3', 'gpt3', 'gpt3', 'gpt3', 'gpt3', 'gpt3', 'gpt3', 'gpt3', 'gpt3', 'gpt3', 'gpt3', 'gpt3', 'gpt3', 'gpt3', 'gpt3', 'gpt3', 'gpt3', 'gpt3', 'gpt3', 'gpt3', 'gpt3', 'gpt3', 'gpt3', 'gpt3', 'gpt3', 'gpt3', 'gpt3', 'gpt3', 'gpt3', 'gpt3', 'gpt3', 'gpt3', 'gpt3', 'gpt3', 'gpt3', 'gpt3', 'gpt3', 'gpt3', 'gpt3', 'gpt3', 'gpt3', 'gpt3', 'gpt3', 'gpt3', 'gpt3', 'gpt3', 'gpt3', 'gpt3', 'gpt3', 'gpt3', 'gpt3', 'gpt3', 'gpt3', 'gpt3', 'gpt3', 'gpt3', 'gpt3', 'gpt3', 'gpt3', 'gpt3', 'gpt3', 'gpt3', 'gpt3', 'gpt3', 'gpt3', 'gpt3', 'gpt3', 'gpt3', 'gpt3', 'gpt3', 'gpt3', 'gpt3', 'gpt3', 'gpt3', 'gpt3', 'gpt3', 'gpt3', 'gpt3', 'gpt3', 'gpt3', 'gpt3', 'gpt3', 'gpt3', 'gpt3', 'gpt3', 'gpt3', 'gpt3', 'gpt3', 'gpt3', 'gpt3', 'gpt3', 'gpt3', 'gpt3', 'gpt3', 'gpt3', 'gpt3', 'gpt3', 'gpt3', 'gpt3', 'gpt3', 'gpt3', 'gpt3', 'gpt3', 'gpt3', 'gpt3', 'gpt3', 'gpt3', 'gpt3', 'gpt3', 'gpt3', 'gpt3', 'gpt3', 'gpt3', 'gpt3', 'gpt3', 'gpt3', 'gpt3', 'gpt3', 'gpt3', 'gpt3', 'gpt3', 'gpt3', 'gpt3', 'gpt3', 'gpt3', 'gpt3', 'gpt3', 'gpt3', 'gpt3', 'gpt3', 'gpt3', 'gpt3', 'gpt3', 'gpt3', 'gpt3', 'gpt3', 'gpt3', 'gpt3', 'gpt3', 'gpt3', 'gpt3', 'gpt3', 'gpt3', 'gpt3', 'gpt3', 'gpt3', 'gpt3', 'gpt3', 'gpt3', 'gpt3', 'gpt3', 'gpt3', 'gpt3', 'gpt3', 'gpt3', 'gpt3', 'gpt3', 'gpt3', 'gpt3', 'gpt3', 'gpt3', 'gpt3', 'gpt3', 'gpt3', 'gpt3', 'gpt3', 'gpt3', 'gpt3', 'gpt3', 'gpt3', 'gpt3', 'gpt3', 'gpt3', 'gpt3', 'gpt3', 'gpt3', 'gpt3', 'gpt3', 'gpt3', 'gpt3', 'gpt3', 'gpt3', 'gpt3', 'gpt3', 'gpt3', 'gpt3', 'gpt3', 'gpt3', 'gpt3', 'gpt3', 'gpt3', 'gpt3', 'gpt3', 'gpt3', 'gpt3', 'gpt3', 'gpt3', 'gpt3', 'gpt3', 'gpt3', 'gpt3', 'gpt3', 'gpt3', 'gpt3', 'gpt3', 'gpt3', 'gpt3', 'gpt3', 'gpt3', 'gpt3', 'gpt3', 'gpt3', 'gpt3', 'gpt3', 'gpt3', 'gpt3', 'gpt3', 'gpt3', 'gpt3', 'gpt3', 'gpt3', 'gpt3', 'gpt3', 'gpt3', 'gpt3', 'gpt3', 'gpt3', 'gpt3', 'gpt3', 'gpt3', 'gpt3', 'gpt3', 'gpt3', 'gpt3', 'gpt3', 'gpt3', 'gpt3', 'gpt3', 'gpt3', 'gpt3', 'gpt3', 'gpt3', 'gpt3', 'gpt3', 'gpt3', 'gpt3', 'gpt3', 'gpt3', 'gpt3', 'gpt3', 'gpt3', 'gpt3', 'gpt3', 'gpt3', 'gpt3', 'gpt3', 'gpt3', 'gpt3', 'gpt3', 'gpt3', 'gpt3', 'gpt3', 'gpt3', 'gpt3', 'gpt3', 'gpt3', 'gpt3', 'gpt4', 'gpt4', 'gpt4', 'gpt4', 'gpt4', 'gpt4', 'gpt4', 'gpt4', 'gpt4', 'gpt4', 'gpt4', 'gpt4', 'gpt4', 'gpt4', 'gpt4', 'gpt4', 'gpt4', 'gpt4', 'gpt4', 'gpt4', 'gpt4', 'gpt4', 'gpt4', 'gpt4', 'gpt4', 'gpt4', 'gpt4', 'gpt4', 'gpt4', 'gpt4', 'gpt4', 'gpt4', 'gpt4', 'gpt4', 'gpt4', 'gpt4', 'gpt4', 'gpt4', 'gpt4', 'gpt4', 'gpt4', 'gpt4', 'gpt4', 'gpt4', 'gpt4', 'gpt4', 'gpt4', 'gpt4', 'gpt4', 'gpt4', 'gpt4', 'gpt4', 'gpt4', 'gpt4', 'gpt4', 'gpt4', 'gpt4', 'gpt4', 'gpt4', 'gpt4', 'gpt4', 'gpt4', 'gpt4', 'gpt4', 'gpt4', 'gpt4', 'gpt4', 'gpt4', 'gpt4', 'gpt4', 'gpt4', 'gpt4', 'gpt4', 'gpt4', 'gpt4', 'gpt4', 'gpt4', 'gpt4', 'gpt4', 'gpt4', 'gpt4', 'gpt4', 'gpt4', 'gpt4', 'gpt4', 'gpt4', 'gpt4', 'gpt4', 'gpt4', 'gpt4', 'gpt4', 'gpt4', 'gpt4', 'gpt4', 'gpt4', 'gpt4', 'gpt4', 'gpt4', 'gpt4', 'gpt4', 'gpt4', 'gpt4', 'gpt4', 'gpt4', 'gpt4', 'gpt4', 'gpt4', 'gpt4', 'gpt4', 'gpt4', 'gpt4', 'gpt4', 'gpt4', 'gpt4', 'gpt4', 'gpt4', 'gpt4', 'gpt4', 'gpt4', 'gpt4', 'gpt4', 'gpt4', 'gpt4', 'gpt4', 'gpt4', 'gpt4', 'gpt4', 'gpt4', 'gpt4', 'gpt4', 'gpt4', 'gpt4', 'gpt4', 'gpt4', 'gpt4', 'gpt4', 'gpt4', 'gpt4', 'gpt4', 'gpt4', 'gpt4', 'gpt4', 'gpt4', 'gpt4', 'gpt4', 'gpt4', 'gpt4', 'gpt4', 'gpt4', 'gpt4', 'gpt4', 'gpt4', 'gpt4', 'gpt4', 'gpt4', 'gpt4', 'gpt4', 'gpt4', 'gpt4', 'gpt4', 'gpt4', 'gpt4', 'gpt4', 'gpt4', 'gpt4', 'gpt4', 'gpt4', 'gpt4', 'gpt4', 'gpt4', 'gpt4', 'gpt4', 'gpt4', 'gpt4', 'gpt4', 'gpt4', 'gpt4', 'gpt4', 'gpt4', 'gpt4', 'gpt4', 'gpt4', 'gpt4', 'gpt4', 'gpt4', 'gpt4', 'gpt4', 'gpt4', 'gpt4', 'gpt4', 'gpt4', 'gpt4', 'gpt4', 'gpt4', 'gpt4', 'gpt4', 'gpt4', 'gpt4', 'gpt4', 'gpt4', 'gpt4', 'gpt4', 'gpt4', 'gpt4', 'gpt4', 'gpt4', 'gpt4', 'gpt4', 'gpt4', 'gpt4', 'gpt4', 'gpt4', 'gpt4', 'gpt4', 'gpt4', 'gpt4', 'gpt4', 'gpt4', 'gpt4', 'gpt4', 'gpt4', 'gpt4', 'gpt4', 'gpt4', 'gpt4', 'gpt4', 'gpt4', 'gpt4', 'gpt4', 'gpt4', 'gpt4', 'gpt4', 'gpt4', 'gpt4', 'gpt4', 'gpt4', 'gpt4', 'gpt4', 'gpt4', 'gpt4', 'gpt4', 'gpt4', 'gpt4', 'gpt4', 'gpt4', 'gpt4', 'gpt4', 'gpt4', 'gpt4', 'gpt4', 'gpt4', 'gpt4', 'gpt4', 'gpt4', 'gpt4', 'gpt4', 'gpt4', 'gpt4', 'gpt4', 'gpt4', 'gpt4', 'gpt4', 'gpt4', 'gpt4', 'gpt4', 'gpt4', 'gpt4', 'gpt4', 'gpt4', 'gpt4', 'gpt4', 'gpt4', 'gpt4', 'gpt4', 'gpt4', 'gpt4', 'gpt4', 'gpt4', 'gpt4', 'gpt4', 'gpt4', 'gpt4', 'gpt4', 'gpt4', 'gpt4', 'gpt4', 'gpt4', 'gpt4', 'gpt4', 'gpt4', 'gpt4', 'gpt4', 'gpt4', 'gpt4', 'gpt4', 'gpt4', 'gpt4', 'gpt4', 'gpt4', 'gpt4', 'gpt4', 'gpt4', 'gpt4', 'gpt4', 'gpt4', 'gpt4', 'gpt4', 'gpt4', 'gpt4', 'gpt4', 'gpt4', 'gpt4', 'gpt4', 'gpt4', 'gpt4', 'gpt4', 'gpt4', 'gpt4', 'gpt4', 'gpt4', 'gpt4', 'gpt4', 'gpt4', 'gpt4', 'gpt4', 'gpt4', 'gpt4', 'gpt4', 'gpt4', 'gpt4', 'gpt4', 'gpt4', 'gpt4', 'gpt4', 'gpt4', 'gpt4', 'gpt4', 'gpt4', 'gpt4', 'gpt4', 'gpt4', 'gpt4', 'gpt4', 'gpt4', 'gpt4', 'gpt4', 'gpt4', 'gpt4', 'gpt4', 'gpt4', 'gpt4', 'gpt4', 'gpt4', 'gpt4', 'gpt4', 'gpt4', 'gpt4', 'gpt4', 'gpt4', 'gpt4', 'gpt4', 'gpt4', 'gpt4', 'gpt4', 'gpt4', 'gpt4', 'gpt4', 'gpt4', 'gpt4', 'gpt4', 'gpt4', 'gpt4', 'gpt4', 'gpt4', 'gpt4', 'gpt4', 'gpt4', 'gpt4', 'gpt4', 'gpt4', 'gpt4', 'gpt4', 'gpt4', 'gpt4', 'gpt4', 'gpt4', 'gpt4', 'gpt4', 'gpt4', 'gpt4', 'gpt4', 'gpt4', 'gpt4', 'gpt4', 'gpt4', 'gpt4', 'gpt4', 'gpt4', 'gpt4', 'gpt4', 'gpt4', 'gpt4', 'gpt4', 'gpt4', 'gpt4', 'gpt4', 'gpt4', 'gpt4', 'gpt4', 'gpt4', 'gpt4', 'gpt4', 'gpt4', 'gpt4', 'gpt4', 'gpt4', 'gpt4', 'gpt4', 'gpt4', 'gpt4', 'gpt4', 'gpt4', 'gpt4', 'gpt4', 'gpt4', 'gpt4', 'gpt4', 'gpt4', 'gpt4', 'gpt4', 'gpt4', 'gpt4', 'gpt4', 'gpt4', 'gpt4', 'gpt4', 'gpt4', 'gpt4', 'gpt4', 'gpt4', 'gpt4', 'gpt4', 'gpt4', 'gpt4', 'gpt4', 'gpt4', 'gpt4', 'gpt4', 'gpt4', 'gpt4', 'gpt4', 'gpt4', 'gpt4', 'gpt4', 'gpt4', 'gpt4', 'gpt4', 'gpt4', 'gpt4', 'gpt4', 'gpt4', 'gpt4', 'gpt4', 'gpt4', 'gpt4', 'gpt4', 'gpt4', 'gpt4', 'gpt4', 'gpt4', 'gpt4', 'gpt4', 'gpt4', 'gpt4', 'gpt4', 'gpt4', 'gpt4', 'gpt4', 'gpt4', 'gpt4', 'gpt4', 'gpt4', 'gpt4', 'gpt4', 'gpt4', 'gpt4', 'gpt4', 'gpt4', 'gpt4', 'gpt4', 'gpt4', 'gpt4', 'gpt4', 'gpt4', 'gpt4', 'gpt4', 'gpt4', 'gpt4', 'gpt4', 'gpt4', 'gpt4', 'gpt4', 'gpt4', 'gpt4', 'gpt4', 'gpt4', 'gpt4', 'gpt4', 'gpt4', 'gpt4', 'gpt4', 'gpt4', 'gpt4', 'gpt4', 'gpt4', 'gpt4', 'gpt4', 'gpt4', 'gpt4', 'gpt4', 'gpt4', 'gpt4', 'gpt4', 'gpt4', 'gpt4', 'gpt4', 'gpt4', 'gpt4', 'gpt4', 'gpt4', 'gpt4', 'gpt4', 'gpt4', 'gpt4', 'gpt4', 'gpt4', 'gpt4', 'gpt4', 'gpt4', 'gpt4', 'gpt4', 'gpt4', 'gpt4', 'gpt4', 'gpt4', 'gpt4', 'gpt4', 'gpt4', 'gpt4', 'gpt4', 'gpt4', 'gpt4', 'gpt4', 'gpt4', 'gpt4', 'gpt4', 'gpt4', 'gpt4', 'gpt4', 'gpt4', 'gpt4', 'gpt4', 'gpt4', 'gpt4', 'gpt4', 'gpt4', 'gpt4', 'gpt4', 'gpt4', 'gpt4', 'gpt4', 'gpt4', 'gpt4', 'gpt4', 'gpt4', 'gpt4', 'gpt4', 'gpt4', 'gpt4', 'gpt4', 'gpt4', 'gpt4', 'gpt4', 'gpt4', 'gpt4', 'gpt4', 'gpt4', 'gpt4', 'gpt4', 'gpt4', 'gpt4', 'gpt4', 'gpt4', 'gpt4', 'gpt4', 'gpt4', 'gpt4', 'gpt4', 'gpt4', 'gpt4', 'gpt4', 'gpt4', 'gpt4', 'gpt4', 'gpt4', 'gpt4', 'gpt4', 'gpt4', 'gpt4', 'gpt4', 'gpt4', 'gpt4', 'gpt4', 'gpt4', 'gpt4', 'gpt4', 'gpt4', 'gpt4', 'gpt4', 'gpt4', 'gpt4', 'gpt4', 'gpt4', 'gpt4', 'gpt4', 'gpt4', 'gpt4', 'gpt4', 'gpt4', 'gpt4', 'gpt4', 'gpt4', 'gpt4', 'gpt4', 'gpt4', 'gpt4', 'gpt4', 'gpt4', 'gpt4', 'gpt4', 'gpt4', 'gpt4', 'gpt4', 'gpt4', 'gpt4', 'gpt4', 'gpt4', 'gpt4', 'gpt4', 'gpt4', 'gpt4', 'gpt4', 'gpt4', 'gpt4', 'gpt4', 'gpt4', 'gpt4', 'gpt4', 'gpt4', 'gpt4', 'gpt4', 'gpt4', 'gpt4', 'gpt4', 'gpt4', 'gpt4', 'gpt4', 'gpt4', 'gpt4', 'gpt4', 'gpt4', 'gpt4', 'gpt4', 'gpt4', 'gpt4', 'gpt4', 'gpt4', 'gpt4', 'gpt4', 'gpt4', 'gpt4', 'gpt4', 'gpt4', 'gpt4', 'gpt4', 'gpt4', 'gpt4', 'gpt4', 'gpt4', 'gpt4', 'gpt4', 'gpt4', 'gpt4', 'gpt4', 'gpt4', 'gpt4', 'gpt4', 'gpt4', 'gpt4', 'gpt4', 'gpt4', 'gpt4', 'gpt4', 'gpt4', 'gpt4', 'gpt4', 'gpt4', 'gpt4', 'gpt4', 'gpt4', 'gpt4', 'gpt4', 'gpt4', 'gpt4', 'gpt4', 'gpt4', 'gpt4', 'gpt4', 'gpt4', 'gpt4', 'gpt4', 'gpt4', 'gpt4', 'gpt4', 'gpt4', 'gpt4', 'gpt4', 'gpt4', 'gpt4', 'gpt4', 'gpt4', 'gpt4', 'gpt4', 'gpt4', 'gpt4', 'gpt4', 'gpt4', 'gpt4', 'gpt4', 'gpt4', 'gpt4', 'gpt4', 'gpt4', 'gpt4', 'gpt4', 'gpt4', 'gpt4', 'gpt4', 'gpt4', 'gpt4', 'gpt4', 'gpt4', 'gpt4', 'gpt4', 'gpt4', 'gpt4', 'gpt4', 'gpt4', 'gpt4', 'gpt4', 'gpt4', 'gpt4', 'gpt4', 'gpt4', 'gpt4', 'gpt4', 'gpt4', 'gpt4', 'gpt4', 'gpt4', 'gpt4', 'gpt4', 'gpt4', 'gpt4', 'gpt4', 'gpt4', 'gpt4', 'gpt4', 'gpt4', 'gpt4', 'gpt4', 'gpt4', 'gpt4', 'gpt4', 'gpt4', 'gpt4', 'gpt4', 'gpt4', 'gpt4', 'gpt4', 'gpt4', 'gpt4', 'gpt4', 'gpt4', 'gpt4', 'gpt4', 'gpt4', 'gpt4', 'gpt4', 'gpt4', 'gpt4', 'gpt4', 'gpt4', 'gpt4', 'gpt4', 'gpt4', 'gpt4', 'gpt4', 'gpt4', 'gpt4', 'gpt4', 'gpt4', 'gpt4', 'gpt4', 'gpt4', 'gpt4', 'gpt4', 'gpt4', 'gpt4', 'gpt4', 'gpt4', 'gpt4', 'gpt4', 'gpt4', 'gpt4', 'gpt4', 'gpt4', 'gpt4', 'gpt4', 'gpt4', 'gpt4', 'gpt4', 'gpt4', 'gpt4', 'gpt4', 'gpt4', 'gpt4', 'gpt4', 'gpt4', 'gpt4', 'gpt4', 'gpt4', 'gpt4', 'gpt4', 'gpt4', 'gpt4', 'gpt4', 'gpt4', 'gpt4', 'gpt4', 'gpt4', 'gpt4', 'gpt4', 'gpt4', 'gpt4', 'gpt4', 'gpt4', 'gpt4', 'gpt4', 'gpt4', 'gpt4', 'gpt4', 'gpt4', 'gpt4', 'gpt4', 'gpt4', 'gpt4', 'gpt4', 'gpt4', 'gpt4', 'gpt4', 'gpt4', 'gpt4', 'gpt4', 'gpt4', 'gpt4', 'gpt4', 'gpt4', 'gpt4', 'gpt4', 'gpt4', 'gpt4', 'gpt4', 'gpt4', 'gpt4', 'gpt4', 'gpt4', 'gpt4', 'gpt4', 'gpt4', 'gpt4', 'gpt4', 'gpt4', 'gpt4', 'gpt4', 'gpt4', 'gpt4', 'gpt4', 'gpt4', 'gpt4', 'gpt4', 'gpt4', 'gpt4', 'gpt4', 'gpt4', 'gpt4', 'gpt4', 'gpt4', 'gpt4', 'gpt4', 'gpt4', 'gpt4', 'gpt4', 'gpt4', 'gpt4', 'gpt4', 'gpt4', 'gpt4', 'gpt4', 'gpt4', 'gpt4', 'gpt4', 'gpt4', 'gpt4', 'gpt4', 'gpt4', 'gpt4', 'gpt4', 'gpt4', 'gpt4', 'gpt4', 'gpt4', 'gpt4', 'gpt4', 'gpt4', 'gpt4', 'gpt4', 'gpt4', 'gpt4', 'gpt4', 'gpt4', 'gpt4', 'gpt4', 'gpt4', 'gpt4', 'gpt4', 'gpt4', 'gpt4', 'gpt4', 'gpt4', 'gpt4', 'gpt4', 'gpt4', 'gpt4', 'gpt4', 'gpt4', 'gpt4', 'gpt4', 'gpt4', 'gpt4', 'gpt4', 'gpt4', 'gpt4', 'gpt4', 'gpt4', 'gpt4', 'gpt4', 'gpt4', 'gpt4', 'gpt4', 'gpt4', 'gpt4', 'gpt4', 'gpt4', 'gpt4', 'gpt4', 'gpt4', 'gpt4', 'gpt4', 'gpt4', 'gpt4', 'gpt4', 'gpt4', 'gpt4', 'gpt4', 'gpt4', 'gpt4', 'gpt4', 'gpt4', 'gpt4', 'gpt4', 'gpt4', 'gpt4', 'gpt4', 'gpt4', 'gpt4', 'gpt4', 'gpt4', 'gpt4', 'gpt4', 'gpt4', 'gpt4', 'gpt4', 'gpt4', 'gpt4', 'gpt4', 'gpt4', 'gpt4', 'gpt4', 'gpt4', 'gpt4', 'gpt4', 'gpt4', 'gpt4', 'gpt4', 'gpt4', 'gpt4', 'gpt4', 'gpt4', 'gpt4', 'gpt4', 'gpt4', 'gpt4', 'gpt4', 'gpt4', 'gpt4', 'gpt4', 'gpt4', 'gpt4', 'gpt4', 'gpt4', 'gpt4', 'gpt4', 'gpt4', 'gpt4', 'gpt4', 'gpt4', 'gpt4', 'gpt4', 'gpt4', 'gpt4', 'gpt4', 'gpt4', 'gpt4', 'gpt4', 'gpt4', 'gpt4', 'gpt4', 'gpt4', 'gpt4', 'gpt4', 'gpt4', 'gpt4', 'gpt4', 'gpt4', 'gpt4', 'gpt4', 'gpt4', 'gpt4', 'gpt4', 'gpt4', 'gpt4', 'gpt4', 'gpt4', 'gpt4', 'gpt4', 'gpt4', 'gpt4', 'gpt4', 'gpt4', 'gpt4', 'gpt4', 'gpt4', 'gpt4', 'gpt4', 'gpt4', 'gpt4', 'gpt4', 'gpt4', 'gpt4', 'gpt4', 'gpt4', 'gpt4', 'gpt4', 'gpt4', 'gpt4', 'gpt4', 'gpt4', 'gpt4', 'gpt4', 'gpt4', 'gpt4', 'gpt4', 'gpt4', 'gpt4', 'gpt4', 'gpt4', 'gpt4', 'gpt4', 'gpt4', 'gpt4', 'gpt4', 'gpt4', 'gpt4', 'gpt4', 'gpt4', 'gpt4', 'gpt4', 'gpt4', 'gpt4', 'gpt4', 'gpt4', 'gpt4', 'gpt4', 'gpt4', 'gpt4', 'gpt4', 'gpt4', 'gpt4', 'gpt4', 'gpt4', 'gpt4', 'gpt4', 'gpt4', 'gpt4', 'gpt4', 'gpt4', 'gpt4', 'gpt4', 'gpt4', 'gpt4', 'gpt4', 'gpt4', 'gpt4', 'gpt4', 'gpt4', 'gpt4', 'gpt4', 'gpt4', 'gpt4', 'gpt4', 'gpt4', 'gpt4', 'gpt4', 'gpt4', 'gpt4', 'gpt4', 'gpt4', 'gpt4', 'gpt4', 'gpt4', 'gpt4', 'gpt4', 'gpt4', 'gpt4', 'gpt4', 'gpt4', 'gpt4', 'gpt4', 'gpt4', 'gpt4', 'gpt4', 'gpt4', 'gpt4', 'gpt4', 'gpt4', 'gpt4', 'gpt4', 'gpt4', 'gpt4', 'gpt4', 'gpt4', 'gpt4', 'gpt4', 'gpt4', 'gpt4', 'gpt4', 'gpt4', 'gpt4', 'gpt4', 'gpt4', 'gpt4', 'gpt4', 'gpt4', 'gpt4', 'gpt4', 'gpt4', 'gpt4', 'gpt4', 'gpt4', 'gpt4', 'gpt4', 'gpt4', 'gpt4', 'gpt4', 'gpt4', 'gpt4', 'gpt4', 'gpt4', 'gpt4', 'gpt4', 'gpt4', 'gpt4', 'gpt4', 'gpt4', 'gpt4', 'gpt4', 'gpt4', 'gpt4', 'gpt4', 'gpt4', 'gpt4', 'gpt4', 'gpt4', 'gpt4', 'gpt4', 'gpt4', 'gpt4', 'gpt4', 'gpt4', 'gpt4', 'gpt4', 'gpt4', 'gpt4', 'gpt4', 'gpt4', 'gpt4', 'gpt4', 'gpt4', 'gpt4', 'gpt4', 'gpt4', 'gpt4', 'gpt4', 'gpt4', 'gpt4', 'gpt4', 'gpt4', 'gpt4', 'gpt4', 'gpt4', 'gpt4', 'gpt4', 'gpt4', 'gpt4', 'gpt4', 'gpt4', 'gpt4', 'gpt4', 'gpt4', 'gpt4', 'gpt4', 'gpt4', 'gpt4', 'gpt4', 'gpt4', 'gpt4', 'gpt4', 'gpt4', 'gpt4', 'gpt4', 'gpt4', 'gpt4', 'gpt4', 'gpt4', 'gpt4', 'gpt4', 'gpt4', 'gpt4', 'gpt4', 'gpt4', 'gpt4', 'gpt4', 'gpt4', 'gpt4', 'gpt4', 'gpt4', 'gpt4', 'gpt4', 'gpt4', 'gpt4', 'gpt4', 'gpt4', 'gpt4', 'gpt4', 'gpt4', 'gpt4', 'gpt4', 'gpt4', 'gpt4', 'gpt4', 'gpt4', 'gpt4', 'gpt4', 'gpt4', 'gpt4', 'gpt4', 'gpt4', 'gpt4', 'gpt4', 'gpt4', 'gpt4', 'gpt4', 'gpt4', 'gpt4', 'gpt4', 'gpt4', 'gpt4', 'gpt4', 'gpt4', 'gpt4', 'gpt4', 'gpt4', 'gpt4', 'gpt4', 'gpt4', 'gpt4', 'gpt4', 'gpt4', 'gpt4', 'gpt4', 'gpt4', 'gpt4', 'gpt4', 'gpt4', 'gpt4', 'gpt4', 'gpt4', 'gpt4', 'gpt4', 'gpt4', 'gpt4', 'gpt4', 'gpt4', 'gpt4', 'gpt4', 'gpt4', 'gpt4', 'gpt4', 'gpt4', 'gpt4', 'gpt4', 'gpt4', 'gpt4', 'gpt4', 'gpt4', 'gpt4', 'gpt4', 'gpt4', 'gpt4', 'gpt4', 'gpt4', 'gpt4', 'gpt4', 'gpt4', 'gpt4', 'gpt4', 'gpt4', 'gpt4', 'gpt4', 'gpt4', 'gpt4', 'gpt4', 'gpt4', 'gpt4', 'gpt4', 'gpt4', 'gpt4', 'gpt4', 'gpt4', 'gpt4', 'gpt4', 'gpt4', 'gpt4', 'gpt4', 'gpt4', 'gpt4', 'gpt4', 'gpt4', 'gpt4', 'gpt4', 'gpt4', 'gpt4', 'gpt4', 'gpt4', 'gpt4', 'gpt4', 'gpt4', 'gpt4', 'gpt4', 'gpt4', 'gpt4', 'gpt4', 'gpt4', 'gpt4', 'gpt4', 'gpt4', 'gpt4', 'gpt4', 'gpt4', 'gpt4', 'gpt4', 'gpt4', 'gpt4', 'gpt4', 'gpt4', 'gpt4', 'gpt4', 'gpt4', 'gpt4', 'gpt4', 'gpt4', 'gpt4', 'gpt4', 'gpt4', 'gpt4', 'gpt4', 'gpt4', 'gpt4', 'gpt4', 'gpt4', 'gpt4', 'gpt4', 'gpt4', 'gpt4', 'gpt4', 'gpt4', 'gpt4', 'gpt4', 'gpt4', 'gpt4', 'gpt4', 'gpt4', 'gpt4', 'gpt4', 'gpt4', 'gpt4', 'gpt4', 'gpt4', 'gpt4', 'gpt4', 'gpt4', 'gpt4', 'gpt4', 'gpt4', 'gpt4', 'gpt4', 'gpt4', 'gpt4', 'gpt4', 'gpt4', 'gpt4', 'gpt4', 'gpt4', 'gpt4', 'gpt4', 'gpt4', 'gpt4', 'gpt4', 'gpt4', 'gpt4', 'gpt4', 'gpt4', 'gpt4', 'gpt4', 'gpt4', 'gpt4', 'gpt4', 'gpt4', 'gpt4', 'gpt4', 'gpt4', 'gpt4', 'gpt4', 'gpt4', 'gpt4', 'gpt4', 'gpt4', 'gpt4', 'gpt4', 'gpt4', 'gpt4', 'gpt4', 'gpt4', 'gpt4', 'gpt4', 'gpt4', 'gpt4', 'gpt4', 'gpt4', 'gpt4', 'gpt4', 'gpt4', 'gpt4', 'gpt4', 'gpt4', 'gpt4', 'gpt4', 'gpt4', 'gpt4', 'gpt4', 'gpt4', 'gpt4', 'gpt4', 'gpt4', 'gpt4', 'gpt4', 'gpt4', 'gpt4', 'gpt4', 'gpt4', 'gpt4', 'gpt4', 'gpt4', 'gpt4', 'gpt4', 'gpt4', 'gpt4', 'gpt4', 'gpt4', 'gpt4', 'gpt4', 'gpt4', 'gpt4', 'gpt4', 'gpt4', 'gpt4', 'gpt4', 'gpt4', 'gpt4', 'gpt4', 'gpt4', 'gpt4', 'gpt4', 'gpt4', 'gpt4', 'gpt4', 'gpt4', 'gpt4', 'gpt4', 'gpt4', 'gpt4', 'gpt4', 'gpt4', 'gpt4', 'gpt4', 'gpt4', 'gpt4', 'gpt4', 'gpt4', 'gpt4', 'gpt4', 'gpt4', 'gpt4', 'gpt4', 'gpt4', 'gpt4', 'gpt4', 'gpt4', 'gpt4', 'gpt4', 'gpt4', 'gpt4', 'gpt4', 'gpt4', 'gpt4', 'gpt4', 'gpt4', 'gpt4', 'gpt4', 'gpt4', 'gpt4', 'gpt4', 'gpt4', 'gpt4', 'gpt4', 'gpt4', 'gpt4', 'gpt4', 'gpt4', 'gpt4', 'gpt4', 'gpt4', 'gpt4', 'gpt4', 'gpt4', 'gpt4', 'gpt4', 'gpt4', 'gpt4', 'gpt4', 'gpt4', 'gpt4', 'gpt4', 'gpt4', 'gpt4', 'gpt4', 'gpt4', 'gpt4', 'gpt4', 'gpt4', 'gpt4', 'gpt4', 'gpt4', 'gpt4', 'gpt4', 'gpt4', 'gpt4', 'gpt4', 'gpt4', 'gpt4', 'gpt4', 'gpt4', 'gpt4', 'gpt4', 'gpt4', 'gpt4', 'gpt4', 'gpt4', 'gpt4', 'gpt4', 'gpt4', 'gpt4', 'gpt4', 'gpt4', 'gpt4', 'gpt4', 'gpt4', 'gpt4', 'gpt4', 'gpt4', 'gpt4', 'gpt4', 'gpt4', 'gpt4', 'gpt4', 'gpt4', 'gpt4', 'gpt4', 'gpt4', 'gpt4', 'gpt4', 'gpt4', 'gpt4', 'gpt4', 'gpt4', 'gpt4', 'gpt4', 'gpt4', 'gpt4', 'gpt4', 'gpt4', 'gpt4', 'gpt4', 'gpt4', 'gpt4', 'gpt4', 'gpt4', 'gpt4', 'gpt4', 'gpt4', 'gpt4', 'gpt4', 'gpt4', 'gpt4', 'gpt4', 'gpt4', 'gpt4', 'gpt4', 'gpt4', 'gpt4', 'gpt4', 'gpt4', 'gpt4', 'gpt4', 'gpt4', 'gpt4', 'gpt4', 'gpt4', 'gpt4', 'gpt4', 'gpt4', 'gpt4', 'gpt4', 'gpt4', 'gpt4', 'gpt4', 'gpt4', 'gpt4', 'gpt4', 'gpt4', 'gpt4', 'gpt4', 'gpt4', 'gpt4', 'gpt4', 'gpt4', 'gpt4', 'gpt4', 'gpt4', 'gpt4', 'gpt4', 'gpt4', 'gpt4', 'gpt4', 'gpt4', 'gpt4', 'gpt4', 'gpt4', 'gpt4', 'gpt4', 'gpt4', 'gpt4', 'gpt4', 'gpt4', 'gpt4', 'gpt4', 'gpt4', 'gpt4', 'gpt4', 'gpt4', 'gpt4', 'gpt4', 'gpt4', 'gpt4', 'gpt4', 'gpt4', 'gpt4', 'gpt4', 'gpt4', 'gpt4', 'gpt4', 'gpt4', 'gpt4', 'gpt4', 'gpt4', 'gpt4', 'gpt4', 'gpt4', 'gpt4', 'gpt4', 'gpt4', 'gpt4', 'gpt4', 'gpt4', 'gpt4', 'gpt4', 'gpt4', 'gpt4', 'gpt4', 'gpt4', 'gpt4', 'gpt4', 'gpt4', 'gpt4', 'gpt4', 'gpt4', 'gpt4', 'gpt4', 'gpt4', 'gpt4', 'gpt4', 'gpt4', 'gpt4', 'gpt4', 'gpt4', 'gpt4', 'gpt4', 'gpt4', 'gpt4', 'gpt4', 'gpt4', 'gpt4', 'gpt4', 'gpt4', 'gpt4', 'gpt4', 'gpt4', 'gpt4', 'gpt4', 'gpt4', 'gpt4', 'gpt4', 'gpt4', 'gpt4', 'gpt4', 'gpt4', 'gpt4', 'gpt4', 'gpt4', 'gpt4', 'gpt4', 'gpt4', 'gpt4', 'gpt4', 'gpt4', 'gpt4', 'gpt4', 'gpt4', 'gpt4', 'gpt4', 'gpt4', 'gpt4', 'gpt4', 'gpt4', 'gpt4', 'gpt4', 'gpt4', 'gpt4', 'gpt4', 'gpt4', 'gpt4', 'gpt4', 'gpt4', 'gpt4', 'gpt4', 'gpt4', 'gpt4', 'gpt4', 'gpt4', 'gpt4', 'gpt4', 'gpt4', 'gpt4', 'gpt4', 'gpt4', 'gpt4', 'gpt4', 'gpt4', 'gpt4', 'gpt4', 'gpt4', 'gpt4', 'gpt4', 'gpt4', 'gpt4', 'gpt4', 'gpt4', 'gpt4', 'gpt4', 'gpt4', 'gpt4', 'gpt4', 'gpt4', 'gpt4', 'gpt4', 'gpt4', 'gpt4', 'gpt4', 'gpt4', 'gpt4', 'gpt4', 'gpt4', 'gpt4', 'gpt4', 'gpt4', 'gpt4', 'gpt4', 'gpt4', 'gpt4', 'gpt4', 'gpt4', 'gpt4', 'gpt4', 'gpt4', 'gpt4', 'gpt4', 'gpt4', 'gpt4', 'gpt4', 'gpt4', 'gpt4', 'gpt4', 'gpt4', 'gpt4', 'gpt4', 'gpt4', 'gpt4', 'gpt4', 'gpt4', 'gpt4', 'gpt4', 'gpt4', 'gpt4', 'gpt4', 'gpt4', 'gpt4', 'gpt4', 'gpt4', 'gpt4', 'gpt4', 'gpt4', 'gpt4', 'gpt4', 'gpt4', 'gpt4', 'gpt4', 'gpt4', 'gpt4', 'gpt4', 'gpt4', 'gpt4', 'gpt4', 'gpt4', 'gpt4', 'gpt4', 'gpt4', 'gpt4', 'gpt4', 'gpt4', 'gpt4', 'gpt4', 'gpt4', 'gpt4', 'gpt4', 'gpt4', 'gpt4', 'gpt4', 'gpt4', 'gpt4', 'gpt4', 'gpt4', 'gpt4', 'gpt4', 'gpt4', 'gpt4', 'gpt4', 'gpt4', 'gpt4', 'gpt4', 'gpt4', 'gpt4', 'gpt4', 'gpt4', 'gpt4', 'gpt4', 'gpt4', 'gpt4', 'gpt4', 'gpt4', 'gpt4', 'gpt4', 'gpt4', 'gpt4', 'gpt4', 'gpt4', 'gpt4', 'gpt4', 'gpt4', 'gpt4', 'gpt4', 'gpt4', 'gpt4', 'gpt4', 'gpt4', 'gpt4', 'gpt4', 'gpt4', 'gpt4', 'gpt4', 'gpt4', 'gpt4', 'gpt4', 'gpt4', 'gpt4', 'gpt4', 'gpt4', 'gpt4', 'gpt4', 'gpt4', 'gpt4', 'gpt4', 'gpt4', 'gpt4', 'gpt4', 'gpt4', 'gpt4', 'gpt4', 'gpt4', 'gpt4', 'gpt4', 'gpt4', 'gpt4', 'gpt4', 'gpt4', 'gpt4', 'gpt4', 'gpt4', 'gpt4', 'gpt4', 'gpt4', 'gpt4', 'gpt4', 'gpt4', 'gpt4', 'gpt4', 'gpt4', 'gpt4', 'gpt4', 'gpt4', 'gpt4', 'gpt4', 'gpt4', 'gpt4', 'gpt4', 'gpt4', 'gpt4', 'gpt4', 'gpt4', 'gpt4', 'gpt4', 'gpt4', 'gpt4', 'gpt4', 'gpt4', 'gpt4', 'gpt4', 'gpt4', 'gpt4', 'gpt4', 'gpt4', 'gpt4', 'gpt4', 'gpt4', 'gpt4', 'gpt4', 'gpt4', 'gpt4', 'gpt4', 'gpt4', 'gpt4', 'gpt4', 'gpt4', 'gpt4', 'gpt4', 'gpt4', 'gpt4', 'gpt4', 'gpt4', 'gpt4', 'gpt4', 'gpt4', 'gpt4', 'gpt4', 'gpt4', 'gpt4', 'gpt4', 'gpt4', 'gpt4', 'gpt4', 'gpt4', 'gpt4', 'gpt4', 'gpt4', 'gpt4', 'gpt4', 'gpt4', 'gpt4', 'gpt4', 'gpt4', 'gpt4', 'gpt4', 'gpt4', 'gpt4', 'gpt4', 'gpt4', 'gpt4', 'gpt4', 'gpt4', 'gpt4', 'gpt4', 'gpt4', 'gpt4', 'gpt4', 'gpt4', 'gpt4', 'gpt4', 'gpt4', 'gpt4', 'gpt4', 'gpt4', 'gpt4', 'gpt4', 'gpt4', 'gpt4', 'gpt4', 'gpt4', 'gpt4', 'gpt4', 'gpt4', 'gpt4', 'gpt4', 'gpt4', 'gpt4', 'gpt4', 'gpt4', 'gpt4', 'gpt4', 'gpt4', 'gpt4', 'gpt4', 'gpt4', 'gpt4', 'gpt4', 'gpt4', 'gpt4', 'gpt4', 'gpt4', 'gpt4', 'gpt4', 'gpt4', 'gpt4', 'gpt4', 'gpt4', 'gpt4', 'gpt4', 'gpt4', 'gpt4', 'gpt4', 'gpt4', 'gpt4', 'gpt4', 'gpt4', 'gpt4', 'gpt4', 'gpt4', 'gpt4', 'gpt4', 'gpt4', 'gpt4', 'gpt4', 'gpt4', 'gpt4', 'gpt4', 'gpt4', 'gpt4', 'gpt4', 'gpt4', 'gpt4', 'gpt4', 'gpt4', 'gpt4', 'gpt4', 'gpt4', 'gpt4', 'gpt4', 'gpt4', 'gpt4', 'gpt4', 'gpt4', 'gpt4', 'gpt4', 'gpt4', 'gpt4', 'gpt4', 'gpt4', 'gpt4', 'gpt4', 'gpt4', 'gpt4', 'gpt4', 'gpt4', 'gpt4', 'gpt4', 'gpt4', 'gpt4', 'gpt4', 'gpt4', 'gpt4', 'gpt4', 'gpt4', 'gpt4', 'gpt4', 'gpt4', 'gpt4', 'gpt4', 'gpt4', 'gpt4', 'gpt4', 'gpt4', 'gpt4', 'gpt4', 'gpt4', 'gpt4', 'gpt4', 'gpt4', 'gpt4', 'gpt4', 'gpt4', 'gpt4', 'gpt4', 'gpt4', 'gpt4', 'gpt4', 'gpt4', 'gpt4', 'gpt4', 'gpt4', 'gpt4', 'gpt4', 'gpt4', 'gpt4', 'gpt4', 'gpt4', 'gpt4', 'gpt4', 'gpt4', 'gpt4', 'gpt4', 'gpt4', 'gpt4', 'gpt4', 'gpt4', 'gpt4', 'gpt4', 'gpt4', 'gpt4', 'gpt4', 'gpt4', 'gpt4', 'gpt4', 'gpt4', 'gpt4', 'gpt4', 'gpt4', 'gpt4', 'gpt4', 'gpt4', 'gpt4', 'gpt4', 'gpt4', 'gpt4', 'gpt4', 'gpt4', 'gpt4', 'gpt4', 'gpt4', 'gpt4', 'gpt4', 'gpt4', 'gpt4', 'gpt4', 'gpt4', 'gpt4', 'gpt4', 'gpt4', 'gpt4', 'gpt4', 'gpt4', 'gpt4', 'gpt4', 'gpt4', 'gpt4', 'gpt4', 'gpt4', 'gpt4', 'gpt4', 'gpt4', 'gpt4', 'gpt4', 'gpt4', 'gpt4', 'gpt4', 'gpt4', 'gpt4', 'gpt4', 'gpt4', 'gpt4', 'gpt4', 'gpt4', 'gpt4', 'gpt4', 'gpt4', 'gpt4', 'gpt4', 'gpt4', 'gpt4', 'gpt4', 'gpt4', 'gpt4', 'gpt4', 'gpt4', 'gpt4', 'gpt4', 'gpt4', 'gpt4', 'gpt4', 'gpt4', 'gpt4', 'gpt4', 'gpt4', 'gpt4', 'gpt4', 'gpt4', 'gpt4', 'gpt4', 'gpt4', 'gpt4', 'gpt4', 'gpt4', 'gpt4', 'gpt4', 'gpt4', 'gpt4', 'gpt4', 'gpt4', 'gpt4', 'gpt4', 'gpt4', 'gpt4', 'gpt4', 'gpt4', 'gpt4', 'gpt4', 'gpt4', 'gpt4', 'gpt4', 'gpt4', 'gpt4', 'gpt4', 'gpt4', 'gpt4', 'gpt4', 'gpt4', 'gpt4', 'gpt4', 'gpt4', 'gpt4', 'gpt4', 'gpt4', 'gpt4', 'gpt4', 'gpt4', 'gpt4', 'gpt4', 'gpt4', 'gpt4', 'gpt4', 'gpt4', 'gpt4', 'gpt4', 'gpt4', 'gpt4', 'gpt4', 'gpt4', 'gpt4', 'gpt4', 'gpt4', 'gpt4', 'gpt4', 'gpt4', 'gpt4', 'gpt4', 'gpt4', 'gpt4', 'gpt4', 'gpt4', 'gpt4', 'gpt4', 'gpt4', 'gpt4', 'gpt4', 'gpt4', 'gpt4', 'gpt4', 'gpt4', 'gpt4', 'gpt4', 'gpt4', 'gpt4', 'gpt4', 'gpt4', 'gpt4', 'gpt4', 'gpt4', 'gpt4', 'gpt4', 'gpt4', 'gpt4', 'gpt4', 'gpt4', 'gpt4', 'gpt4', 'gpt4', 'gpt4', 'gpt4', 'gpt4', 'gpt4', 'gpt4', 'gpt4', 'gpt4', 'gpt4', 'gpt4', 'gpt4', 'gpt4', 'gpt4', 'gpt4', 'gpt4', 'gpt4', 'gpt4', 'gpt4', 'gpt4', 'gpt4', 'gpt4', 'gpt4', 'gpt4', 'gpt4', 'gpt4', 'gpt4', 'gpt4', 'gpt4', 'gpt4', 'gpt4', 'gpt4', 'gpt4', 'gpt4', 'gpt4', 'gpt4', 'gpt4', 'gpt4', 'gpt4', 'gpt4', 'gpt4', 'gpt4', 'gpt4', 'gpt4', 'gpt4', 'gpt4', 'gpt4', 'gpt4', 'gpt4', 'gpt4', 'gpt4', 'gpt4', 'gpt4', 'gpt4', 'gpt4', 'gpt4', 'gpt4', 'orca', 'orca', 'orca', 'orca', 'orca', 'orca', 'orca', 'orca', 'orca', 'orca', 'orca', 'orca', 'orca', 'orca', 'orca', 'orca', 'orca', 'orca', 'orca', 'orca', 'orca', 'orca', 'orca', 'orca', 'orca', 'orca', 'orca', 'orca', 'orca', 'orca', 'orca', 'orca', 'orca', 'orca', 'orca', 'orca', 'orca', 'orca', 'orca', 'orca', 'orca', 'orca', 'orca', 'orca', 'orca', 'orca', 'orca', 'orca', 'orca', 'orca', 'orca', 'orca', 'orca', 'orca', 'orca', 'orca', 'orca', 'orca', 'orca', 'orca', 'orca', 'orca', 'orca', 'orca', 'orca', 'orca', 'orca', 'orca', 'orca', 'orca', 'orca', 'orca', 'orca', 'orca', 'orca', 'orca', 'orca', 'orca', 'orca', 'orca', 'orca', 'orca', 'orca', 'orca', 'orca', 'orca', 'orca', 'orca', 'orca', 'orca', 'orca', 'orca', 'orca', 'orca', 'orca', 'orca', 'orca', 'orca', 'orca', 'orca', 'orca', 'orca', 'orca', 'orca', 'orca', 'orca', 'orca', 'orca', 'orca', 'orca', 'orca', 'orca', 'orca', 'orca', 'orca', 'orca', 'orca', 'orca', 'orca', 'orca', 'orca', 'orca', 'orca', 'orca', 'orca', 'orca', 'orca', 'orca', 'orca', 'orca', 'orca', 'orca', 'orca', 'orca', 'orca', 'orca', 'orca', 'orca', 'orca', 'orca', 'orca', 'orca', 'orca', 'orca', 'orca', 'orca', 'orca', 'orca', 'orca', 'orca', 'orca', 'orca', 'orca', 'orca', 'orca', 'orca', 'orca', 'orca', 'orca', 'orca', 'orca', 'orca', 'orca', 'orca', 'orca', 'orca', 'orca', 'orca', 'orca', 'orca', 'orca', 'orca', 'orca', 'orca', 'orca', 'orca', 'orca', 'orca', 'orca', 'orca', 'orca', 'orca', 'orca', 'orca', 'orca', 'orca', 'orca', 'orca', 'orca', 'orca', 'orca', 'orca', 'orca', 'orca', 'orca', 'orca', 'orca', 'orca', 'orca', 'orca', 'orca', 'orca', 'orca', 'orca', 'orca', 'orca', 'orca', 'orca', 'orca', 'orca', 'orca', 'orca', 'orca', 'orca', 'orca', 'orca', 'orca', 'orca', 'orca', 'orca', 'orca', 'orca', 'orca', 'orca', 'orca', 'orca', 'orca', 'orca', 'orca', 'orca', 'orca', 'orca', 'orca', 'orca', 'orca', 'orca', 'orca', 'orca', 'orca', 'orca', 'orca', 'orca', 'orca', 'orca', 'orca', 'orca', 'orca', 'orca', 'orca', 'orca', 'orca', 'orca', 'orca', 'orca', 'orca', 'orca', 'orca', 'orca', 'orca', 'orca', 'orca', 'orca', 'orca', 'orca', 'orca', 'orca', 'orca', 'orca', 'orca', 'orca', 'orca', 'orca', 'orca', 'orca', 'orca', 'orca', 'orca', 'orca', 'orca', 'orca', 'orca', 'orca', 'orca', 'orca', 'orca', 'orca', 'orca', 'orca', 'orca', 'orca', 'orca', 'orca', 'orca', 'orca', 'orca', 'orca', 'orca', 'orca', 'orca', 'orca', 'orca', 'orca', 'orca', 'orca', 'orca', 'orca', 'orca', 'orca', 'orca', 'orca', 'orca', 'orca', 'orca', 'orca', 'orca', 'orca', 'orca', 'orca', 'orca', 'orca', 'orca', 'orca', 'orca', 'orca', 'orca', 'orca', 'orca', 'orca', 'orca', 'orca', 'orca', 'orca', 'orca', 'orca', 'orca', 'orca', 'orca', 'orca', 'orca', 'orca', 'orca', 'orca', 'orca', 'orca', 'orca', 'orca', 'orca', 'orca', 'orca', 'orca', 'orca', 'orca', 'orca', 'orca', 'orca', 'orca', 'orca', 'orca', 'orca', 'orca', 'orca', 'orca', 'orca', 'orca', 'orca', 'orca', 'orca', 'orca', 'orca', 'orca', 'orca', 'orca', 'orca', 'orca', 'orca', 'orca', 'orca', 'orca', 'orca', 'orca', 'orca', 'orca', 'orca', 'orca', 'orca', 'orca', 'orca', 'orca', 'orca', 'orca', 'orca', 'orca', 'orca', 'orca', 'orca', 'orca', 'orca', 'orca', 'orca', 'orca', 'orca', 'orca', 'orca', 'orca', 'orca', 'orca', 'orca', 'orca', 'orca', 'orca', 'orca', 'orca', 'orca', 'orca', 'orca', 'orca', 'orca', 'orca', 'orca', 'orca', 'orca', 'orca', 'orca', 'orca', 'orca', 'orca', 'orca', 'orca', 'orca', 'orca', 'orca', 'orca', 'orca', 'orca', 'orca', 'orca', 'orca', 'orca', 'orca', 'orca', 'orca', 'orca', 'orca', 'orca', 'orca', 'orca', 'orca', 'orca', 'orca', 'orca', 'orca', 'orca', 'orca', 'orca', 'orca', 'orca', 'orca', 'orca', 'orca', 'orca', 'orca', 'orca', 'orca', 'orca', 'orca', 'orca', 'orca', 'orca', 'orca', 'orca', 'orca', 'orca', 'orca', 'orca', 'orca', 'orca', 'orca', 'orca', 'orca', 'orca', 'orca', 'orca', 'orca', 'orca', 'orca', 'orca', 'orca', 'orca', 'orca', 'orca', 'orca', 'orca', 'orca', 'orca', 'orca', 'orca', 'orca', 'orca', 'orca', 'orca', 'orca', 'orca', 'orca', 'orca', 'orca', 'orca', 'orca', 'orca', 'orca', 'orca', 'orca', 'orca', 'orca', 'orca', 'orca', 'orca', 'orca', 'orca', 'orca', 'orca', 'orca', 'orca', 'orca', 'orca', 'orca', 'orca', 'orca', 'orca', 'orca', 'orca', 'orca', 'orca', 'orca', 'orca', 'orca', 'orca', 'orca', 'orca', 'orca', 'orca', 'orca', 'orca', 'orca', 'orca', 'orca', 'orca', 'orca', 'orca', 'orca', 'orca', 'orca', 'orca', 'orca', 'orca', 'orca', 'orca', 'orca', 'orca', 'orca', 'orca', 'orca', 'orca', 'orca', 'orca', 'orca', 'orca', 'orca', 'orca', 'orca', 'orca', 'orca', 'orca', 'orca', 'orca', 'orca', 'orca', 'orca', 'orca', 'orca', 'orca', 'orca', 'orca', 'orca', 'orca', 'orca', 'orca', 'orca', 'orca', 'orca', 'orca', 'orca', 'orca', 'orca', 'orca', 'orca', 'orca', 'orca', 'orca', 'orca', 'orca', 'orca', 'orca', 'orca', 'orca', 'orca', 'orca', 'orca', 'orca', 'orca', 'orca', 'orca', 'orca', 'orca', 'orca', 'orca', 'orca', 'orca', 'orca', 'orca', 'orca', 'orca', 'orca', 'orca', 'orca', 'orca', 'orca', 'orca', 'orca', 'orca', 'orca', 'orca', 'orca', 'orca', 'orca', 'orca', 'orca', 'orca', 'orca', 'orca', 'orca', 'orca', 'orca', 'orca', 'orca', 'orca', 'orca', 'orca', 'orca', 'orca', 'orca', 'orca', 'orca', 'orca', 'orca', 'orca', 'orca', 'orca', 'orca', 'orca', 'orca', 'orca', 'orca', 'orca', 'orca', 'orca', 'orca', 'orca', 'orca', 'orca', 'orca', 'orca', 'orca', 'orca', 'orca', 'orca', 'orca', 'orca', 'orca', 'orca', 'orca', 'orca', 'orca', 'orca', 'orca', 'orca', 'orca', 'orca', 'orca', 'orca', 'orca', 'orca', 'orca', 'orca', 'orca', 'orca', 'orca', 'orca', 'orca', 'orca', 'orca', 'orca', 'orca', 'orca', 'orca', 'orca', 'orca', 'orca', 'orca', 'orca', 'orca', 'orca', 'orca', 'orca', 'orca', 'orca', 'orca', 'orca', 'orca', 'orca', 'orca', 'orca', 'orca', 'orca', 'orca', 'orca', 'orca', 'orca', 'orca', 'orca', 'orca', 'orca', 'orca', 'orca', 'orca', 'orca', 'orca', 'orca', 'orca', 'orca', 'orca', 'orca', 'orca', 'orca', 'orca', 'orca', 'orca', 'orca', 'orca', 'orca', 'orca', 'orca', 'orca', 'orca', 'orca', 'orca', 'orca', 'orca', 'orca', 'orca', 'orca', 'orca', 'orca', 'orca', 'orca', 'orca', 'orca', 'orca', 'orca', 'orca', 'orca', 'orca', 'orca', 'orca', 'orca', 'orca', 'orca', 'orca', 'orca', 'orca', 'orca', 'orca', 'orca', 'orca', 'orca', 'orca', 'orca', 'orca', 'orca', 'orca', 'orca', 'orca', 'orca', 'orca', 'orca', 'orca', 'orca', 'orca', 'orca', 'orca', 'orca', 'orca', 'orca', 'orca', 'orca', 'orca', 'orca', 'orca', 'orca', 'orca', 'orca', 'orca', 'orca', 'orca', 'orca', 'orca', 'orca', 'orca', 'orca', 'orca', 'orca', 'orca', 'orca', 'orca', 'orca', 'orca', 'orca', 'orca', 'orca', 'orca', 'orca', 'orca', 'orca', 'orca', 'orca', 'orca', 'orca', 'orca', 'orca', 'orca', 'orca', 'orca', 'orca', 'orca', 'orca', 'orca', 'orca', 'orca', 'orca', 'orca', 'orca', 'orca', 'orca', 'orca', 'orca', 'orca', 'orca', 'orca', 'orca', 'orca', 'orca', 'orca', 'orca', 'orca', 'orca', 'orca', 'orca', 'orca', 'orca', 'orca', 'orca', 'orca', 'orca', 'orca', 'orca', 'orca', 'orca', 'orca', 'orca', 'orca', 'orca', 'orca', 'orca', 'orca', 'orca', 'orca', 'orca', 'orca', 'orca', 'orca', 'orca', 'orca', 'orca', 'orca', 'orca', 'orca', 'orca', 'orca', 'orca', 'orca', 'orca', 'orca', 'orca', 'orca', 'orca', 'orca', 'orca', 'orca', 'orca', 'orca', 'orca', 'orca', 'orca', 'orca', 'orca', 'orca', 'orca', 'orca', 'orca', 'orca', 'orca', 'orca', 'orca', 'orca', 'orca', 'orca', 'orca', 'orca', 'orca', 'orca', 'orca', 'orca', 'orca', 'orca', 'orca', 'orca', 'orca', 'orca', 'orca', 'orca', 'orca', 'orca', 'orca', 'orca', 'orca', 'orca', 'orca', 'orca', 'orca', 'orca', 'orca', 'orca', 'orca', 'orca', 'orca', 'orca', 'orca', 'orca', 'orca', 'orca', 'orca', 'orca', 'orca', 'orca', 'orca', 'orca', 'orca', 'orca', 'orca', 'orca', 'orca', 'orca', 'orca', 'orca', 'orca', 'orca', 'orca', 'orca', 'orca', 'orca', 'orca', 'orca', 'orca', 'orca', 'orca', 'orca', 'orca', 'orca', 'orca', 'orca', 'orca', 'orca', 'orca', 'orca', 'orca', 'orca', 'orca', 'orca', 'orca', 'orca', 'orca', 'orca', 'orca', 'orca', 'orca', 'orca', 'orca', 'orca', 'orca', 'orca', 'orca', 'orca', 'orca', 'orca', 'orca', 'orca', 'orca', 'orca', 'orca', 'orca', 'orca', 'orca', 'orca', 'orca', 'orca', 'orca', 'orca', 'orca', 'orca', 'orca', 'orca', 'orca', 'orca', 'orca', 'orca', 'orca', 'orca', 'orca', 'orca', 'orca', 'orca', 'orca', 'orca', 'orca', 'orca', 'orca', 'orca', 'orca', 'orca', 'orca', 'orca', 'orca', 'orca', 'orca', 'orca', 'orca', 'orca', 'orca', 'orca', 'orca', 'orca', 'orca', 'orca', 'orca', 'orca', 'orca', 'orca', 'orca', 'orca', 'orca', 'orca', 'orca', 'orca', 'orca', 'orca', 'orca', 'orca', 'orca', 'orca', 'orca', 'orca', 'orca', 'orca', 'orca', 'orca', 'orca', 'orca', 'orca', 'orca', 'orca', 'orca', 'orca', 'orca', 'orca', 'orca', 'orca', 'orca', 'orca', 'orca', 'orca', 'orca', 'orca', 'orca', 'orca', 'orca', 'orca', 'orca', 'orca', 'orca', 'orca', 'orca', 'orca', 'orca', 'orca', 'orca', 'orca', 'orca', 'orca', 'orca', 'orca', 'orca', 'orca', 'orca', 'orca', 'orca', 'orca', 'orca', 'orca', 'orca', 'orca', 'orca', 'orca', 'orca', 'orca', 'orca', 'orca', 'orca', 'orca', 'orca', 'orca', 'orca', 'orca', 'orca', 'orca', 'orca', 'orca', 'orca', 'orca', 'orca', 'orca', 'orca', 'orca', 'orca', 'orca', 'orca', 'orca', 'orca', 'orca', 'orca', 'orca', 'orca', 'orca', 'orca', 'orca', 'orca', 'orca', 'orca', 'orca', 'orca', 'orca', 'orca', 'orca', 'orca', 'orca', 'orca', 'orca', 'orca', 'orca', 'orca', 'orca', 'orca', 'orca', 'orca', 'orca', 'orca', 'orca', 'orca', 'orca', 'orca', 'orca', 'orca', 'orca', 'orca', 'orca', 'orca', 'orca', 'orca', 'orca', 'orca', 'orca', 'orca', 'orca', 'orca', 'orca', 'orca', 'orca', 'orca', 'orca', 'orca', 'orca', 'orca', 'orca', 'orca', 'orca', 'orca', 'orca', 'orca', 'orca', 'orca', 'orca', 'orca', 'orca', 'orca', 'orca', 'orca', 'orca', 'orca', 'orca', 'orca', 'orca', 'orca', 'orca', 'orca', 'orca', 'orca', 'orca', 'orca', 'orca', 'orca', 'orca', 'orca', 'orca', 'orca', 'orca', 'orca', 'orca', 'orca', 'orca', 'orca', 'orca', 'orca', 'orca', 'orca', 'orca', 'orca', 'orca', 'orca', 'orca', 'orca', 'orca', 'orca', 'orca', 'orca', 'orca', 'orca', 'orca', 'orca', 'orca', 'orca', 'orca', 'orca', 'orca', 'orca', 'orca', 'orca', 'orca', 'orca', 'orca', 'orca', 'orca', 'orca', 'orca', 'orca', 'orca', 'orca', 'orca', 'orca', 'orca', 'orca', 'orca', 'orca', 'orca', 'orca', 'orca', 'orca', 'orca', 'orca', 'orca', 'orca', 'orca', 'orca', 'orca', 'orca', 'orca', 'orca', 'orca', 'orca', 'orca', 'orca', 'orca', 'orca', 'orca', 'orca', 'orca', 'orca', 'orca', 'orca', 'orca', 'orca', 'orca', 'orca', 'orca', 'orca', 'orca', 'orca', 'orca', 'orca', 'orca', 'orca', 'orca', 'orca', 'orca', 'orca', 'orca', 'orca', 'orca', 'orca', 'orca', 'orca', 'orca', 'orca', 'orca', 'orca', 'orca', 'orca', 'orca', 'orca', 'orca', 'orca', 'orca', 'orca', 'orca', 'orca', 'orca', 'orca', 'orca', 'orca', 'orca', 'orca', 'orca', 'orca', 'orca', 'orca', 'orca', 'orca', 'orca', 'orca', 'orca', 'orca', 'orca', 'orca', 'orca', 'orca', 'orca', 'orca', 'orca', 'orca', 'orca', 'orca', 'orca', 'orca', 'orca', 'orca', 'orca', 'orca', 'orca', 'orca', 'orca', 'orca', 'orca', 'orca', 'orca', 'orca', 'orca', 'orca', 'orca', 'orca', 'orca', 'orca', 'orca', 'orca', 'orca', 'orca', 'orca', 'orca', 'orca', 'orca', 'orca', 'orca', 'orca', 'orca', 'orca', 'orca', 'orca', 'orca', 'orca', 'orca', 'orca', 'orca', 'orca', 'orca', 'orca', 'orca', 'orca', 'orca', 'orca', 'orca', 'orca', 'orca', 'orca', 'orca', 'orca', 'orca', 'orca', 'orca', 'orca', 'orca', 'orca', 'orca', 'orca', 'orca', 'orca', 'orca', 'orca', 'orca', 'orca', 'orca', 'orca', 'orca', 'orca', 'orca', 'orca', 'orca', 'orca', 'orca', 'orca', 'orca', 'orca', 'orca', 'orca', 'orca', 'orca', 'orca', 'orca', 'orca', 'orca', 'orca', 'orca', 'orca', 'orca', 'orca', 'orca', 'orca', 'orca', 'orca', 'orca', 'orca', 'orca', 'orca', 'orca', 'orca', 'orca', 'orca', 'orca', 'orca', 'orca', 'orca', 'orca', 'orca', 'orca', 'orca', 'orca', 'orca', 'orca', 'orca', 'orca', 'orca', 'orca', 'orca', 'orca', 'orca', 'orca', 'orca', 'orca', 'orca', 'orca', 'orca', 'orca', 'orca', 'orca', 'orca', 'orca', 'orca', 'orca', 'orca', 'orca', 'orca', 'orca', 'orca', 'orca', 'orca', 'orca', 'orca', 'orca', 'orca', 'orca', 'orca', 'orca', 'orca', 'orca', 'orca', 'orca', 'orca', 'orca', 'orca', 'orca', 'orca', 'orca', 'orca', 'orca', 'orca', 'orca', 'orca', 'orca', 'orca', 'orca', 'orca', 'orca', 'orca', 'orca', 'orca', 'orca', 'orca', 'orca', 'orca', 'orca', 'orca', 'orca', 'orca', 'orca', 'orca', 'orca', 'orca', 'orca', 'orca', 'orca', 'orca', 'orca', 'orca', 'orca', 'orca', 'orca', 'orca', 'orca', 'orca', 'orca', 'orca', 'orca', 'orca', 'orca', 'orca', 'orca', 'orca', 'orca', 'orca', 'orca', 'orca', 'orca', 'orca', 'orca', 'orca', 'orca', 'orca', 'orca', 'orca', 'orca', 'orca', 'orca', 'orca', 'orca', 'orca', 'orca', 'orca', 'orca', 'orca', 'orca', 'orca', 'orca', 'orca', 'orca', 'orca', 'orca', 'orca', 'orca', 'orca', 'orca', 'orca', 'orca', 'orca', 'orca', 'orca', 'orca', 'orca', 'orca', 'orca', 'orca', 'orca', 'orca', 'orca', 'orca', 'orca', 'orca', 'orca', 'orca', 'orca', 'orca', 'orca', 'orca', 'orca', 'orca', 'orca', 'orca', 'orca', 'orca', 'orca', 'orca', 'orca', 'orca', 'orca', 'orca', 'orca', 'orca', 'orca', 'orca', 'orca', 'orca', 'orca', 'orca', 'orca', 'orca', 'orca', 'orca', 'orca', 'orca', 'orca', 'orca', 'orca', 'orca', 'orca', 'orca', 'orca', 'orca', 'orca', 'orca', 'orca', 'orca', 'orca', 'orca', 'orca', 'orca', 'orca', 'orca', 'orca', 'orca', 'orca', 'orca', 'orca', 'orca', 'orca', 'orca', 'orca', 'orca', 'orca', 'orca', 'orca', 'orca', 'orca', 'orca', 'orca', 'orca', 'orca', 'orca', 'orca', 'orca', 'orca', 'orca', 'orca', 'orca', 'orca', 'orca', 'orca', 'orca', 'orca', 'orca', 'orca', 'orca', 'orca', 'orca', 'orca', 'orca', 'orca', 'orca', 'orca', 'orca', 'orca', 'orca', 'orca', 'orca', 'orca', 'orca', 'orca', 'orca', 'orca', 'orca', 'orca', 'orca', 'orca', 'orca', 'orca', 'orca', 'orca', 'orca', 'orca', 'orca', 'orca', 'orca', 'orca', 'orca', 'orca', 'orca', 'orca', 'orca', 'orca', 'orca', 'orca', 'orca', 'orca', 'orca', 'orca', 'orca', 'orca', 'orca', 'orca', 'orca', 'orca', 'orca', 'orca', 'orca', 'orca', 'orca', 'orca', 'orca', 'orca', 'orca', 'orca', 'orca', 'orca', 'orca', 'orca', 'orca', 'orca', 'orca', 'orca', 'orca', 'orca', 'orca', 'orca', 'orca', 'orca', 'orca', 'orca', 'orca', 'orca', 'orca', 'orca', 'orca', 'orca', 'orca', 'orca', 'orca', 'orca', 'orca', 'orca', 'orca', 'orca', 'orca', 'orca', 'orca', 'orca', 'orca', 'orca', 'orca', 'orca', 'orca', 'orca', 'orca', 'orca', 'orca', 'orca', 'orca', 'orca', 'orca', 'orca', 'orca', 'orca', 'orca', 'orca', 'orca', 'orca', 'orca', 'orca', 'orca', 'orca', 'orca', 'orca', 'orca', 'orca', 'orca', 'orca', 'orca', 'orca', 'orca', 'orca', 'orca', 'orca', 'orca', 'orca', 'orca', 'orca', 'orca', 'orca', 'orca', 'orca', 'orca', 'orca', 'orca', 'orca', 'orca', 'orca', 'orca', 'orca', 'orca', 'orca', 'orca', 'orca', 'orca', 'orca', 'orca', 'orca', 'orca', 'orca', 'orca', 'orca', 'orca', 'orca', 'orca', 'orca', 'orca', 'orca', 'orca', 'orca', 'orca', 'orca', 'orca', 'orca', 'orca', 'orca', 'orca', 'orca', 'orca', 'orca', 'orca', 'orca', 'orca', 'orca', 'orca', 'orca', 'orca', 'orca', 'orca', 'orca', 'orca', 'orca', 'orca', 'orca', 'orca', 'orca', 'orca', 'orca', 'orca', 'orca', 'orca', 'orca', 'orca', 'orca', 'orca', 'orca', 'orca', 'orca', 'orca', 'orca', 'orca', 'orca', 'orca', 'orca', 'orca', 'orca', 'orca', 'orca', 'orca', 'orca', 'orca', 'orca', 'orca', 'orca', 'orca', 'orca', 'orca', 'orca', 'orca', 'orca', 'orca', 'orca', 'orca', 'orca', 'orca', 'orca', 'orca', 'orca', 'orca', 'orca', 'orca', 'orca', 'orca', 'orca', 'orca', 'orca', 'orca', 'orca', 'orca', 'orca', 'orca', 'orca', 'orca', 'orca', 'orca', 'orca', 'orca', 'orca', 'orca', 'orca', 'orca', 'orca', 'orca', 'orca', 'orca', 'orca', 'orca', 'orca', 'orca', 'orca', 'orca', 'orca', 'orca', 'orca', 'orca', 'orca', 'orca', 'orca', 'orca', 'orca', 'orca', 'orca', 'orca', 'orca', 'orca', 'orca', 'orca', 'orca', 'orca', 'orca', 'orca', 'orca', 'orca', 'orca', 'orca', 'orca', 'orca', 'orca', 'orca', 'orca', 'orca', 'orca', 'orca', 'orca', 'orca', 'orca', 'orca', 'orca', 'orca', 'orca', 'orca', 'orca', 'orca', 'orca', 'orca', 'orca', 'orca', 'orca', 'orca', 'orca', 'orca', 'orca', 'orca', 'orca', 'orca', 'orca', 'orca', 'orca', 'orca', 'orca', 'orca', 'orca', 'orca', 'orca', 'orca', 'orca', 'orca', 'orca', 'orca', 'orca', 'orca', 'orca', 'orca', 'orca', 'orca', 'orca', 'orca', 'orca', 'orca', 'orca', 'orca', 'orca', 'orca', 'orca', 'orca', 'orca', 'orca', 'orca', 'orca', 'orca', 'orca', 'orca', 'orca', 'orca', 'orca', 'orca', 'orca', 'orca', 'orca', 'orca', 'orca', 'orca', 'orca', 'orca', 'orca', 'orca', 'orca', 'orca', 'orca', 'orca', 'orca', 'orca', 'orca', 'orca', 'orca', 'orca', 'orca', 'orca', 'orca', 'orca', 'orca', 'orca', 'orca', 'orca', 'orca', 'orca', 'orca', 'orca', 'orca', 'orca', 'orca', 'orca', 'orca', 'orca', 'orca', 'orca', 'orca', 'orca', 'orca', 'orca', 'orca', 'orca', 'orca', 'orca', 'orca', 'orca', 'orca', 'orca', 'orca', 'orca', 'orca', 'orca', 'orca', 'orca', 'orca', 'orca', 'orca', 'orca', 'orca', 'orca', 'orca', 'orca', 'orca', 'orca', 'orca', 'orca', 'orca', 'orca', 'orca', 'orca', 'orca', 'orca', 'orca', 'orca', 'orca', 'orca', 'orca', 'orca', 'orca', 'orca', 'orca', 'orca', 'orca', 'orca', 'orca', 'orca', 'orca', 'orca', 'orca', 'orca', 'orca', 'orca', 'orca', 'orca', 'orca', 'orca', 'orca', 'orca', 'orca', 'orca', 'orca', 'orca', 'orca', 'orca', 'orca', 'orca', 'orca', 'orca', 'orca', 'orca', 'orca', 'orca', 'orca', 'orca', 'orca', 'orca', 'orca', 'orca', 'orca', 'orca', 'orca', 'orca', 'orca', 'orca', 'orca', 'orca', 'orca', 'orca', 'orca', 'orca', 'orca', 'orca', 'orca', 'orca', 'orca', 'orca', 'orca', 'orca', 'orca', 'orca', 'orca', 'orca', 'orca', 'orca', 'orca', 'orca', 'orca', 'orca', 'orca', 'orca', 'orca', 'orca', 'orca', 'orca', 'orca', 'orca', 'orca', 'orca', 'orca', 'orca', 'orca', 'orca', 'orca', 'orca', 'orca', 'orca', 'orca', 'orca', 'orca', 'orca', 'orca', 'orca', 'orca', 'orca', 'orca', 'orca', 'orca', 'orca', 'orca', 'orca', 'orca', 'orca', 'orca', 'orca', 'orca', 'orca', 'orca', 'orca', 'orca', 'orca', 'orca', 'orca', 'orca', 'orca', 'orca', 'orca', 'orca', 'orca', 'orca', 'orca', 'orca', 'orca', 'orca', 'orca', 'orca', 'orca', 'orca', 'orca', 'orca', 'orca', 'orca', 'orca', 'orca', 'orca', 'orca', 'orca', 'orca', 'orca', 'orca', 'orca', 'orca', 'orca', 'orca', 'orca', 'orca', 'orca', 'orca', 'orca', 'orca', 'orca', 'orca', 'orca', 'orca', 'orca', 'orca', 'orca', 'orca', 'orca', 'orca', 'orca', 'orca', 'orca', 'orca', 'orca', 'orca', 'orca', 'orca', 'orca', 'orca', 'orca', 'orca', 'orca', 'orca', 'orca', 'orca', 'orca', 'orca', 'orca', 'orca', 'orca', 'orca', 'orca', 'orca', 'orca', 'orca', 'orca', 'orca', 'orca', 'orca', 'orca', 'orca', 'orca', 'orca', 'orca', 'orca', 'orca', 'orca', 'orca', 'orca', 'orca', 'orca', 'orca', 'orca', 'orca', 'orca', 'orca', 'orca', 'orca', 'orca', 'orca', 'orca', 'orca', 'orca', 'orca', 'orca', 'orca', 'orca', 'orca', 'orca', 'orca', 'orca', 'orca', 'orca', 'orca', 'orca', 'orca', 'orca', 'orca', 'orca', 'orca', 'orca', 'orca', 'orca', 'orca', 'orca', 'orca', 'orca', 'orca', 'orca', 'orca', 'orca', 'orca', 'orca', 'orca', 'orca', 'orca', 'orca', 'orca', 'orca', 'orca', 'orca', 'orca', 'orca', 'orca', 'orca', 'orca', 'orca', 'orca', 'orca', 'orca', 'orca', 'orca', 'orca', 'orca', 'orca', 'orca', 'orca', 'orca', 'orca', 'orca', 'orca', 'orca', 'orca', 'orca', 'orca', 'orca', 'orca', 'orca', 'orca', 'falcon', 'falcon', 'falcon', 'falcon', 'falcon', 'falcon', 'falcon', 'falcon', 'falcon', 'falcon', 'falcon', 'falcon', 'falcon', 'falcon', 'falcon', 'falcon', 'falcon', 'falcon', 'falcon', 'falcon', 'falcon', 'falcon', 'falcon', 'falcon', 'falcon', 'falcon', 'falcon', 'falcon', 'falcon', 'falcon', 'falcon', 'falcon', 'falcon', 'falcon', 'falcon', 'falcon', 'falcon', 'falcon', 'falcon', 'falcon', 'falcon', 'falcon', 'falcon', 'falcon', 'falcon', 'falcon', 'falcon', 'falcon', 'falcon', 'falcon', 'falcon', 'falcon', 'falcon', 'falcon', 'falcon', 'falcon', 'falcon', 'falcon', 'falcon', 'falcon', 'falcon', 'falcon', 'falcon', 'falcon', 'falcon', 'falcon', 'falcon', 'falcon', 'falcon', 'falcon', 'falcon', 'falcon', 'falcon', 'falcon', 'falcon', 'falcon', 'falcon', 'falcon', 'falcon', 'falcon', 'falcon', 'falcon', 'falcon', 'falcon', 'falcon', 'falcon', 'falcon', 'falcon', 'falcon', 'falcon', 'falcon', 'falcon', 'falcon', 'falcon', 'falcon', 'falcon', 'falcon', 'falcon', 'falcon', 'falcon', 'falcon', 'falcon', 'falcon', 'falcon', 'falcon', 'falcon', 'falcon', 'falcon', 'falcon', 'falcon', 'falcon', 'falcon', 'falcon', 'falcon', 'falcon', 'falcon', 'falcon', 'falcon', 'falcon', 'falcon', 'falcon', 'falcon', 'falcon', 'falcon', 'falcon', 'falcon', 'falcon', 'falcon', 'falcon', 'falcon', 'falcon', 'falcon', 'falcon', 'falcon', 'falcon', 'falcon', 'falcon', 'falcon', 'falcon', 'falcon', 'falcon', 'falcon', 'falcon', 'falcon', 'falcon', 'falcon', 'falcon', 'falcon', 'falcon', 'falcon', 'falcon', 'falcon', 'falcon', 'falcon', 'falcon', 'falcon', 'falcon', 'falcon', 'falcon', 'falcon', 'falcon', 'falcon', 'falcon', 'falcon', 'falcon', 'falcon', 'falcon', 'falcon', 'falcon', 'falcon', 'falcon', 'falcon', 'falcon', 'falcon', 'falcon', 'falcon', 'falcon', 'falcon', 'falcon', 'falcon', 'falcon', 'falcon', 'falcon', 'falcon', 'falcon', 'falcon', 'falcon', 'falcon', 'falcon', 'falcon', 'falcon', 'falcon', 'falcon', 'falcon', 'falcon', 'falcon', 'falcon', 'falcon', 'falcon', 'falcon', 'falcon', 'falcon', 'falcon', 'falcon', 'falcon', 'falcon', 'falcon', 'falcon', 'falcon', 'falcon', 'falcon', 'falcon', 'falcon', 'falcon', 'falcon', 'falcon', 'falcon', 'falcon', 'falcon', 'falcon', 'falcon', 'falcon', 'falcon', 'falcon', 'falcon', 'falcon', 'falcon', 'falcon', 'falcon', 'falcon', 'falcon', 'falcon', 'falcon', 'falcon', 'falcon', 'falcon', 'falcon', 'falcon', 'falcon', 'falcon', 'falcon', 'falcon', 'falcon', 'falcon', 'falcon', 'falcon', 'falcon', 'falcon', 'falcon', 'falcon', 'falcon', 'falcon', 'falcon', 'falcon', 'falcon', 'falcon', 'falcon', 'falcon', 'falcon', 'falcon', 'falcon', 'falcon', 'falcon', 'falcon', 'falcon', 'falcon', 'falcon', 'falcon', 'falcon', 'falcon', 'falcon', 'falcon', 'falcon', 'falcon', 'falcon', 'falcon', 'falcon', 'falcon', 'falcon', 'falcon', 'falcon', 'falcon', 'falcon', 'falcon', 'falcon', 'falcon', 'falcon', 'falcon', 'falcon', 'falcon', 'falcon', 'falcon', 'falcon', 'falcon', 'falcon', 'falcon', 'falcon', 'falcon', 'falcon', 'falcon', 'falcon', 'falcon', 'falcon', 'falcon', 'falcon', 'falcon', 'falcon', 'falcon', 'falcon', 'falcon', 'falcon', 'falcon', 'falcon', 'falcon', 'falcon', 'falcon', 'falcon', 'falcon', 'falcon', 'falcon', 'falcon', 'falcon', 'falcon', 'falcon', 'falcon', 'falcon', 'falcon', 'falcon', 'falcon', 'falcon', 'falcon', 'falcon', 'falcon', 'falcon', 'falcon', 'falcon', 'falcon', 'falcon', 'falcon', 'falcon', 'falcon', 'falcon', 'falcon', 'falcon', 'falcon', 'falcon', 'falcon', 'falcon', 'falcon', 'falcon', 'falcon', 'falcon', 'falcon', 'falcon', 'falcon', 'falcon', 'falcon', 'falcon', 'falcon', 'falcon', 'falcon', 'falcon', 'falcon', 'falcon', 'falcon', 'falcon', 'falcon', 'falcon', 'falcon', 'falcon', 'falcon', 'falcon', 'falcon', 'falcon', 'falcon', 'falcon', 'falcon', 'falcon', 'falcon', 'falcon', 'falcon', 'falcon', 'falcon', 'falcon', 'falcon', 'falcon', 'falcon', 'falcon', 'falcon', 'falcon', 'falcon', 'falcon', 'falcon', 'falcon', 'falcon', 'falcon', 'falcon', 'falcon', 'falcon', 'falcon', 'falcon', 'falcon', 'falcon', 'falcon', 'falcon', 'falcon', 'falcon', 'falcon', 'falcon', 'falcon', 'falcon', 'falcon', 'falcon', 'falcon', 'falcon', 'falcon', 'falcon', 'falcon', 'falcon', 'falcon', 'falcon', 'falcon', 'falcon', 'falcon', 'falcon', 'falcon', 'falcon', 'falcon', 'falcon', 'falcon', 'falcon', 'falcon', 'falcon', 'falcon', 'falcon', 'falcon', 'falcon', 'falcon', 'falcon', 'falcon', 'falcon', 'falcon', 'falcon', 'falcon', 'falcon', 'falcon', 'falcon', 'falcon', 'falcon', 'falcon', 'falcon', 'falcon', 'falcon', 'falcon', 'falcon', 'falcon', 'falcon', 'falcon', 'falcon', 'falcon', 'falcon', 'falcon', 'falcon', 'falcon', 'falcon', 'falcon', 'falcon', 'falcon', 'falcon', 'falcon', 'falcon', 'falcon', 'falcon', 'falcon', 'falcon', 'falcon', 'falcon', 'falcon', 'falcon', 'falcon', 'falcon', 'falcon', 'falcon', 'falcon', 'falcon', 'falcon', 'falcon', 'falcon', 'falcon', 'falcon', 'falcon', 'falcon', 'falcon', 'falcon', 'falcon', 'falcon', 'falcon', 'falcon', 'falcon', 'falcon', 'falcon', 'falcon', 'falcon', 'falcon', 'falcon', 'falcon', 'falcon', 'falcon', 'falcon', 'falcon', 'falcon', 'falcon', 'falcon', 'falcon', 'falcon', 'falcon', 'falcon', 'falcon', 'falcon', 'falcon', 'falcon', 'falcon', 'falcon', 'falcon', 'falcon', 'falcon', 'falcon', 'falcon', 'falcon', 'falcon', 'falcon', 'falcon', 'falcon', 'falcon', 'falcon', 'falcon', 'falcon', 'falcon', 'falcon', 'falcon', 'falcon', 'falcon', 'falcon', 'falcon', 'falcon', 'falcon', 'falcon', 'falcon', 'falcon', 'falcon', 'falcon', 'falcon', 'falcon', 'falcon', 'falcon', 'falcon', 'falcon', 'falcon', 'falcon', 'falcon', 'falcon', 'falcon', 'falcon', 'falcon', 'falcon', 'falcon', 'falcon', 'falcon', 'falcon', 'falcon', 'falcon', 'falcon', 'falcon', 'falcon', 'falcon', 'falcon', 'falcon', 'falcon', 'falcon', 'falcon', 'falcon', 'falcon', 'falcon', 'falcon', 'falcon', 'falcon', 'falcon', 'falcon', 'falcon', 'falcon', 'falcon', 'falcon', 'falcon', 'falcon', 'falcon', 'falcon', 'falcon', 'falcon', 'falcon', 'falcon', 'falcon', 'falcon', 'falcon', 'falcon', 'falcon', 'falcon', 'falcon', 'falcon', 'falcon', 'falcon', 'falcon', 'falcon', 'falcon', 'falcon', 'falcon', 'falcon', 'falcon', 'falcon', 'falcon', 'falcon', 'falcon', 'falcon', 'falcon', 'falcon', 'falcon', 'falcon', 'falcon', 'falcon', 'falcon', 'falcon', 'falcon', 'falcon', 'falcon', 'falcon', 'falcon', 'falcon', 'falcon', 'falcon', 'falcon', 'falcon', 'falcon', 'falcon', 'falcon', 'falcon', 'falcon', 'falcon', 'falcon', 'falcon', 'falcon', 'falcon', 'falcon', 'falcon', 'falcon', 'falcon', 'falcon', 'falcon', 'falcon', 'falcon', 'falcon', 'falcon', 'falcon', 'falcon', 'falcon', 'falcon', 'falcon', 'falcon', 'falcon', 'falcon', 'falcon', 'falcon', 'falcon', 'falcon', 'falcon', 'falcon', 'falcon', 'falcon', 'falcon', 'falcon', 'falcon', 'falcon', 'falcon', 'falcon', 'falcon', 'falcon', 'falcon', 'falcon', 'falcon', 'falcon', 'falcon', 'falcon', 'falcon', 'falcon', 'falcon', 'falcon', 'falcon', 'falcon', 'falcon', 'falcon', 'falcon', 'falcon', 'falcon', 'falcon', 'falcon', 'falcon', 'falcon', 'falcon', 'falcon', 'falcon', 'falcon', 'falcon', 'falcon', 'falcon', 'falcon', 'falcon', 'falcon', 'falcon', 'falcon', 'falcon', 'falcon', 'falcon', 'falcon', 'falcon', 'falcon', 'falcon', 'falcon', 'falcon', 'falcon', 'falcon', 'falcon', 'falcon', 'falcon', 'falcon', 'falcon', 'falcon', 'falcon', 'falcon', 'falcon', 'falcon', 'falcon', 'falcon', 'falcon', 'falcon', 'falcon', 'falcon', 'falcon', 'falcon', 'falcon', 'falcon', 'falcon', 'falcon', 'falcon', 'falcon', 'falcon', 'falcon', 'falcon', 'falcon', 'falcon', 'falcon', 'falcon', 'falcon', 'falcon', 'falcon', 'falcon', 'falcon', 'falcon', 'falcon', 'falcon', 'falcon', 'falcon', 'falcon', 'falcon', 'falcon', 'falcon', 'falcon', 'falcon', 'falcon', 'falcon', 'falcon', 'falcon', 'falcon', 'falcon', 'falcon', 'falcon', 'falcon', 'falcon', 'falcon', 'falcon', 'falcon', 'falcon', 'falcon', 'falcon', 'falcon', 'falcon', 'falcon', 'falcon', 'falcon', 'falcon', 'falcon', 'falcon', 'falcon', 'falcon', 'falcon', 'falcon', 'falcon', 'falcon', 'falcon', 'falcon', 'falcon', 'falcon', 'falcon', 'falcon', 'falcon', 'falcon', 'falcon', 'falcon', 'falcon', 'falcon', 'falcon', 'falcon', 'falcon', 'falcon', 'falcon', 'falcon', 'falcon', 'falcon', 'falcon', 'falcon', 'falcon', 'falcon', 'falcon', 'falcon', 'falcon', 'falcon', 'falcon', 'falcon', 'falcon', 'falcon', 'falcon', 'falcon', 'falcon', 'falcon', 'falcon', 'falcon', 'falcon', 'falcon', 'falcon', 'falcon', 'falcon', 'falcon', 'falcon', 'falcon', 'falcon', 'falcon', 'falcon', 'falcon', 'falcon', 'falcon', 'falcon', 'falcon', 'falcon', 'falcon', 'falcon', 'falcon', 'falcon', 'falcon', 'falcon', 'falcon', 'falcon', 'falcon', 'falcon', 'falcon', 'falcon', 'falcon', 'falcon', 'falcon', 'falcon', 'falcon', 'falcon', 'falcon', 'falcon', 'falcon', 'falcon', 'falcon', 'falcon', 'falcon', 'falcon', 'falcon', 'falcon', 'falcon', 'falcon', 'falcon', 'falcon', 'falcon', 'falcon', 'falcon', 'falcon', 'falcon', 'falcon', 'falcon', 'falcon', 'falcon', 'falcon', 'falcon', 'falcon', 'falcon', 'falcon', 'falcon', 'falcon', 'falcon', 'falcon', 'falcon', 'falcon', 'falcon', 'falcon', 'falcon', 'falcon', 'falcon', 'falcon', 'falcon', 'falcon', 'falcon', 'falcon', 'falcon', 'falcon', 'falcon', 'falcon', 'falcon', 'falcon', 'falcon', 'falcon', 'falcon', 'falcon', 'falcon', 'falcon', 'falcon', 'falcon', 'falcon', 'falcon', 'falcon', 'falcon', 'falcon', 'falcon', 'falcon', 'falcon', 'falcon', 'falcon', 'falcon', 'falcon', 'falcon', 'falcon', 'falcon', 'falcon', 'falcon', 'falcon', 'falcon', 'falcon', 'falcon', 'falcon', 'falcon', 'falcon', 'falcon', 'falcon', 'falcon', 'falcon', 'falcon', 'falcon', 'falcon', 'falcon', 'falcon', 'falcon', 'falcon', 'falcon', 'falcon', 'falcon', 'falcon', 'falcon', 'falcon', 'falcon', 'falcon', 'falcon', 'falcon', 'falcon', 'falcon', 'falcon', 'falcon', 'falcon', 'falcon', 'falcon', 'falcon', 'falcon', 'falcon', 'falcon', 'falcon', 'falcon', 'falcon', 'falcon', 'falcon', 'falcon', 'falcon', 'falcon', 'falcon', 'falcon', 'falcon', 'falcon', 'falcon', 'falcon', 'falcon', 'falcon', 'falcon', 'falcon', 'falcon', 'falcon', 'falcon', 'falcon', 'falcon', 'falcon', 'falcon', 'falcon', 'falcon', 'falcon', 'falcon', 'falcon', 'falcon', 'falcon', 'falcon', 'falcon', 'falcon', 'falcon', 'falcon', 'falcon', 'falcon', 'falcon', 'falcon', 'falcon', 'falcon', 'falcon', 'falcon', 'falcon', 'falcon', 'falcon', 'falcon', 'falcon', 'falcon', 'falcon', 'falcon', 'falcon', 'falcon', 'falcon', 'falcon', 'falcon', 'falcon', 'falcon', 'falcon', 'falcon', 'falcon', 'falcon', 'falcon', 'falcon', 'falcon', 'falcon', 'falcon', 'falcon', 'falcon', 'falcon', 'falcon', 'falcon', 'falcon', 'falcon', 'falcon', 'falcon', 'falcon', 'falcon', 'falcon', 'falcon', 'falcon', 'falcon', 'falcon', 'falcon', 'falcon', 'falcon', 'falcon', 'falcon', 'falcon', 'falcon', 'falcon', 'falcon', 'falcon', 'falcon', 'falcon', 'falcon', 'falcon', 'falcon', 'falcon', 'falcon', 'falcon', 'falcon', 'falcon', 'falcon', 'falcon', 'falcon', 'falcon', 'falcon', 'falcon', 'falcon', 'falcon', 'falcon', 'falcon', 'falcon', 'falcon', 'falcon', 'falcon', 'falcon', 'falcon', 'falcon', 'falcon', 'falcon', 'falcon', 'falcon', 'falcon', 'falcon', 'falcon', 'falcon', 'falcon', 'falcon', 'falcon', 'falcon', 'falcon', 'falcon', 'falcon', 'falcon', 'falcon', 'falcon', 'falcon', 'falcon', 'falcon', 'falcon', 'falcon', 'falcon', 'falcon', 'falcon', 'falcon', 'falcon', 'falcon', 'falcon', 'falcon', 'falcon', 'falcon', 'falcon', 'falcon', 'falcon', 'falcon', 'falcon', 'falcon', 'falcon', 'falcon', 'falcon', 'falcon', 'falcon', 'falcon', 'falcon', 'falcon', 'falcon', 'falcon', 'falcon', 'falcon', 'falcon', 'falcon', 'falcon', 'falcon', 'falcon', 'falcon', 'falcon', 'falcon', 'falcon', 'falcon', 'falcon', 'falcon', 'falcon', 'falcon', 'falcon', 'falcon', 'falcon', 'falcon', 'falcon', 'falcon', 'falcon', 'falcon', 'falcon', 'falcon', 'falcon', 'falcon', 'falcon', 'falcon', 'falcon', 'falcon', 'falcon', 'falcon', 'falcon', 'falcon', 'falcon', 'falcon', 'falcon', 'falcon', 'falcon', 'falcon', 'falcon', 'falcon', 'falcon', 'falcon', 'falcon', 'falcon', 'falcon', 'falcon', 'falcon', 'falcon', 'falcon', 'falcon', 'falcon', 'falcon', 'falcon', 'falcon', 'falcon', 'falcon', 'falcon', 'falcon', 'falcon', 'falcon', 'falcon', 'falcon', 'falcon', 'falcon', 'falcon', 'falcon', 'falcon', 'falcon', 'falcon', 'falcon', 'falcon', 'falcon', 'falcon', 'falcon', 'falcon', 'falcon', 'falcon', 'falcon', 'falcon', 'falcon', 'falcon', 'falcon', 'falcon', 'falcon', 'falcon', 'falcon', 'falcon', 'falcon', 'falcon', 'falcon', 'falcon', 'falcon', 'falcon', 'falcon', 'falcon', 'falcon', 'falcon', 'falcon', 'falcon', 'falcon', 'falcon', 'falcon', 'falcon', 'falcon', 'falcon', 'falcon', 'falcon', 'falcon', 'falcon', 'falcon', 'falcon', 'falcon', 'falcon', 'falcon', 'falcon', 'falcon', 'falcon', 'falcon', 'falcon', 'falcon', 'falcon', 'falcon', 'falcon', 'falcon', 'falcon', 'falcon', 'falcon', 'falcon', 'falcon', 'falcon', 'falcon', 'falcon', 'falcon', 'falcon', 'falcon', 'falcon', 'falcon', 'falcon', 'falcon', 'falcon', 'falcon', 'falcon', 'falcon', 'falcon', 'falcon', 'falcon', 'falcon', 'falcon', 'falcon', 'falcon', 'falcon', 'falcon', 'falcon', 'falcon', 'falcon', 'falcon', 'falcon', 'falcon', 'falcon', 'falcon', 'falcon', 'falcon', 'falcon', 'falcon', 'falcon', 'falcon', 'falcon', 'falcon', 'falcon', 'falcon', 'falcon', 'falcon', 'falcon', 'falcon', 'falcon', 'falcon', 'falcon', 'falcon', 'falcon', 'falcon', 'falcon', 'falcon', 'falcon', 'falcon', 'falcon', 'falcon', 'falcon', 'falcon', 'falcon', 'falcon', 'falcon', 'falcon', 'falcon', 'falcon', 'falcon', 'falcon', 'falcon', 'falcon', 'falcon', 'falcon', 'falcon', 'falcon', 'falcon', 'falcon', 'falcon', 'falcon', 'falcon', 'falcon', 'falcon', 'falcon', 'falcon', 'falcon', 'falcon', 'falcon', 'falcon', 'falcon', 'falcon', 'falcon', 'falcon', 'falcon', 'falcon', 'falcon', 'falcon', 'falcon', 'falcon', 'falcon', 'falcon', 'falcon', 'falcon', 'falcon', 'falcon', 'falcon', 'falcon', 'falcon', 'falcon', 'falcon', 'falcon', 'falcon', 'falcon', 'falcon', 'falcon', 'falcon', 'falcon', 'falcon', 'falcon', 'falcon', 'falcon', 'falcon', 'falcon', 'falcon', 'falcon', 'falcon', 'falcon', 'falcon', 'falcon', 'falcon', 'falcon', 'falcon', 'falcon', 'falcon', 'falcon', 'falcon', 'falcon', 'falcon', 'falcon', 'falcon', 'falcon', 'falcon', 'falcon', 'falcon', 'falcon', 'falcon', 'falcon', 'falcon', 'falcon', 'falcon', 'falcon', 'falcon', 'falcon', 'falcon', 'falcon', 'falcon', 'falcon', 'falcon', 'falcon', 'falcon', 'falcon', 'falcon', 'falcon', 'falcon', 'falcon', 'falcon', 'falcon', 'falcon', 'falcon', 'falcon', 'falcon', 'falcon', 'falcon', 'falcon', 'falcon', 'falcon', 'falcon', 'falcon', 'falcon', 'falcon', 'falcon', 'falcon', 'falcon', 'falcon', 'falcon', 'falcon', 'falcon', 'falcon', 'falcon', 'falcon', 'falcon', 'falcon', 'falcon', 'falcon', 'falcon', 'falcon', 'falcon', 'falcon', 'falcon', 'falcon', 'falcon', 'falcon', 'falcon', 'falcon', 'falcon', 'falcon', 'falcon', 'falcon', 'falcon', 'falcon', 'falcon', 'falcon', 'falcon', 'falcon', 'falcon', 'falcon', 'falcon', 'falcon', 'falcon', 'falcon', 'falcon', 'falcon', 'falcon', 'falcon', 'falcon', 'falcon', 'falcon', 'falcon', 'falcon', 'falcon', 'falcon', 'falcon', 'falcon', 'falcon', 'falcon', 'falcon', 'falcon', 'falcon', 'falcon', 'falcon', 'falcon', 'falcon', 'falcon', 'falcon', 'falcon', 'falcon', 'falcon', 'falcon', 'falcon', 'falcon', 'falcon', 'falcon', 'falcon', 'falcon', 'falcon', 'falcon', 'falcon', 'falcon', 'falcon', 'falcon', 'falcon', 'falcon', 'falcon', 'falcon', 'falcon', 'falcon', 'falcon', 'falcon', 'falcon', 'falcon', 'falcon', 'falcon', 'falcon', 'falcon', 'falcon', 'falcon', 'falcon', 'falcon', 'falcon', 'falcon', 'falcon', 'falcon', 'falcon', 'falcon', 'falcon', 'falcon', 'falcon', 'falcon', 'falcon', 'falcon', 'falcon', 'falcon', 'falcon', 'falcon', 'falcon', 'falcon', 'falcon', 'falcon', 'falcon', 'falcon', 'falcon', 'falcon', 'falcon', 'falcon', 'falcon', 'falcon', 'falcon', 'falcon', 'falcon', 'falcon', 'falcon', 'falcon', 'falcon', 'falcon', 'falcon', 'falcon', 'falcon', 'falcon', 'falcon', 'falcon', 'falcon', 'falcon', 'falcon', 'falcon', 'falcon', 'falcon', 'falcon', 'falcon', 'falcon', 'falcon', 'falcon', 'falcon', 'falcon', 'falcon', 'falcon', 'falcon', 'falcon', 'falcon', 'falcon', 'falcon', 'falcon', 'falcon', 'falcon', 'falcon', 'falcon', 'falcon', 'falcon', 'falcon', 'falcon', 'falcon', 'falcon', 'falcon', 'falcon', 'falcon', 'falcon', 'falcon', 'falcon', 'falcon', 'falcon', 'falcon', 'falcon', 'falcon', 'falcon', 'falcon', 'falcon', 'falcon', 'falcon', 'falcon', 'falcon', 'falcon', 'falcon', 'falcon', 'falcon', 'falcon', 'falcon', 'falcon', 'falcon', 'falcon', 'falcon', 'falcon', 'falcon', 'falcon', 'falcon', 'falcon', 'falcon', 'falcon', 'falcon', 'falcon', 'falcon', 'falcon', 'falcon', 'falcon', 'falcon', 'falcon', 'falcon', 'falcon', 'falcon', 'falcon', 'falcon', 'falcon', 'falcon', 'falcon', 'falcon', 'falcon', 'falcon', 'falcon', 'falcon', 'falcon', 'falcon', 'falcon', 'falcon', 'falcon', 'falcon', 'falcon', 'falcon', 'falcon', 'falcon', 'falcon', 'falcon', 'falcon', 'falcon', 'falcon', 'falcon', 'falcon', 'falcon', 'falcon', 'falcon', 'falcon', 'falcon', 'falcon', 'falcon', 'falcon', 'falcon', 'falcon', 'falcon', 'falcon', 'falcon', 'falcon', 'falcon', 'falcon', 'falcon', 'falcon', 'falcon', 'falcon', 'falcon', 'falcon', 'falcon', 'falcon', 'falcon', 'falcon', 'falcon', 'falcon', 'falcon', 'falcon', 'falcon', 'falcon', 'falcon', 'falcon', 'falcon', 'falcon', 'falcon', 'falcon', 'falcon', 'falcon', 'falcon', 'falcon', 'falcon', 'falcon', 'falcon', 'falcon', 'falcon', 'falcon', 'falcon', 'falcon', 'falcon', 'falcon', 'falcon', 'falcon', 'falcon', 'falcon', 'falcon', 'falcon', 'falcon', 'falcon', 'falcon', 'falcon', 'falcon', 'falcon', 'falcon', 'falcon', 'falcon', 'falcon', 'falcon', 'falcon', 'falcon', 'falcon', 'falcon', 'falcon', 'falcon', 'falcon', 'falcon', 'falcon', 'falcon', 'falcon', 'falcon', 'falcon', 'falcon', 'falcon', 'falcon', 'falcon', 'falcon', 'falcon', 'falcon', 'falcon', 'falcon', 'falcon', 'falcon', 'falcon', 'falcon', 'falcon', 'falcon', 'falcon', 'falcon', 'falcon', 'falcon', 'falcon', 'falcon', 'falcon', 'falcon', 'falcon', 'falcon', 'falcon', 'falcon', 'falcon', 'falcon', 'falcon', 'falcon', 'falcon', 'falcon', 'falcon', 'falcon', 'falcon', 'falcon', 'falcon', 'falcon', 'falcon', 'falcon', 'falcon', 'falcon', 'falcon', 'falcon', 'falcon', 'falcon', 'falcon', 'falcon', 'falcon', 'falcon', 'falcon', 'falcon', 'falcon', 'falcon', 'falcon', 'falcon', 'falcon', 'falcon', 'falcon', 'falcon', 'falcon', 'falcon', 'falcon', 'falcon', 'falcon', 'falcon', 'falcon', 'falcon', 'falcon', 'falcon', 'falcon', 'falcon', 'falcon', 'falcon', 'falcon', 'falcon', 'falcon', 'falcon', 'falcon', 'falcon', 'falcon', 'falcon', 'falcon', 'falcon', 'falcon', 'falcon', 'falcon', 'falcon', 'falcon', 'falcon', 'falcon', 'falcon', 'falcon', 'falcon', 'falcon', 'falcon', 'falcon', 'falcon', 'falcon', 'falcon', 'falcon', 'falcon', 'falcon', 'falcon', 'falcon', 'falcon', 'falcon', 'falcon', 'falcon', 'falcon', 'falcon', 'falcon', 'falcon', 'falcon', 'falcon', 'falcon', 'falcon', 'falcon', 'falcon', 'falcon', 'falcon', 'falcon', 'falcon', 'falcon', 'falcon', 'falcon', 'falcon', 'falcon', 'falcon', 'falcon', 'falcon', 'falcon', 'falcon', 'falcon', 'falcon', 'falcon', 'falcon', 'falcon', 'falcon', 'falcon', 'falcon', 'falcon', 'falcon', 'falcon', 'falcon', 'falcon', 'falcon', 'falcon', 'falcon', 'falcon', 'falcon', 'falcon', 'falcon', 'falcon', 'falcon', 'falcon', 'falcon', 'falcon', 'falcon', 'falcon', 'falcon', 'falcon', 'falcon', 'falcon', 'falcon', 'falcon', 'falcon', 'falcon', 'falcon', 'falcon', 'falcon', 'falcon', 'falcon', 'falcon', 'falcon', 'falcon', 'falcon', 'falcon', 'falcon', 'falcon', 'falcon', 'falcon', 'falcon', 'falcon', 'falcon', 'falcon', 'falcon', 'falcon', 'falcon', 'falcon', 'falcon', 'falcon', 'falcon', 'falcon', 'falcon', 'falcon', 'falcon', 'falcon', 'falcon', 'falcon', 'falcon', 'falcon', 'falcon', 'falcon', 'falcon', 'falcon', 'falcon', 'falcon', 'falcon', 'falcon', 'falcon', 'falcon', 'falcon', 'falcon', 'falcon', 'falcon', 'falcon', 'falcon', 'falcon', 'falcon', 'falcon', 'falcon', 'falcon', 'falcon', 'falcon', 'falcon', 'falcon', 'falcon', 'falcon', 'falcon', 'falcon', 'falcon', 'falcon', 'falcon', 'falcon', 'falcon', 'falcon', 'falcon', 'falcon', 'falcon', 'falcon', 'falcon', 'falcon', 'falcon', 'falcon', 'falcon', 'falcon', 'falcon', 'falcon', 'falcon', 'falcon', 'falcon', 'falcon', 'falcon', 'falcon', 'falcon', 'falcon', 'falcon', 'falcon', 'falcon', 'falcon', 'falcon', 'falcon', 'falcon', 'falcon', 'falcon', 'falcon', 'falcon', 'falcon', 'falcon', 'falcon', 'falcon', 'falcon', 'falcon', 'falcon', 'falcon', 'falcon', 'falcon', 'falcon', 'falcon', 'falcon', 'falcon', 'falcon', 'falcon', 'falcon', 'falcon', 'falcon', 'falcon', 'falcon', 'falcon', 'falcon', 'falcon', 'falcon', 'falcon', 'falcon', 'falcon', 'falcon', 'falcon', 'falcon', 'falcon', 'falcon', 'falcon', 'falcon', 'falcon', 'falcon', 'falcon', 'falcon', 'falcon', 'falcon', 'falcon', 'falcon', 'falcon', 'falcon', 'falcon', 'falcon', 'falcon', 'falcon', 'falcon', 'falcon', 'falcon', 'falcon', 'falcon', 'falcon', 'falcon', 'falcon', 'falcon', 'falcon', 'falcon', 'falcon', 'falcon', 'falcon', 'falcon', 'falcon', 'falcon', 'falcon', 'falcon', 'falcon', 'falcon', 'falcon', 'falcon', 'falcon', 'falcon', 'falcon', 'falcon', 'falcon', 'falcon', 'falcon', 'falcon', 'falcon', 'falcon', 'falcon', 'falcon', 'falcon', 'falcon', 'falcon', 'falcon', 'falcon', 'falcon', 'falcon', 'falcon', 'falcon', 'falcon', 'falcon', 'falcon', 'falcon', 'falcon', 'falcon', 'falcon', 'falcon', 'falcon', 'falcon', 'falcon', 'falcon', 'falcon', 'falcon', 'falcon', 'falcon', 'falcon', 'falcon', 'falcon', 'falcon', 'falcon', 'falcon', 'falcon', 'falcon', 'falcon', 'falcon', 'falcon', 'falcon', 'falcon', 'falcon', 'falcon', 'falcon', 'falcon', 'falcon', 'falcon', 'falcon', 'falcon', 'falcon', 'falcon', 'falcon', 'falcon', 'falcon', 'falcon', 'falcon', 'falcon', 'falcon', 'falcon', 'falcon', 'falcon', 'falcon', 'falcon', 'falcon', 'falcon', 'falcon', 'falcon', 'falcon', 'falcon', 'falcon', 'falcon', 'falcon', 'falcon', 'falcon', 'falcon', 'falcon', 'falcon', 'falcon', 'falcon', 'falcon', 'falcon', 'falcon', 'falcon', 'falcon', 'falcon', 'falcon', 'falcon', 'falcon', 'falcon', 'falcon', 'falcon', 'falcon', 'falcon', 'falcon', 'falcon', 'falcon', 'falcon', 'falcon', 'falcon', 'falcon', 'falcon', 'falcon', 'falcon', 'falcon', 'falcon', 'falcon', 'falcon', 'falcon', 'falcon', 'falcon', 'falcon', 'falcon', 'falcon', 'falcon', 'falcon', 'falcon', 'falcon', 'falcon', 'falcon', 'falcon', 'falcon', 'falcon', 'falcon', 'falcon', 'falcon', 'falcon', 'falcon', 'falcon', 'falcon', 'falcon', 'falcon', 'falcon', 'falcon', 'falcon', 'falcon', 'falcon', 'falcon', 'falcon', 'falcon', 'falcon', 'falcon', 'falcon', 'falcon', 'falcon', 'falcon', 'falcon', 'falcon', 'falcon', 'falcon', 'falcon', 'falcon', 'falcon', 'falcon', 'falcon', 'falcon', 'falcon', 'falcon', 'falcon', 'falcon', 'falcon', 'falcon', 'falcon', 'falcon', 'falcon', 'falcon', 'falcon', 'falcon', 'falcon', 'falcon', 'falcon', 'falcon', 'falcon', 'falcon', 'falcon', 'falcon', 'falcon', 'falcon', 'falcon', 'falcon', 'falcon', 'falcon', 'falcon', 'falcon', 'falcon', 'falcon', 'falcon', 'falcon', 'falcon', 'falcon', 'falcon', 'falcon', 'falcon', 'falcon', 'falcon', 'falcon', 'falcon', 'falcon', 'falcon', 'falcon', 'falcon', 'falcon', 'falcon', 'falcon', 'falcon', 'falcon', 'falcon', 'falcon', 'falcon', 'falcon', 'falcon', 'falcon', 'falcon', 'falcon', 'falcon', 'falcon', 'falcon', 'falcon', 'falcon', 'falcon', 'falcon', 'falcon', 'falcon', 'falcon', 'falcon', 'falcon', 'falcon', 'falcon', 'falcon', 'falcon', 'falcon', 'falcon', 'falcon', 'falcon', 'falcon', 'falcon', 'falcon', 'falcon', 'falcon', 'falcon', 'falcon', 'falcon', 'falcon', 'falcon', 'falcon', 'falcon', 'falcon', 'falcon', 'falcon', 'falcon', 'falcon', 'falcon', 'falcon', 'falcon', 'falcon', 'falcon', 'falcon', 'falcon', 'falcon', 'falcon', 'falcon', 'falcon', 'falcon', 'falcon', 'falcon', 'falcon', 'falcon', 'falcon', 'falcon', 'falcon', 'falcon', 'falcon', 'falcon', 'falcon', 'falcon', 'falcon', 'falcon', 'falcon', 'falcon', 'falcon', 'falcon', 'falcon', 'falcon', 'falcon', 'falcon', 'falcon', 'falcon', 'falcon', 'falcon', 'falcon', 'falcon', 'llama2', 'llama2', 'llama2', 'llama2', 'llama2', 'llama2', 'llama2', 'llama2', 'llama2', 'llama2', 'llama2', 'llama2', 'llama2', 'llama2', 'llama2', 'llama2', 'llama2', 'llama2', 'llama2', 'llama2', 'llama2', 'llama2', 'llama2', 'llama2', 'llama2', 'llama2', 'llama2', 'llama2', 'llama2', 'llama2', 'llama2', 'llama2', 'llama2', 'llama2', 'llama2', 'llama2', 'llama2', 'llama2', 'llama2', 'llama2', 'llama2', 'llama2', 'llama2', 'llama2', 'llama2', 'llama2', 'llama2', 'llama2', 'llama2', 'llama2', 'llama2', 'llama2', 'llama2', 'llama2', 'llama2', 'llama2', 'llama2', 'llama2', 'llama2', 'llama2', 'llama2', 'llama2', 'llama2', 'llama2', 'llama2', 'llama2', 'llama2', 'llama2', 'llama2', 'llama2', 'llama2', 'llama2', 'llama2', 'llama2', 'llama2', 'llama2', 'llama2', 'llama2', 'llama2', 'llama2', 'llama2', 'llama2', 'llama2', 'llama2', 'llama2', 'llama2', 'llama2', 'llama2', 'llama2', 'llama2', 'llama2', 'llama2', 'llama2', 'llama2', 'llama2', 'llama2', 'llama2', 'llama2', 'llama2', 'llama2', 'llama2', 'llama2', 'llama2', 'llama2', 'llama2', 'llama2', 'llama2', 'llama2', 'llama2', 'llama2', 'llama2', 'llama2', 'llama2', 'llama2', 'llama2', 'llama2', 'llama2', 'llama2', 'llama2', 'llama2', 'llama2', 'llama2', 'llama2', 'llama2', 'llama2', 'llama2', 'llama2', 'llama2', 'llama2', 'llama2', 'llama2', 'llama2', 'llama2', 'llama2', 'llama2', 'llama2', 'llama2', 'llama2', 'llama2', 'llama2', 'llama2', 'llama2', 'llama2', 'llama2', 'llama2', 'llama2', 'llama2', 'llama2', 'llama2', 'llama2', 'llama2', 'llama2', 'llama2', 'llama2', 'llama2', 'llama2', 'llama2', 'llama2', 'llama2', 'llama2', 'llama2', 'llama2', 'llama2', 'llama2', 'llama2', 'llama2', 'llama2', 'llama2', 'llama2', 'llama2', 'llama2', 'llama2', 'llama2', 'llama2', 'llama2', 'llama2', 'llama2', 'llama2', 'llama2', 'llama2', 'llama2', 'llama2', 'llama2', 'llama2', 'llama2', 'llama2', 'llama2', 'llama2', 'llama2', 'llama2', 'llama2', 'llama2', 'llama2', 'llama2', 'llama2', 'llama2', 'llama2', 'llama2', 'llama2', 'llama2', 'llama2', 'llama2', 'llama2', 'llama2', 'llama2', 'llama2', 'llama2', 'llama2', 'llama2', 'llama2', 'llama2', 'llama2', 'llama2', 'llama2', 'llama2', 'llama2', 'llama2', 'llama2', 'llama2', 'llama2', 'llama2', 'llama2', 'llama2', 'llama2', 'llama2', 'llama2', 'llama2', 'llama2', 'llama2', 'llama2', 'llama2', 'llama2', 'llama2', 'llama2', 'llama2', 'llama2', 'llama2', 'llama2', 'llama2', 'llama2', 'llama2', 'llama2', 'llama2', 'llama2', 'llama2', 'llama2', 'llama2', 'llama2', 'llama2', 'llama2', 'llama2', 'llama2', 'llama2', 'llama2', 'llama2', 'llama2', 'llama2', 'llama2', 'llama2', 'llama2', 'llama2', 'llama2', 'llama2', 'llama2', 'llama2', 'llama2', 'llama2', 'llama2', 'llama2', 'llama2', 'llama2', 'llama2', 'llama2', 'llama2', 'llama2', 'llama2', 'llama2', 'llama2', 'llama2', 'llama2', 'llama2', 'llama2', 'llama2', 'llama2', 'llama2', 'llama2', 'llama2', 'llama2', 'llama2', 'llama2', 'llama2', 'llama2', 'llama2', 'llama2', 'llama2', 'llama2', 'llama2', 'llama2', 'llama2', 'llama2', 'llama2', 'llama2', 'llama2', 'llama2', 'llama2', 'llama2', 'llama2', 'llama2', 'llama2', 'llama2', 'llama2', 'llama2', 'llama2', 'llama2', 'llama2', 'llama2', 'llama2', 'llama2', 'llama2', 'llama2', 'llama2', 'llama2', 'llama2', 'llama2', 'llama2', 'llama2', 'llama2', 'llama2', 'llama2', 'llama2', 'llama2', 'llama2', 'llama2', 'llama2', 'llama2', 'llama2', 'llama2', 'llama2', 'llama2', 'llama2', 'llama2', 'llama2', 'llama2', 'llama2', 'llama2', 'llama2', 'llama2', 'llama2', 'llama2', 'llama2', 'llama2', 'llama2', 'llama2', 'llama2', 'llama2', 'llama2', 'llama2', 'llama2', 'llama2', 'llama2', 'llama2', 'llama2', 'llama2', 'llama2', 'llama2', 'llama2', 'llama2', 'llama2', 'llama2', 'llama2', 'llama2', 'llama2', 'llama2', 'llama2', 'llama2', 'llama2', 'llama2', 'llama2', 'llama2', 'llama2', 'llama2', 'llama2', 'llama2', 'llama2', 'llama2', 'llama2', 'llama2', 'llama2', 'llama2', 'llama2', 'llama2', 'llama2', 'llama2', 'llama2', 'llama2', 'llama2', 'llama2', 'llama2', 'llama2', 'llama2', 'llama2', 'llama2', 'llama2', 'llama2', 'llama2', 'llama2', 'llama2', 'llama2', 'llama2', 'llama2', 'llama2', 'llama2', 'llama2', 'llama2', 'llama2', 'llama2', 'llama2', 'llama2', 'llama2', 'llama2', 'llama2', 'llama2', 'llama2', 'llama2', 'llama2', 'llama2', 'llama2', 'llama2', 'llama2', 'llama2', 'llama2', 'llama2', 'llama2', 'llama2', 'llama2', 'llama2', 'llama2', 'llama2', 'llama2', 'llama2', 'llama2', 'llama2', 'llama2', 'llama2', 'llama2', 'llama2', 'llama2', 'llama2', 'llama2', 'llama2', 'llama2', 'llama2', 'llama2', 'llama2', 'llama2', 'llama2', 'llama2', 'llama2', 'llama2', 'llama2', 'llama2', 'llama2', 'llama2', 'llama2', 'llama2', 'llama2', 'llama2', 'llama2', 'llama2', 'llama2', 'llama2', 'llama2', 'llama2', 'llama2', 'llama2', 'llama2', 'llama2', 'llama2', 'llama2', 'llama2', 'llama2', 'llama2', 'llama2', 'llama2', 'llama2', 'llama2', 'llama2', 'llama2', 'llama2', 'llama2', 'llama2', 'llama2', 'llama2', 'llama2', 'llama2', 'llama2', 'llama2', 'llama2', 'llama2', 'llama2', 'llama2', 'llama2', 'llama2', 'llama2', 'llama2', 'llama2', 'llama2', 'llama2', 'llama2', 'llama2', 'llama2', 'llama2', 'llama2', 'llama2', 'llama2', 'llama2', 'llama2', 'llama2', 'llama2', 'llama2', 'llama2', 'llama2', 'llama2', 'llama2', 'llama2', 'llama2', 'llama2', 'llama2', 'llama2', 'llama2', 'llama2', 'llama2', 'llama2', 'llama2', 'llama2', 'llama2', 'llama2', 'llama2', 'llama2', 'llama2', 'llama2', 'llama2', 'llama2', 'llama2', 'llama2', 'llama2', 'llama2', 'llama2', 'llama2', 'llama2', 'llama2', 'llama2', 'llama2', 'llama2', 'llama2', 'llama2', 'llama2', 'llama2', 'llama2', 'llama2', 'llama2', 'llama2', 'llama2', 'llama2', 'llama2', 'llama2', 'llama2', 'llama2', 'llama2', 'llama2', 'llama2', 'llama2', 'llama2', 'llama2', 'llama2', 'llama2', 'llama2', 'llama2', 'llama2', 'llama2', 'llama2', 'llama2', 'llama2', 'llama2', 'llama2', 'llama2', 'llama2', 'llama2', 'llama2', 'llama2', 'llama2', 'llama2', 'llama2', 'llama2', 'llama2', 'llama2', 'llama2', 'llama2', 'llama2', 'llama2', 'llama2', 'llama2', 'llama2', 'llama2', 'llama2', 'llama2', 'llama2', 'llama2', 'llama2', 'llama2', 'llama2', 'llama2', 'llama2', 'llama2', 'llama2', 'llama2', 'llama2', 'llama2', 'llama2', 'llama2', 'llama2', 'llama2', 'llama2', 'llama2', 'llama2', 'llama2', 'llama2', 'llama2', 'llama2', 'llama2', 'llama2', 'llama2', 'llama2', 'llama2', 'llama2', 'llama2', 'llama2', 'llama2', 'llama2', 'llama2', 'llama2', 'llama2', 'llama2', 'llama2', 'llama2', 'llama2', 'llama2', 'llama2', 'llama2', 'llama2', 'llama2', 'llama2', 'llama2', 'llama2', 'llama2', 'llama2', 'llama2', 'llama2', 'llama2', 'llama2', 'llama2', 'llama2', 'llama2', 'llama2', 'llama2', 'llama2', 'llama2', 'llama2', 'llama2', 'llama2', 'llama2', 'llama2', 'llama2', 'llama2', 'llama2', 'llama2', 'llama2', 'llama2', 'llama2', 'llama2', 'llama2', 'llama2', 'llama2', 'llama2', 'llama2', 'llama2', 'llama2', 'llama2', 'llama2', 'llama2', 'llama2', 'llama2', 'llama2', 'llama2', 'llama2', 'llama2', 'llama2', 'llama2', 'llama2', 'llama2', 'llama2', 'llama2', 'llama2', 'llama2', 'llama2', 'llama2', 'llama2', 'llama2', 'llama2', 'llama2', 'llama2', 'llama2', 'llama2', 'llama2', 'llama2', 'llama2', 'llama2', 'llama2', 'llama2', 'llama2', 'llama2', 'llama2', 'llama2', 'llama2', 'llama2', 'llama2', 'llama2', 'llama2', 'llama2', 'llama2', 'llama2', 'llama2', 'llama2', 'llama2', 'llama2', 'llama2', 'llama2', 'llama2', 'llama2', 'llama2', 'llama2', 'llama2', 'llama2', 'llama2', 'llama2', 'llama2', 'llama2', 'llama2', 'llama2', 'llama2', 'llama2', 'llama2', 'llama2', 'llama2', 'llama2', 'llama2', 'llama2', 'llama2', 'llama2', 'llama2', 'llama2', 'llama2', 'llama2', 'llama2', 'llama2', 'llama2', 'llama2', 'llama2', 'llama2', 'llama2', 'llama2', 'llama2', 'llama2', 'llama2', 'llama2', 'llama2', 'llama2', 'llama2', 'llama2', 'llama2', 'llama2', 'llama2', 'llama2', 'llama2', 'llama2', 'llama2', 'llama2', 'llama2', 'llama2', 'llama2', 'llama2', 'llama2', 'llama2', 'llama2', 'llama2', 'llama2', 'llama2', 'llama2', 'llama2', 'llama2', 'llama2', 'llama2', 'llama2', 'llama2', 'llama2', 'llama2', 'llama2', 'llama2', 'llama2', 'llama2', 'llama2', 'llama2', 'llama2', 'llama2', 'llama2', 'llama2', 'llama2', 'llama2', 'llama2', 'llama2', 'llama2', 'llama2', 'llama2', 'llama2', 'llama2', 'llama2', 'llama2', 'llama2', 'llama2', 'llama2', 'llama2', 'llama2', 'llama2', 'llama2', 'llama2', 'llama2', 'llama2', 'llama2', 'llama2', 'llama2', 'llama2', 'llama2', 'llama2', 'llama2', 'llama2', 'llama2', 'llama2', 'llama2', 'llama2', 'llama2', 'llama2', 'llama2', 'llama2', 'llama2', 'llama2', 'llama2', 'llama2', 'llama2', 'llama2', 'llama2', 'llama2', 'llama2', 'llama2', 'llama2', 'llama2', 'llama2', 'llama2', 'llama2', 'llama2', 'llama2', 'llama2', 'llama2', 'llama2', 'llama2', 'llama2', 'llama2', 'llama2', 'llama2', 'llama2', 'llama2', 'llama2', 'llama2', 'llama2', 'llama2', 'llama2', 'llama2', 'llama2', 'llama2', 'llama2', 'llama2', 'llama2', 'llama2', 'llama2', 'llama2', 'llama2', 'llama2', 'llama2', 'llama2', 'llama2', 'llama2', 'llama2', 'llama2', 'llama2', 'llama2', 'llama2', 'llama2', 'llama2', 'llama2', 'llama2', 'llama2', 'llama2', 'llama2', 'llama2', 'llama2', 'llama2', 'llama2', 'llama2', 'llama2', 'llama2', 'llama2', 'llama2', 'llama2', 'llama2', 'llama2', 'llama2', 'llama2', 'llama2', 'llama2', 'llama2', 'llama2', 'llama2', 'llama2', 'llama2', 'llama2', 'llama2', 'llama2', 'llama2', 'llama2', 'llama2', 'llama2', 'llama2', 'llama2', 'llama2', 'llama2', 'llama2', 'llama2', 'llama2', 'llama2', 'llama2', 'llama2', 'llama2', 'llama2', 'llama2', 'llama2', 'llama2', 'llama2', 'llama2', 'llama2', 'llama2', 'llama2', 'llama2', 'llama2', 'llama2', 'llama2', 'llama2', 'llama2', 'llama2', 'llama2', 'llama2', 'llama2', 'llama2', 'llama2', 'llama2', 'llama2', 'llama2', 'llama2', 'llama2', 'llama2', 'llama2', 'llama2', 'llama2', 'llama2', 'llama2', 'llama2', 'llama2', 'llama2', 'llama2', 'llama2', 'llama2', 'llama2', 'llama2', 'llama2', 'llama2', 'llama2', 'llama2', 'llama2', 'llama2', 'llama2', 'llama2', 'llama2', 'llama2', 'llama2', 'llama2', 'llama2', 'llama2', 'llama2', 'llama2', 'llama2', 'llama2', 'llama2', 'llama2', 'llama2', 'llama2', 'llama2', 'llama2', 'llama2', 'llama2', 'llama2', 'llama2', 'llama2', 'llama2', 'llama2', 'llama2', 'llama2', 'llama2', 'llama2', 'llama2', 'llama2', 'llama2', 'llama2', 'llama2', 'llama2', 'llama2', 'llama2', 'llama2', 'llama2', 'llama2', 'llama2', 'llama2', 'llama2', 'llama2', 'llama2', 'llama2', 'llama2', 'llama2', 'llama2', 'llama2', 'llama2', 'llama2', 'llama2', 'llama2', 'llama2', 'llama2', 'llama2', 'llama2', 'llama2', 'llama2', 'llama2', 'llama2', 'llama2', 'llama2', 'llama2', 'llama2', 'llama2', 'llama2', 'llama2', 'llama2', 'llama2', 'llama2', 'llama2', 'llama2', 'llama2', 'llama2', 'llama2', 'llama2', 'llama2', 'llama2', 'llama2', 'llama2', 'llama2', 'llama2', 'llama2', 'llama2', 'llama2', 'llama2', 'llama2', 'llama2', 'llama2', 'llama2', 'llama2', 'llama2', 'llama2', 'llama2', 'llama2', 'llama2', 'llama2', 'llama2', 'llama2', 'llama2', 'llama2', 'llama2', 'llama2', 'llama2', 'llama2', 'llama2', 'llama2', 'llama2', 'llama2', 'llama2', 'llama2', 'llama2', 'llama2', 'llama2', 'llama2', 'llama2', 'llama2', 'llama2', 'llama2', 'llama2', 'llama2', 'llama2', 'llama2', 'llama2', 'llama2', 'llama2', 'llama2', 'llama2', 'llama2', 'llama2', 'llama2', 'llama2', 'llama2', 'llama2', 'llama2', 'llama2', 'llama2', 'llama2', 'llama2', 'llama2', 'llama2', 'llama2', 'llama2', 'llama2', 'llama2', 'llama2', 'llama2', 'llama2', 'llama2', 'llama2', 'llama2', 'llama2', 'llama2', 'llama2', 'llama2', 'llama2', 'llama2', 'llama2', 'llama2', 'llama2', 'llama2', 'llama2', 'llama2', 'llama2', 'llama2', 'llama2', 'llama2', 'llama2', 'llama2', 'llama2', 'llama2', 'llama2', 'llama2', 'llama2', 'llama2', 'llama2', 'llama2', 'llama2', 'llama2', 'llama2', 'llama2', 'llama2', 'llama2', 'llama2', 'llama2', 'llama2', 'llama2', 'llama2', 'llama2', 'llama2', 'llama2', 'llama2', 'llama2', 'llama2', 'llama2', 'llama2', 'llama2', 'llama2', 'llama2', 'llama2', 'llama2', 'llama2', 'llama2', 'llama2', 'llama2', 'llama2', 'llama2', 'llama2', 'llama2', 'llama2', 'llama2', 'llama2', 'llama2', 'llama2', 'llama2', 'llama2', 'llama2', 'llama2', 'llama2', 'llama2', 'llama2', 'llama2', 'llama2', 'llama2', 'llama2', 'llama2', 'llama2', 'llama2', 'llama2', 'llama2', 'llama2', 'llama2', 'llama2', 'llama2', 'llama2', 'llama2', 'llama2', 'llama2', 'llama2', 'llama2', 'llama2', 'llama2', 'llama2', 'llama2', 'llama2', 'llama2', 'llama2', 'llama2', 'llama2', 'llama2', 'llama2', 'llama2', 'llama2', 'llama2', 'llama2', 'llama2', 'llama2', 'llama2', 'llama2', 'llama2', 'llama2', 'llama2', 'llama2', 'llama2', 'llama2', 'llama2', 'llama2', 'llama2', 'llama2', 'llama2', 'llama2', 'llama2', 'llama2', 'llama2', 'llama2', 'llama2', 'llama2', 'llama2', 'llama2', 'llama2', 'llama2', 'llama2', 'llama2', 'llama2', 'llama2', 'llama2', 'llama2', 'llama2', 'llama2', 'llama2', 'llama2', 'llama2', 'llama2', 'llama2', 'llama2', 'llama2', 'llama2', 'llama2', 'llama2', 'llama2', 'llama2', 'llama2', 'llama2', 'llama2', 'llama2', 'llama2', 'llama2', 'llama2', 'llama2', 'llama2', 'llama2', 'llama2', 'llama2', 'llama2', 'llama2', 'llama2', 'llama2', 'llama2', 'llama2', 'llama2', 'llama2', 'llama2', 'llama2', 'llama2', 'llama2', 'llama2', 'llama2', 'llama2', 'llama2', 'llama2', 'llama2', 'llama2', 'llama2', 'llama2', 'llama2', 'llama2', 'llama2', 'llama2', 'llama2', 'llama2', 'llama2', 'llama2', 'llama2', 'llama2', 'llama2', 'llama2', 'llama2', 'llama2', 'llama2', 'llama2', 'llama2', 'llama2', 'llama2', 'llama2', 'llama2', 'llama2', 'llama2', 'llama2', 'llama2', 'llama2', 'llama2', 'llama2', 'llama2', 'llama2', 'llama2', 'llama2', 'llama2', 'llama2', 'llama2', 'llama2', 'llama2', 'llama2', 'llama2', 'llama2', 'llama2', 'llama2', 'llama2', 'llama2', 'llama2', 'llama2', 'llama2', 'llama2', 'llama2', 'llama2', 'llama2', 'llama2', 'llama2', 'llama2', 'llama2', 'llama2', 'llama2', 'llama2', 'llama2', 'llama2', 'llama2', 'llama2', 'llama2', 'llama2', 'llama2', 'llama2', 'llama2', 'llama2', 'llama2', 'llama2', 'llama2', 'llama2', 'llama2', 'llama2', 'llama2', 'llama2', 'llama2', 'llama2', 'llama2', 'llama2', 'llama2', 'llama2', 'llama2', 'llama2', 'llama2', 'llama2', 'llama2', 'llama2', 'llama2', 'llama2', 'llama2', 'llama2', 'llama2', 'llama2', 'llama2', 'llama2', 'llama2', 'llama2', 'llama2', 'llama2', 'llama2', 'llama2', 'llama2', 'llama2', 'llama2', 'llama2', 'llama2', 'llama2', 'llama2', 'llama2', 'llama2', 'llama2', 'llama2', 'llama2', 'llama2', 'llama2', 'llama2', 'llama2', 'llama2', 'llama2', 'llama2', 'llama2', 'llama2', 'llama2', 'llama2', 'llama2', 'llama2', 'llama2', 'llama2', 'llama2', 'llama2', 'llama2', 'llama2', 'llama2', 'llama2', 'llama2', 'llama2', 'llama2', 'llama2', 'llama2', 'llama2', 'llama2', 'llama2', 'llama2', 'llama2', 'llama2', 'llama2', 'llama2', 'llama2', 'llama2', 'llama2', 'llama2', 'llama2', 'llama2', 'llama2', 'llama2', 'llama2', 'llama2', 'llama2', 'llama2', 'llama2', 'llama2', 'llama2', 'llama2', 'llama2', 'llama2', 'llama2', 'llama2', 'llama2', 'llama2', 'llama2', 'llama2', 'llama2', 'llama2', 'llama2', 'llama2', 'llama2', 'llama2', 'llama2', 'llama2', 'llama2', 'llama2', 'llama2', 'llama2', 'llama2', 'llama2', 'llama2', 'llama2', 'llama2', 'llama2', 'llama2', 'llama2', 'llama2', 'llama2', 'llama2', 'llama2', 'llama2', 'llama2', 'llama2', 'llama2', 'llama2', 'llama2', 'llama2', 'llama2', 'llama2', 'llama2', 'llama2', 'llama2', 'llama2', 'llama2', 'llama2', 'llama2', 'llama2', 'llama2', 'llama2', 'llama2', 'llama2', 'llama2', 'llama2', 'llama2', 'llama2', 'llama2', 'llama2', 'llama2', 'llama2', 'llama2', 'llama2', 'llama2', 'llama2', 'llama2', 'llama2', 'llama2', 'llama2', 'llama2', 'llama2', 'llama2', 'llama2', 'llama2', 'llama2', 'llama2', 'llama2', 'llama2', 'llama2', 'llama2', 'llama2', 'llama2', 'llama2', 'llama2', 'llama2', 'llama2', 'llama2', 'llama2', 'llama2', 'llama2', 'llama2', 'llama2', 'llama2', 'llama2', 'llama2', 'llama2', 'llama2', 'llama2', 'llama2', 'llama2', 'llama2', 'llama2', 'llama2', 'llama2', 'llama2', 'llama2', 'llama2', 'llama2', 'llama2', 'llama2', 'llama2', 'llama2', 'llama2', 'llama2', 'llama2', 'llama2', 'llama2', 'llama2', 'llama2', 'llama2', 'llama2', 'llama2', 'llama2', 'llama2', 'llama2', 'llama2', 'llama2', 'llama2', 'llama2', 'llama2', 'llama2', 'llama2', 'llama2', 'llama2', 'llama2', 'llama2', 'llama2', 'llama2', 'llama2', 'llama2', 'llama2', 'llama2', 'llama2', 'llama2', 'llama2', 'llama2', 'llama2', 'llama2', 'llama2', 'llama2', 'llama2', 'llama2', 'llama2', 'llama2', 'llama2', 'llama2', 'llama2', 'llama2', 'llama2', 'llama2', 'llama2', 'llama2', 'llama2', 'llama2', 'llama2', 'llama2', 'llama2', 'llama2', 'llama2', 'llama2', 'llama2', 'llama2', 'llama2', 'llama2', 'llama2', 'llama2', 'llama2', 'llama2', 'llama2', 'llama2', 'llama2', 'llama2', 'llama2', 'llama2', 'llama2', 'llama2', 'llama2', 'llama2', 'llama2', 'llama2', 'llama2', 'llama2', 'llama2', 'llama2', 'llama2', 'llama2', 'llama2', 'llama2', 'llama2', 'llama2', 'llama2', 'llama2', 'llama2', 'llama2', 'llama2', 'llama2', 'llama2', 'llama2', 'llama2', 'llama2', 'llama2', 'llama2', 'llama2', 'llama2', 'llama2', 'llama2', 'llama2', 'llama2', 'llama2', 'llama2', 'llama2', 'llama2', 'llama2', 'llama2', 'llama2', 'llama2', 'llama2', 'llama2', 'llama2', 'llama2', 'llama2', 'llama2', 'llama2', 'llama2', 'llama2', 'llama2', 'llama2', 'llama2', 'llama2', 'llama2', 'llama2', 'llama2', 'llama2', 'llama2', 'llama2', 'llama2', 'llama2', 'llama2', 'llama2', 'llama2', 'llama2', 'llama2', 'llama2', 'llama2', 'llama2', 'llama2', 'llama2', 'llama2', 'llama2', 'llama2', 'llama2', 'llama2', 'llama2', 'llama2', 'llama2', 'llama2', 'llama2', 'llama2', 'llama2', 'llama2', 'llama2', 'llama2', 'llama2', 'llama2', 'llama2', 'llama2', 'llama2', 'llama2', 'llama2', 'llama2', 'llama2', 'llama2', 'llama2', 'llama2', 'llama2', 'llama2', 'llama2', 'llama2', 'llama2', 'llama2', 'llama2', 'llama2', 'llama2', 'llama2', 'llama2', 'llama2', 'llama2', 'llama2', 'llama2', 'llama2', 'llama2', 'llama2', 'llama2', 'llama2', 'llama2', 'llama2', 'llama2', 'llama2', 'llama2', 'llama2', 'llama2', 'llama2', 'llama2', 'llama2', 'llama2', 'llama2', 'llama2', 'llama2', 'llama2', 'llama2', 'llama2', 'llama2', 'llama2', 'llama2', 'llama2', 'llama2', 'llama2', 'llama2', 'llama2', 'llama2', 'llama2', 'llama2', 'llama2', 'llama2', 'llama2', 'llama2', 'llama2', 'llama2', 'llama2', 'llama2', 'llama2', 'llama2', 'llama2', 'llama2', 'llama2', 'llama2', 'llama2', 'llama2', 'llama2', 'llama2', 'llama2', 'llama2', 'llama2', 'llama2', 'llama2', 'llama2', 'llama2', 'llama2', 'llama2', 'llama2', 'llama2', 'llama2', 'llama2', 'llama2', 'llama2', 'llama2', 'llama2', 'llama2', 'llama2', 'llama2', 'llama2', 'llama2', 'llama2', 'llama2', 'llama2', 'llama2', 'llama2', 'llama2', 'llama2', 'llama2', 'llama2', 'llama2', 'llama2', 'llama2', 'llama2', 'llama2', 'llama2', 'llama2', 'llama2', 'llama2', 'llama2', 'llama2', 'llama2', 'llama2', 'llama2', 'llama2', 'llama2', 'llama2', 'llama2', 'llama2', 'llama2', 'llama2', 'llama2', 'llama2', 'llama2', 'llama2', 'llama2', 'llama2', 'llama2', 'llama2', 'llama2', 'llama2', 'llama2', 'llama2', 'llama2', 'llama2', 'llama2', 'llama2', 'llama2', 'llama2', 'llama2', 'llama2', 'llama2', 'llama2', 'llama2', 'llama2', 'llama2', 'llama2', 'llama2', 'llama2', 'llama2', 'llama2', 'llama2', 'llama2', 'llama2', 'llama2', 'llama2', 'llama2', 'llama2', 'llama2', 'llama2', 'llama2', 'llama2', 'llama2', 'llama2', 'llama2', 'llama2', 'llama2', 'llama2', 'llama2', 'llama2', 'llama2', 'llama2', 'llama2', 'llama2', 'llama2', 'llama2', 'llama2', 'llama2', 'llama2', 'llama2', 'llama2', 'llama2', 'llama2', 'llama2', 'llama2', 'llama2', 'llama2', 'llama2', 'llama2', 'llama2', 'llama2', 'llama2', 'llama2', 'llama2', 'llama2', 'llama2', 'llama2', 'llama2', 'llama2', 'llama2', 'llama2', 'llama2', 'llama2', 'llama2', 'llama2', 'llama2', 'llama2', 'llama2', 'llama2', 'llama2', 'llama2', 'llama2', 'llama2', 'llama2', 'llama2', 'llama2', 'llama2', 'llama2', 'llama2', 'llama2', 'llama2', 'llama2', 'llama2', 'llama2', 'llama2', 'llama2', 'llama2', 'llama2', 'llama2', 'llama2', 'llama2', 'llama2', 'llama2', 'llama2', 'llama2', 'llama2', 'llama2', 'llama2', 'llama2', 'llama2', 'llama2', 'llama2', 'llama2', 'llama2', 'llama2', 'llama2', 'llama2', 'llama2', 'llama2', 'llama2', 'llama2', 'llama2', 'llama2', 'llama2', 'llama2', 'llama2', 'llama2', 'llama2', 'llama2', 'llama2', 'llama2', 'llama2', 'llama2', 'llama2', 'llama2', 'llama2', 'llama2', 'llama2', 'llama2', 'llama2', 'llama2', 'llama2', 'llama2', 'llama2', 'llama2', 'llama2', 'llama2', 'llama2', 'llama2', 'llama2', 'llama2', 'llama2', 'llama2', 'llama2', 'llama2', 'llama2', 'llama2', 'llama2', 'llama2', 'llama2', 'llama2', 'llama2', 'llama2', 'llama2', 'llama2', 'llama2', 'llama2', 'llama2', 'llama2', 'llama2', 'llama2', 'llama2', 'llama2', 'llama2', 'llama2', 'llama2', 'llama2', 'llama2', 'llama2', 'llama2', 'llama2', 'llama2', 'llama2', 'llama2', 'llama2', 'llama2', 'llama2', 'llama2', 'llama2', 'llama2', 'llama2', 'llama2', 'llama2', 'llama2', 'llama2', 'llama2', 'llama2', 'llama2', 'llama2', 'llama2', 'llama2', 'llama2', 'llama2', 'llama2', 'llama2', 'llama2', 'llama2', 'llama2', 'llama2', 'llama2', 'llama2', 'llama2', 'llama2', 'llama2', 'llama2', 'llama2', 'llama2', 'llama2', 'llama2', 'llama2', 'llama2', 'llama2', 'llama2', 'llama2', 'llama2', 'llama2', 'llama2', 'llama2', 'llama2', 'llama2', 'llama2', 'llama2', 'llama2', 'llama2', 'llama2', 'llama2', 'llama2', 'llama2', 'llama2', 'llama2', 'llama2', 'llama2', 'llama2', 'llama2', 'llama2', 'llama2', 'llama2', 'llama2', 'llama2', 'llama2', 'llama2', 'llama2', 'llama2', 'llama2', 'llama2', 'llama2', 'llama2', 'llama2', 'llama2', 'llama2', 'llama2', 'llama2', 'llama2', 'llama2', 'llama2', 'llama2', 'llama2', 'llama2', 'llama2', 'llama2', 'llama2', 'llama2', 'llama2', 'llama2', 'llama2', 'llama2', 'llama2', 'llama2', 'llama2', 'llama2', 'llama2', 'llama2', 'llama2', 'llama2', 'llama2', 'llama2', 'llama2', 'llama2', 'llama2', 'llama2', 'llama2', 'llama2', 'llama2', 'llama2', 'llama2', 'llama2', 'llama2', 'llama2', 'llama2', 'llama2', 'llama2', 'llama2', 'llama2', 'llama2', 'llama2', 'llama2', 'llama2', 'llama2', 'llama2', 'llama2', 'llama2', 'llama2', 'llama2', 'llama2', 'llama2', 'llama2', 'llama2', 'llama2', 'llama2', 'llama2', 'llama2', 'llama2', 'llama2', 'llama2', 'llama2', 'llama2', 'llama2', 'llama2', 'llama2', 'llama2', 'llama2', 'llama2', 'llama2', 'llama2', 'llama2', 'llama2', 'llama2', 'llama2', 'llama2', 'llama2', 'llama2', 'llama2', 'llama2', 'llama2', 'llama2', 'llama2', 'llama2', 'llama2', 'llama2', 'llama2', 'llama2', 'llama2', 'llama2', 'llama2', 'llama2', 'llama2', 'llama2', 'llama2', 'llama2', 'llama2', 'llama2', 'llama2', 'llama2', 'llama2', 'llama2', 'llama2', 'llama2', 'llama2', 'llama2', 'llama2', 'llama2', 'llama2', 'llama2', 'llama2', 'llama2', 'llama2', 'llama2', 'llama2', 'llama2', 'llama2', 'llama2', 'llama2', 'llama2', 'llama2', 'llama2', 'llama2', 'llama2', 'llama2', 'llama2', 'llama2', 'llama2', 'llama2', 'llama2', 'llama2', 'llama2', 'llama2', 'llama2', 'llama2', 'llama2', 'llama2', 'llama2', 'llama2', 'llama2', 'llama2', 'llama2', 'llama2', 'llama2', 'llama2', 'llama2', 'llama2', 'llama2', 'llama2', 'llama2', 'llama2', 'llama2', 'llama2', 'llama2', 'llama2', 'llama2', 'llama2', 'llama2', 'llama2', 'llama2', 'llama2', 'llama2', 'llama2', 'llama2', 'llama2', 'llama2', 'llama2', 'llama2', 'llama2', 'llama2', 'llama2', 'llama2', 'llama2', 'llama2', 'llama2', 'llama2', 'llama2', 'llama2', 'llama2', 'llama2', 'llama2', 'llama2', 'llama2', 'llama2', 'llama2', 'llama2', 'llama2', 'llama2', 'llama2', 'llama2', 'llama2', 'llama2', 'llama2', 'llama2', 'llama2', 'llama2', 'llama2', 'llama2', 'llama2', 'llama2', 'llama2', 'llama2', 'llama2', 'llama2', 'llama2', 'llama2', 'llama2', 'llama2', 'llama2', 'llama2', 'llama2', 'llama2', 'llama2', 'llama2', 'llama2', 'llama2', 'llama2', 'llama2', 'llama2', 'llama2', 'llama2', 'llama2', 'llama2', 'llama2', 'llama2', 'llama2', 'llama2', 'llama2', 'llama2', 'llama2', 'llama2', 'llama2', 'llama2', 'llama2', 'llama2', 'llama2', 'llama2', 'llama2', 'llama2', 'llama2', 'llama2', 'llama2', 'llama2', 'llama2', 'llama2', 'llama2', 'llama2', 'llama2', 'llama2', 'llama2', 'llama2', 'llama2', 'llama2', 'llama2', 'llama2', 'llama2', 'llama2', 'llama2', 'llama2', 'llama2', 'llama2', 'llama2', 'llama2', 'llama2', 'llama2', 'llama2', 'llama2', 'llama2', 'llama3', 'llama3', 'llama3', 'llama3', 'llama3', 'llama3', 'llama3', 'llama3', 'llama3', 'llama3', 'llama3', 'llama3', 'llama3', 'llama3', 'llama3', 'llama3', 'llama3', 'llama3', 'llama3', 'llama3', 'llama3', 'llama3', 'llama3', 'llama3', 'llama3', 'llama3', 'llama3', 'llama3', 'llama3', 'llama3', 'llama3', 'llama3', 'llama3', 'llama3', 'llama3', 'llama3', 'llama3', 'llama3', 'llama3', 'llama3', 'llama3', 'llama3', 'llama3', 'llama3', 'llama3', 'llama3', 'llama3', 'llama3', 'llama3', 'llama3', 'llama3', 'llama3', 'llama3', 'llama3', 'llama3', 'llama3', 'llama3', 'llama3', 'llama3', 'llama3', 'llama3', 'llama3', 'llama3', 'llama3', 'llama3', 'llama3', 'llama3', 'llama3', 'llama3', 'llama3', 'llama3', 'llama3', 'llama3', 'llama3', 'llama3', 'llama3', 'llama3', 'llama3', 'llama3', 'llama3', 'llama3', 'llama3', 'llama3', 'llama3', 'llama3', 'llama3', 'llama3', 'llama3', 'llama3', 'llama3', 'llama3', 'llama3', 'llama3', 'llama3', 'llama3', 'llama3', 'llama3', 'llama3', 'llama3', 'llama3', 'llama3', 'llama3', 'llama3', 'llama3', 'llama3', 'llama3', 'llama3', 'llama3', 'llama3', 'llama3', 'llama3', 'llama3', 'llama3', 'llama3', 'llama3', 'llama3', 'llama3', 'llama3', 'llama3', 'llama3', 'llama3', 'llama3', 'llama3', 'llama3', 'llama3', 'llama3', 'llama3', 'llama3', 'llama3', 'llama3', 'llama3', 'llama3', 'llama3', 'llama3', 'llama3', 'llama3', 'llama3', 'llama3', 'llama3', 'llama3', 'llama3', 'llama3', 'llama3', 'llama3', 'llama3', 'llama3', 'llama3', 'llama3', 'llama3', 'llama3', 'llama3', 'llama3', 'llama3', 'llama3', 'llama3', 'llama3', 'llama3', 'llama3', 'llama3', 'llama3', 'llama3', 'llama3', 'llama3', 'llama3', 'llama3', 'llama3', 'llama3', 'llama3', 'llama3', 'llama3', 'llama3', 'llama3', 'llama3', 'llama3', 'llama3', 'llama3', 'llama3', 'llama3', 'llama3', 'llama3', 'llama3', 'llama3', 'llama3', 'llama3', 'llama3', 'llama3', 'llama3', 'llama3', 'llama3', 'llama3', 'llama3', 'llama3', 'llama3', 'llama3', 'llama3', 'llama3', 'llama3', 'llama3', 'llama3', 'llama3', 'llama3', 'llama3', 'llama3', 'llama3', 'llama3', 'llama3', 'llama3', 'llama3', 'llama3', 'llama3', 'llama3', 'llama3', 'llama3', 'llama3', 'llama3', 'llama3', 'llama3', 'llama3', 'llama3', 'llama3', 'llama3', 'llama3', 'llama3', 'llama3', 'llama3', 'llama3', 'llama3', 'llama3', 'llama3', 'llama3', 'llama3', 'llama3', 'llama3', 'llama3', 'llama3', 'llama3', 'llama3', 'llama3', 'llama3', 'llama3', 'llama3', 'llama3', 'llama3', 'llama3', 'llama3', 'llama3', 'llama3', 'llama3', 'llama3', 'llama3', 'llama3', 'llama3', 'llama3', 'llama3', 'llama3', 'llama3', 'llama3', 'llama3', 'llama3', 'llama3', 'llama3', 'llama3', 'llama3', 'llama3', 'llama3', 'llama3', 'llama3', 'llama3', 'llama3', 'llama3', 'llama3', 'llama3', 'llama3', 'llama3', 'llama3', 'llama3', 'llama3', 'llama3', 'llama3', 'llama3', 'llama3', 'llama3', 'llama3', 'llama3', 'llama3', 'llama3', 'llama3', 'llama3', 'llama3', 'llama3', 'llama3', 'llama3', 'llama3', 'llama3', 'llama3', 'llama3', 'llama3', 'llama3', 'llama3', 'llama3', 'llama3', 'llama3', 'llama3', 'llama3', 'llama3', 'llama3', 'llama3', 'llama3', 'llama3', 'llama3', 'llama3', 'llama3', 'llama3', 'llama3', 'llama3', 'llama3', 'llama3', 'llama3', 'llama3', 'llama3', 'llama3', 'llama3', 'llama3', 'llama3', 'llama3', 'llama3', 'llama3', 'llama3', 'llama3', 'llama3', 'llama3', 'llama3', 'llama3', 'llama3', 'llama3', 'llama3', 'llama3', 'llama3', 'llama3', 'llama3', 'llama3', 'llama3', 'llama3', 'llama3', 'llama3', 'llama3', 'llama3', 'llama3', 'llama3', 'llama3', 'llama3', 'llama3', 'llama3', 'llama3', 'llama3', 'llama3', 'llama3', 'llama3', 'llama3', 'llama3', 'llama3', 'llama3', 'llama3', 'llama3', 'llama3', 'llama3', 'llama3', 'llama3', 'llama3', 'llama3', 'llama3', 'llama3', 'llama3', 'llama3', 'llama3', 'llama3', 'llama3', 'llama3', 'llama3', 'llama3', 'llama3', 'llama3', 'llama3', 'llama3', 'llama3', 'llama3', 'llama3', 'llama3', 'llama3', 'llama3', 'llama3', 'llama3', 'llama3', 'llama3', 'llama3', 'llama3', 'llama3', 'llama3', 'llama3', 'llama3', 'llama3', 'llama3', 'llama3', 'llama3', 'llama3', 'llama3', 'llama3', 'llama3', 'llama3', 'llama3', 'llama3', 'llama3', 'llama3', 'llama3', 'llama3', 'llama3', 'llama3', 'llama3', 'llama3', 'llama3', 'llama3', 'llama3', 'llama3', 'llama3', 'llama3', 'llama3', 'llama3', 'llama3', 'llama3', 'llama3', 'llama3', 'llama3', 'llama3', 'llama3', 'llama3', 'llama3', 'llama3', 'llama3', 'llama3', 'llama3', 'llama3', 'llama3', 'llama3', 'llama3', 'llama3', 'llama3', 'llama3', 'llama3', 'llama3', 'llama3', 'llama3', 'llama3', 'llama3', 'llama3', 'llama3', 'llama3', 'llama3', 'llama3', 'llama3', 'llama3', 'llama3', 'llama3', 'llama3', 'llama3', 'llama3', 'llama3', 'llama3', 'llama3', 'llama3', 'llama3', 'llama3', 'llama3', 'llama3', 'llama3', 'llama3', 'llama3', 'llama3', 'llama3', 'llama3', 'llama3', 'llama3', 'llama3', 'llama3', 'llama3', 'llama3', 'llama3', 'llama3', 'llama3', 'llama3', 'llama3', 'llama3', 'llama3', 'llama3', 'llama3', 'llama3', 'llama3', 'llama3', 'llama3', 'llama3', 'llama3', 'llama3', 'llama3', 'llama3', 'llama3', 'llama3', 'llama3', 'llama3', 'llama3', 'llama3', 'llama3', 'llama3', 'llama3', 'llama3', 'llama3', 'llama3', 'llama3', 'llama3', 'llama3', 'llama3', 'llama3', 'llama3', 'llama3', 'llama3', 'llama3', 'llama3', 'llama3', 'llama3', 'llama3', 'llama3', 'llama3', 'llama3', 'llama3', 'llama3', 'llama3', 'llama3', 'llama3', 'llama3', 'llama3', 'llama3', 'llama3', 'llama3', 'llama3', 'llama3', 'llama3', 'llama3', 'llama3', 'llama3', 'llama3', 'llama3', 'llama3', 'llama3', 'llama3', 'llama3', 'llama3', 'llama3', 'llama3', 'llama3', 'llama3', 'llama3', 'llama3', 'llama3', 'llama3', 'llama3', 'llama3', 'llama3', 'llama3', 'llama3', 'llama3', 'llama3', 'llama3', 'llama3', 'llama3', 'llama3', 'llama3', 'llama3', 'llama3', 'llama3', 'llama3', 'llama3', 'llama3', 'llama3', 'llama3', 'llama3', 'llama3', 'llama3', 'llama3', 'llama3', 'llama3', 'llama3', 'llama3', 'llama3', 'llama3', 'llama3', 'llama3', 'llama3', 'llama3', 'llama3', 'llama3', 'llama3', 'llama3', 'llama3', 'llama3', 'llama3', 'llama3', 'llama3', 'llama3', 'llama3', 'llama3', 'llama3', 'llama3', 'llama3', 'llama3', 'llama3', 'llama3', 'llama3', 'llama3', 'llama3', 'llama3', 'llama3', 'llama3', 'llama3', 'llama3', 'llama3', 'llama3', 'llama3', 'llama3', 'llama3', 'llama3', 'llama3', 'llama3', 'llama3', 'llama3', 'llama3', 'llama3', 'llama3', 'llama3', 'llama3', 'llama3', 'llama3', 'llama3', 'llama3', 'llama3', 'llama3', 'llama3', 'llama3', 'llama3', 'llama3', 'llama3', 'llama3', 'llama3', 'llama3', 'llama3', 'llama3', 'llama3', 'llama3', 'llama3', 'llama3', 'llama3', 'llama3', 'llama3', 'llama3', 'llama3', 'llama3', 'llama3', 'llama3', 'llama3', 'llama3', 'llama3', 'llama3', 'llama3', 'llama3', 'llama3', 'llama3', 'llama3', 'llama3', 'llama3', 'llama3', 'llama3', 'llama3', 'llama3', 'llama3', 'llama3', 'llama3', 'llama3', 'llama3', 'llama3', 'llama3', 'llama3', 'llama3', 'llama3', 'llama3', 'llama3', 'llama3', 'llama3', 'llama3', 'llama3', 'llama3', 'llama3', 'llama3', 'llama3', 'llama3', 'llama3', 'llama3', 'llama3', 'llama3', 'llama3', 'llama3', 'llama3', 'llama3', 'llama3', 'llama3', 'llama3', 'llama3', 'llama3', 'llama3', 'llama3', 'llama3', 'llama3', 'llama3', 'llama3', 'llama3', 'llama3', 'llama3', 'llama3', 'llama3', 'llama3', 'llama3', 'llama3', 'llama3', 'llama3', 'llama3', 'llama3', 'llama3', 'llama3', 'llama3', 'llama3', 'llama3', 'llama3', 'llama3', 'llama3', 'llama3', 'llama3', 'llama3', 'llama3', 'llama3', 'llama3', 'llama3', 'llama3', 'llama3', 'llama3', 'llama3', 'llama3', 'llama3', 'llama3', 'llama3', 'llama3', 'llama3', 'llama3', 'llama3', 'llama3', 'llama3', 'llama3', 'llama3', 'llama3', 'llama3', 'llama3', 'llama3', 'llama3', 'llama3', 'llama3', 'llama3', 'llama3', 'llama3', 'llama3', 'llama3', 'llama3', 'llama3', 'llama3', 'llama3', 'llama3', 'llama3', 'llama3', 'llama3', 'llama3', 'llama3', 'llama3', 'llama3', 'llama3', 'llama3', 'llama3', 'llama3', 'llama3', 'llama3', 'llama3', 'llama3', 'llama3', 'llama3', 'llama3', 'llama3', 'llama3', 'llama3', 'llama3', 'llama3', 'llama3', 'llama3', 'llama3', 'llama3', 'llama3', 'llama3', 'llama3', 'llama3', 'llama3', 'llama3', 'llama3', 'llama3', 'llama3', 'llama3', 'llama3', 'llama3', 'llama3', 'llama3', 'llama3', 'llama3', 'llama3', 'llama3', 'llama3', 'llama3', 'llama3', 'llama3', 'llama3', 'llama3', 'llama3', 'llama3', 'llama3', 'llama3', 'llama3', 'llama3', 'llama3', 'llama3', 'llama3', 'llama3', 'llama3', 'llama3', 'llama3', 'llama3', 'llama3', 'llama3', 'llama3', 'llama3', 'llama3', 'llama3', 'llama3', 'llama3', 'llama3', 'llama3', 'llama3', 'llama3', 'llama3', 'llama3', 'llama3', 'llama3', 'llama3', 'llama3', 'llama3', 'llama3', 'llama3', 'llama3', 'llama3', 'llama3', 'llama3', 'llama3', 'llama3', 'llama3', 'llama3', 'llama3', 'llama3', 'llama3', 'llama3', 'llama3', 'llama3', 'llama3', 'llama3', 'llama3', 'llama3', 'llama3', 'llama3', 'llama3', 'llama3', 'llama3', 'llama3', 'llama3', 'llama3', 'llama3', 'llama3', 'llama3', 'llama3', 'llama3', 'llama3', 'llama3', 'llama3', 'llama3', 'llama3', 'llama3', 'llama3', 'llama3', 'llama3', 'llama3', 'llama3', 'llama3', 'llama3', 'llama3', 'llama3', 'llama3', 'llama3', 'llama3', 'llama3', 'llama3', 'llama3', 'llama3', 'llama3', 'llama3', 'llama3', 'llama3', 'llama3', 'llama3', 'llama3', 'llama3', 'llama3', 'llama3', 'llama3', 'llama3', 'llama3', 'llama3', 'llama3', 'llama3', 'llama3', 'llama3', 'llama3', 'llama3', 'llama3', 'llama3', 'llama3', 'llama3', 'llama3', 'llama3', 'llama3', 'llama3', 'llama3', 'llama3', 'llama3', 'llama3', 'llama3', 'llama3', 'llama3', 'llama3', 'llama3', 'llama3', 'llama3', 'llama3', 'llama3', 'llama3', 'llama3', 'llama3', 'llama3', 'llama3', 'llama3', 'llama3', 'llama3', 'llama3', 'llama3', 'llama3', 'llama3', 'llama3', 'llama3', 'llama3', 'llama3', 'llama3', 'llama3', 'llama3', 'llama3', 'llama3', 'llama3', 'llama3', 'llama3', 'llama3', 'llama3', 'llama3', 'llama3', 'llama3', 'llama3', 'llama3', 'llama3', 'llama3', 'llama3', 'llama3', 'llama3', 'llama3', 'llama3', 'llama3', 'llama3', 'llama3', 'llama3', 'llama3', 'llama3', 'llama3', 'llama3', 'llama3', 'llama3', 'llama3', 'llama3', 'llama3', 'llama3', 'llama3', 'llama3', 'llama3', 'llama3', 'llama3', 'llama3', 'llama3', 'llama3', 'llama3', 'llama3', 'llama3', 'llama3', 'llama3', 'llama3', 'llama3', 'llama3', 'llama3', 'llama3', 'llama3', 'llama3', 'llama3', 'llama3', 'llama3', 'llama3', 'llama3', 'llama3', 'llama3', 'llama3', 'llama3', 'llama3', 'llama3', 'llama3', 'llama3', 'llama3', 'llama3', 'llama3', 'llama3', 'llama3', 'llama3', 'llama3', 'llama3', 'llama3', 'llama3', 'llama3', 'llama3', 'llama3', 'llama3', 'llama3', 'llama3', 'llama3', 'llama3', 'llama3', 'llama3', 'llama3', 'llama3', 'llama3', 'llama3', 'llama3', 'llama3', 'llama3', 'llama3', 'llama3', 'llama3', 'llama3', 'llama3', 'llama3', 'llama3', 'llama3', 'llama3', 'llama3', 'llama3', 'llama3', 'llama3', 'llama3', 'llama3', 'llama3', 'llama3', 'llama3', 'llama3', 'llama3', 'llama3', 'llama3', 'llama3', 'llama3', 'llama3', 'llama3', 'llama3', 'llama3', 'llama3', 'llama3', 'llama3', 'llama3', 'llama3', 'llama3', 'llama3', 'llama3', 'llama3', 'llama3', 'llama3', 'llama3', 'llama3', 'llama3', 'llama3', 'llama3', 'llama3', 'llama3', 'llama3', 'llama3', 'llama3', 'llama3', 'llama3', 'llama3', 'llama3', 'llama3', 'llama3', 'llama3', 'llama3', 'llama3', 'llama3', 'llama3', 'llama3', 'llama3', 'llama3', 'llama3', 'llama3', 'llama3', 'llama3', 'llama3', 'llama3', 'llama3', 'llama3', 'llama3', 'llama3', 'llama3', 'llama3', 'llama3', 'llama3', 'llama3', 'llama3', 'llama3', 'llama3', 'llama3', 'llama3', 'llama3', 'llama3', 'llama3', 'llama3', 'llama3', 'llama3', 'llama3', 'llama3', 'llama3', 'llama3', 'llama3', 'llama3', 'llama3', 'llama3', 'llama3', 'llama3', 'llama3', 'llama3', 'llama3', 'llama3', 'llama3', 'llama3', 'llama3', 'llama3', 'llama3', 'llama3', 'llama3', 'llama3', 'llama3', 'llama3', 'llama3', 'llama3', 'llama3', 'llama3', 'llama3', 'llama3', 'llama3', 'llama3', 'llama3', 'llama3', 'llama3', 'llama3', 'llama3', 'llama3', 'llama3', 'llama3', 'llama3', 'llama3', 'llama3', 'llama3', 'llama3', 'llama3', 'llama3', 'llama3', 'llama3', 'llama3', 'llama3', 'llama3', 'llama3', 'llama3', 'llama3', 'llama3', 'llama3', 'llama3', 'llama3', 'llama3', 'llama3', 'llama3', 'llama3', 'llama3', 'llama3', 'llama3', 'llama3', 'llama3', 'llama3', 'llama3', 'llama3', 'llama3', 'llama3', 'llama3', 'llama3', 'llama3', 'llama3', 'llama3', 'llama3', 'llama3', 'llama3', 'llama3', 'llama3', 'llama3', 'llama3', 'llama3', 'llama3', 'llama3', 'llama3', 'llama3', 'llama3', 'llama3', 'llama3', 'llama3', 'llama3', 'llama3', 'llama3', 'llama3', 'llama3', 'llama3', 'llama3', 'llama3', 'llama3', 'llama3', 'llama3', 'llama3', 'llama3', 'llama3', 'llama3', 'llama3', 'llama3', 'llama3', 'llama3', 'llama3', 'llama3', 'llama3', 'llama3', 'llama3', 'llama3', 'llama3', 'llama3', 'llama3', 'llama3', 'llama3', 'llama3', 'llama3', 'llama3', 'llama3', 'llama3', 'llama3', 'llama3', 'llama3', 'llama3', 'llama3', 'llama3', 'llama3', 'llama3', 'llama3', 'llama3', 'llama3', 'llama3', 'llama3', 'llama3', 'llama3', 'llama3', 'llama3', 'llama3', 'llama3', 'llama3', 'llama3', 'llama3', 'llama3', 'llama3', 'llama3', 'llama3', 'llama3', 'llama3', 'llama3', 'llama3', 'llama3', 'llama3', 'llama3', 'llama3', 'llama3', 'llama3', 'llama3', 'llama3', 'llama3', 'llama3', 'llama3', 'llama3', 'llama3', 'llama3', 'llama3', 'llama3', 'llama3', 'llama3', 'llama3', 'llama3', 'llama3', 'llama3', 'llama3', 'llama3', 'llama3', 'llama3', 'llama3', 'llama3', 'llama3', 'llama3', 'llama3', 'llama3', 'llama3', 'llama3', 'llama3', 'llama3', 'llama3', 'llama3', 'llama3', 'llama3', 'llama3', 'llama3', 'llama3', 'llama3', 'llama3', 'llama3', 'llama3', 'llama3', 'llama3', 'llama3', 'llama3', 'llama3', 'llama3', 'llama3', 'llama3', 'llama3', 'llama3', 'llama3', 'llama3', 'llama3', 'llama3', 'llama3', 'llama3', 'llama3', 'llama3', 'llama3', 'llama3', 'llama3', 'llama3', 'llama3', 'llama3', 'llama3', 'llama3', 'llama3', 'llama3', 'llama3', 'llama3', 'llama3', 'llama3', 'llama3', 'llama3', 'llama3', 'llama3', 'llama3', 'llama3', 'llama3', 'llama3', 'llama3', 'llama3', 'llama3', 'llama3', 'llama3', 'llama3', 'llama3', 'llama3', 'llama3', 'llama3', 'llama3', 'llama3', 'llama3', 'llama3', 'llama3', 'llama3', 'llama3', 'llama3', 'llama3', 'llama3', 'llama3', 'llama3', 'llama3', 'llama3', 'llama3', 'llama3', 'llama3', 'llama3', 'llama3', 'llama3', 'llama3', 'llama3', 'llama3', 'llama3', 'llama3', 'llama3', 'llama3', 'llama3', 'llama3', 'llama3', 'llama3', 'llama3', 'llama3', 'llama3', 'llama3', 'llama3', 'llama3', 'llama3', 'llama3', 'llama3', 'llama3', 'llama3', 'llama3', 'llama3', 'llama3', 'llama3', 'llama3', 'llama3', 'llama3', 'llama3', 'llama3', 'llama3', 'llama3', 'llama3', 'llama3', 'llama3', 'llama3', 'llama3', 'llama3', 'llama3', 'llama3', 'llama3', 'llama3', 'llama3', 'llama3', 'llama3', 'llama3', 'llama3', 'llama3', 'llama3', 'llama3', 'llama3', 'llama3', 'llama3', 'llama3', 'llama3', 'llama3', 'llama3', 'llama3', 'llama3', 'llama3', 'llama3', 'llama3', 'llama3', 'llama3', 'llama3', 'llama3', 'llama3', 'llama3', 'llama3', 'llama3', 'llama3', 'llama3', 'llama3', 'llama3', 'llama3', 'llama3', 'llama3', 'llama3', 'llama3', 'llama3', 'llama3', 'llama3', 'llama3', 'llama3', 'llama3', 'llama3', 'llama3', 'llama3', 'llama3', 'llama3', 'llama3', 'llama3', 'llama3', 'llama3', 'llama3', 'llama3', 'llama3', 'llama3', 'llama3', 'llama3', 'llama3', 'llama3', 'llama3', 'llama3', 'llama3', 'llama3', 'llama3', 'llama3', 'llama3', 'llama3', 'llama3', 'llama3', 'llama3', 'llama3', 'llama3', 'llama3', 'llama3', 'llama3', 'llama3', 'llama3', 'llama3', 'llama3', 'llama3', 'llama3', 'llama3', 'llama3', 'llama3', 'llama3', 'llama3', 'llama3', 'llama3', 'llama3', 'llama3', 'llama3', 'llama3', 'llama3', 'llama3', 'llama3', 'llama3', 'llama3', 'llama3', 'llama3', 'llama3', 'llama3', 'llama3', 'llama3', 'llama3', 'llama3', 'llama3', 'llama3', 'llama3', 'llama3', 'llama3', 'llama3', 'llama3', 'llama3', 'llama3', 'llama3', 'llama3', 'llama3', 'llama3', 'llama3', 'llama3', 'llama3', 'llama3', 'llama3', 'llama3', 'llama3', 'llama3', 'llama3', 'llama3', 'llama3', 'llama3', 'llama3', 'llama3', 'llama3', 'llama3', 'llama3', 'llama3', 'llama3', 'llama3', 'llama3', 'llama3', 'llama3', 'llama3', 'llama3', 'llama3', 'llama3', 'llama3', 'llama3', 'llama3', 'llama3', 'llama3', 'llama3', 'llama3', 'llama3', 'llama3', 'llama3', 'llama3', 'llama3', 'llama3', 'llama3', 'llama3', 'llama3', 'llama3', 'llama3', 'llama3', 'llama3', 'llama3', 'llama3', 'llama3', 'llama3', 'llama3', 'llama3', 'llama3', 'llama3', 'llama3', 'llama3', 'llama3', 'llama3', 'llama3', 'llama3', 'llama3', 'llama3', 'llama3', 'llama3', 'llama3', 'llama3', 'llama3', 'llama3', 'llama3', 'llama3', 'llama3', 'llama3', 'llama3', 'llama3', 'llama3', 'llama3', 'llama3', 'llama3', 'llama3', 'llama3', 'llama3', 'llama3', 'llama3', 'llama3', 'llama3', 'llama3', 'llama3', 'llama3', 'llama3', 'llama3', 'llama3', 'llama3', 'llama3', 'llama3', 'llama3', 'llama3', 'llama3', 'llama3', 'llama3', 'llama3', 'llama3', 'llama3', 'llama3', 'llama3', 'llama3', 'llama3', 'llama3', 'llama3', 'llama3', 'llama3', 'llama3', 'llama3', 'llama3', 'llama3', 'llama3', 'llama3', 'llama3', 'llama3', 'llama3', 'llama3', 'llama3', 'llama3', 'llama3', 'llama3', 'llama3', 'llama3', 'llama3', 'llama3', 'llama3', 'llama3', 'llama3', 'llama3', 'llama3', 'llama3', 'llama3', 'llama3', 'llama3', 'llama3', 'llama3', 'llama3', 'llama3', 'llama3', 'llama3', 'llama3', 'llama3', 'llama3', 'llama3', 'llama3', 'llama3', 'llama3', 'llama3', 'llama3', 'llama3', 'llama3', 'llama3', 'llama3', 'llama3', 'llama3', 'llama3', 'llama3', 'llama3', 'llama3', 'llama3', 'llama3', 'llama3', 'llama3', 'llama3', 'llama3', 'llama3', 'llama3', 'llama3', 'llama3', 'llama3', 'llama3', 'llama3', 'llama3', 'llama3', 'llama3', 'llama3', 'llama3', 'llama3', 'llama3', 'llama3', 'llama3', 'llama3', 'llama3', 'llama3', 'llama3', 'llama3', 'llama3', 'llama3', 'llama3', 'llama3', 'llama3', 'llama3', 'llama3', 'llama3', 'llama3', 'llama3', 'llama3', 'llama3', 'llama3', 'llama3', 'llama3', 'llama3', 'llama3', 'llama3', 'llama3', 'llama3', 'llama3', 'llama3', 'llama3', 'llama3', 'llama3', 'llama3', 'llama3', 'llama3', 'llama3', 'llama3', 'llama3', 'llama3', 'llama3', 'llama3', 'llama3', 'llama3', 'llama3', 'llama3', 'llama3', 'llama3', 'llama3', 'llama3', 'llama3', 'llama3', 'llama3', 'llama3', 'llama3', 'llama3', 'llama3', 'llama3', 'llama3', 'llama3', 'llama3', 'llama3', 'llama3', 'llama3', 'llama3', 'llama3', 'llama3', 'llama3', 'llama3', 'llama3', 'llama3', 'llama3', 'llama3', 'llama3', 'llama3', 'llama3', 'llama3', 'llama3', 'llama3', 'llama3', 'llama3', 'llama3', 'llama3', 'llama3', 'llama3', 'llama3', 'llama3', 'llama3', 'llama3', 'llama3', 'llama3', 'llama3', 'llama3', 'llama3', 'llama3', 'llama3', 'llama3', 'llama3', 'llama3', 'llama3', 'llama3', 'llama3', 'llama3', 'llama3', 'llama3', 'llama3', 'llama3', 'llama3', 'llama3', 'llama3', 'llama3', 'llama3', 'llama3', 'llama3', 'llama3', 'llama3', 'llama3', 'llama3', 'llama3', 'llama3', 'llama3', 'llama3', 'llama3', 'llama3', 'llama3', 'llama3', 'llama3', 'llama3', 'llama3', 'llama3', 'llama3', 'llama3', 'llama3', 'llama3', 'llama3', 'llama3', 'llama3', 'llama3', 'llama3', 'llama3', 'llama3', 'llama3', 'llama3', 'llama3', 'llama3', 'llama3', 'llama3', 'llama3', 'llama3', 'llama3', 'llama3', 'llama3', 'llama3', 'llama3', 'llama3', 'llama3', 'llama3', 'llama3', 'llama3', 'llama3', 'llama3', 'llama3', 'llama3', 'llama3', 'llama3', 'llama3', 'llama3', 'llama3', 'llama3', 'llama3', 'llama3', 'llama3', 'llama3', 'llama3', 'llama3', 'llama3', 'llama3', 'llama3', 'llama3', 'llama3', 'llama3', 'llama3', 'llama3', 'llama3', 'llama3', 'llama3', 'llama3', 'llama3', 'llama3', 'llama3', 'llama3', 'llama3', 'llama3', 'llama3', 'llama3', 'llama3', 'llama3', 'llama3', 'llama3', 'llama3', 'llama3', 'llama3', 'llama3', 'llama3', 'llama3', 'llama3', 'llama3', 'llama3', 'llama3', 'llama3', 'llama3', 'llama3', 'llama3', 'llama3', 'llama3', 'llama3', 'llama3', 'llama3', 'llama3', 'llama3', 'llama3', 'llama3', 'llama3', 'llama3', 'llama3', 'llama3', 'llama3', 'llama3', 'llama3', 'llama3', 'llama3', 'llama3', 'llama3', 'llama3', 'llama3', 'llama3', 'llama3', 'llama3', 'llama3', 'llama3', 'llama3', 'llama3', 'llama3', 'llama3', 'llama3', 'llama3', 'llama3', 'llama3', 'llama3', 'llama3', 'llama3', 'llama3', 'llama3', 'llama3', 'llama3', 'llama3', 'llama3', 'llama3', 'llama3', 'llama3', 'llama3', 'llama3', 'llama3', 'llama3', 'llama3', 'llama3', 'llama3', 'llama3', 'llama3', 'llama3', 'llama3', 'llama3', 'llama3', 'llama3', 'llama3', 'llama3', 'llama3', 'llama3', 'llama3', 'llama3', 'llama3', 'llama3', 'llama3', 'llama3', 'llama3', 'llama3', 'llama3', 'llama3', 'llama3', 'llama3', 'llama3', 'llama3', 'llama3', 'llama3', 'llama3', 'llama3', 'llama3', 'llama3', 'llama3', 'llama3', 'llama3', 'llama3', 'llama3', 'llama3', 'llama3', 'llama3', 'llama3', 'llama3', 'llama3', 'llama3', 'llama3', 'llama3', 'llama3', 'llama3', 'llama3', 'llama3', 'llama3', 'llama3', 'llama3', 'llama3', 'llama3', 'llama3', 'llama3', 'llama3', 'llama3', 'llama3', 'llama3', 'llama3', 'llama3', 'llama3', 'llama3', 'llama3', 'llama3', 'llama3', 'llama3', 'llama3', 'llama3', 'llama3', 'llama3', 'llama3', 'llama3', 'llama3', 'llama3', 'llama3', 'llama3', 'llama3', 'llama3', 'llama3', 'llama3', 'llama3', 'llama3', 'llama3', 'llama3', 'llama3', 'llama3', 'llama3', 'llama3', 'llama3', 'llama3', 'llama3', 'llama3', 'llama3', 'llama3', 'llama3', 'llama3', 'llama3', 'llama3', 'llama3', 'llama3', 'llama3', 'llama3', 'llama3', 'llama3', 'llama3', 'llama3', 'llama3', 'llama3', 'llama3', 'llama3', 'llama3', 'llama3', 'llama3', 'llama3', 'llama3', 'llama3', 'llama3', 'llama3', 'llama3', 'llama3', 'llama3', 'llama3', 'llama3', 'llama3', 'llama3', 'llama3', 'llama3', 'llama3', 'llama3', 'llama3', 'llama3', 'llama3', 'llama3', 'llama3', 'llama3', 'llama3', 'llama3', 'llama3', 'llama3', 'llama3', 'llama3', 'llama3', 'llama3', 'llama3', 'llama3', 'llama3', 'llama3', 'llama3', 'llama3', 'llama3', 'llama3', 'llama3', 'llama3', 'llama3', 'llama3', 'llama3', 'llama3', 'llama3', 'llama3', 'llama3', 'llama3', 'llama3', 'llama3', 'llama3', 'llama3', 'llama3', 'llama3', 'llama3', 'llama3', 'llama3', 'llama3', 'llama3', 'llama3', 'llama3', 'llama3', 'llama3', 'llama3', 'llama3', 'llama3', 'llama3', 'llama3', 'llama3', 'llama3', 'llama3', 'llama3', 'llama3', 'llama3', 'llama3', 'llama3', 'llama3', 'llama3', 'llama3', 'llama3', 'llama3', 'llama3', 'llama3', 'llama3', 'llama3', 'llama3', 'llama3', 'llama3', 'llama3', 'llama3', 'llama3', 'llama3', 'llama3', 'llama3', 'llama3', 'llama3', 'llama3', 'llama3', 'llama3', 'llama3', 'llama3', 'llama3', 'llama3', 'llama3', 'llama3', 'llama3', 'llama3', 'llama3', 'llama3', 'llama3', 'llama3', 'llama3', 'llama3', 'llama3', 'llama3', 'llama3', 'llama3', 'llama3', 'llama3', 'llama3', 'llama3', 'llama3', 'llama3', 'llama3', 'llama3', 'llama3', 'llama3', 'llama3', 'llama3', 'llama3', 'llama3', 'llama3', 'llama3', 'llama3', 'llama3', 'llama3', 'llama3', 'llama3', 'llama3', 'llama3', 'llama3', 'llama3', 'llama3', 'llama3', 'llama3', 'llama3', 'llama3', 'llama3', 'llama3', 'llama3', 'llama3', 'llama3', 'llama3', 'llama3', 'llama3', 'llama3', 'llama3', 'llama3', 'llama3', 'llama3', 'llama3', 'llama3', 'llama3', 'llama3', 'llama3', 'llama3', 'llama3', 'llama3', 'llama3', 'llama3', 'llama3', 'llama3', 'llama3', 'llama3', 'llama3', 'llama3', 'llama3', 'llama3', 'llama3', 'llama3', 'llama3', 'llama3', 'llama3', 'llama3', 'llama3', 'llama3', 'llama3', 'llama3', 'llama3', 'llama3', 'llama3', 'llama3', 'llama3', 'llama3', 'llama3', 'llama3', 'llama3', 'llama3', 'llama3', 'llama3', 'llama3', 'llama3', 'llama3', 'llama3', 'llama3', 'llama3', 'llama3', 'llama3', 'llama3', 'llama3', 'llama3', 'llama3', 'llama3', 'llama3', 'llama3', 'llama3', 'llama3', 'llama3', 'llama3', 'llama3', 'llama3', 'llama3', 'llama3', 'llama3', 'llama3', 'llama3', 'llama3', 'llama3', 'llama3', 'llama3', 'llama3', 'llama3', 'llama3', 'llama3', 'llama3', 'llama3', 'llama3', 'llama3', 'llama3', 'llama3', 'llama3', 'llama3', 'llama3', 'llama3', 'llama3', 'llama3', 'llama3', 'llama3', 'llama3', 'llama3', 'llama3', 'llama3', 'llama3', 'llama3', 'llama3', 'llama3', 'llama3', 'llama3', 'llama3', 'llama3', 'llama3', 'llama3', 'llama3', 'llama3', 'llama3', 'llama3', 'llama3', 'llama3', 'llama3', 'llama3', 'llama3', 'llama3', 'llama3', 'llama3', 'llama3', 'llama3'].\n",
      "Text preprocessing parameters loaded. Later, you can use load_params_preproc(filename) to set these parameters.\n",
      "Text subsampling parameters loaded. Later, you can use load_params_subsample(filename) to set these parameters.\n",
      "You are in manual mode. The next steps would be to run in sequence '.texts_load()', '.texts_preprocess()', '.texts_subsample()', '.extract_features()', '.classify()', '.explain()', and then any of the '.plot_...()' methods. If you would like to change the parameters provided in metadata or set by default  ('preproc_scheme', 'subsample_scheme', 'feature_scheme', 'cv_scheme', 'classifier_scheme'), please, load them via '.load_parameter_name()' to avoid incosistent file naming and config saving.\n"
     ]
    }
   ],
   "source": [
    "importlib.reload(base)\n",
    "exp = base.explain_style('exp_stylo_july.json',manual = True)\n",
    "# exp.texts_load()"
   ]
  },
  {
   "cell_type": "code",
   "execution_count": 8,
   "id": "acc11443-ffb4-4368-9075-f8256bc33e28",
   "metadata": {},
   "outputs": [
    {
     "name": "stdout",
     "output_type": "stream",
     "text": [
      "Provided model name for Spacy: 'en_core_web_lg'.\n",
      "Labels ['filename', 'class', 'term'] will be now accessible in documents via 'document._.label'.\n",
      "Loaded 17073 documents.\n"
     ]
    }
   ],
   "source": [
    "exp.docs_load('JKA/docs.spacy')"
   ]
  },
  {
   "cell_type": "code",
   "execution_count": 9,
   "id": "27875a48-c02f-47ff-b3dd-14d2b6af27c1",
   "metadata": {},
   "outputs": [
    {
     "name": "stdout",
     "output_type": "stream",
     "text": [
      "No text subsampling with current setting: 'sample_type = 'none'.\n"
     ]
    }
   ],
   "source": [
    "# Właściwie to przy ustawieniu \"none\", nic tam się nie dzieje,\n",
    "# ale 'sample_length' jest potem częścią folderu z wynikami i chyba gdzieś to jest potrzebne w strukturze danych w klasie\n",
    "exp.subsample_scheme = {'sample_type': 'none', 'sample_length': 10}\n",
    "exp.texts_subsample()"
   ]
  },
  {
   "cell_type": "code",
   "execution_count": 4,
   "id": "5611180e-fcc1-4de2-ae4d-26dd3fd25bee",
   "metadata": {},
   "outputs": [
    {
     "data": {
      "text/plain": [
       "{'n_repeats': 1,\n",
       " 'cv_method': 'GroupKFold',\n",
       " 'n_splits': 10,\n",
       " 'val_fraction': 0.0,\n",
       " 'scoring': {'acc': {'func': <function sklearn.metrics._classification.accuracy_score(y_true, y_pred, *, normalize=True, sample_weight=None)>},\n",
       "  'f1': {'func': <function sklearn.metrics._classification.fbeta_score(y_true, y_pred, *, beta, labels=None, pos_label=1, average='binary', sample_weight=None, zero_division='warn')>,\n",
       "   'params': {'beta': 1, 'average': 'macro'}}}}"
      ]
     },
     "execution_count": 4,
     "metadata": {},
     "output_type": "execute_result"
    }
   ],
   "source": [
    "from cl_explainable_stylo import text_classify\n",
    "importlib.reload(text_classify)\n",
    "\n",
    "exp.cv_scheme = {'n_repeats':1,'cv_method':'GroupKFold','n_splits': 10,'val_fraction':0., \n",
    "                 'scoring':{'acc':text_classify.dic_to_score['acc'],'f1':text_classify.dic_to_score['f1']}}\n",
    "\n",
    "exp.cv_scheme"
   ]
  },
  {
   "cell_type": "code",
   "execution_count": 6,
   "id": "63f6915a-a50e-4258-8e1a-06c45223ee24",
   "metadata": {},
   "outputs": [
    {
     "name": "stdout",
     "output_type": "stream",
     "text": [
      "Features loaded from 'JKA/features_13,23,31,51.csv' to '.feature_dataframe' attribute.\n"
     ]
    }
   ],
   "source": [
    "# exp.feature_scheme = {'features':[13,23,31,51],\n",
    "#                        'max_features':1000,\n",
    "#                        'n_grams_word':(1,3),\n",
    "#                        'n_grams_pos':(1,3),\n",
    "#                        'n_grams_dep':(1,3),\n",
    "#                        'n_grams_morph':(1,1),\n",
    "#                        'min_cull_word':0., # ignore terms that have a document frequency strictly lower than the given threshold\n",
    "#                        'max_cull_word':1., # ignore terms that have a document frequency strictly higher than the given threshold\n",
    "#                        'min_cull_d2':0.,\n",
    "#                        'max_cull_d2':1.,\n",
    "#                        'remove_duplicates':False}\n",
    "# exp.extract_features(save_to_file=True)\n",
    "exp.features_load('JKA/features_13,23,31,51.csv') # załadowanie cech moich. Można je też zrobić od zera tak, jak powyżej wykomentowane\n",
    "# exp.features_load('JKA/features.csv') # załadowanie cech ze stylometriksa"
   ]
  },
  {
   "cell_type": "code",
   "execution_count": 5,
   "id": "d094a073-0c3d-46db-a16c-dfac62f3ac09",
   "metadata": {},
   "outputs": [
    {
     "name": "stdout",
     "output_type": "stream",
     "text": [
      "'Classifier parameters' loaded from 'JKA/multiclass_classifier_scheme.json'.\n"
     ]
    },
    {
     "data": {
      "text/plain": [
       "{'objective': 'multiclass',\n",
       " 'learning_rate': 0.5,\n",
       " 'metric': ['multiclass', 'multi_error'],\n",
       " 'nthread': 12,\n",
       " 'boosting': 'dart',\n",
       " 'num_leaves': 5,\n",
       " 'num_iterations': 100,\n",
       " 'max_depth': 5,\n",
       " 'bagging_freq': 3,\n",
       " 'bagging_fraction': 0.8,\n",
       " 'verbose': -1,\n",
       " 'num_class': 7}"
      ]
     },
     "execution_count": 5,
     "metadata": {},
     "output_type": "execute_result"
    }
   ],
   "source": [
    "# exp.classifier_scheme['objective'] = 'binary'\n",
    "# exp.classifier_scheme['metric'] = ['binary']\n",
    "# exp.classifier_scheme['num_class'] = 1\n",
    "# exp.save_params_classifier()\n",
    "exp.load_params_classifier('JKA/binary_classifier_scheme.json')\n",
    "exp.classifier_scheme"
   ]
  },
  {
   "cell_type": "code",
   "execution_count": 9,
   "id": "ccb3cbc3-8614-4dd9-bfb5-1951edef5e5a",
   "metadata": {
    "tags": []
   },
   "outputs": [
    {
     "data": {
      "text/plain": [
       "array(['wiki', 'gpt3', 'gpt4', 'llama2', 'llama3', 'orca', 'falcon'],\n",
       "      dtype=object)"
      ]
     },
     "execution_count": 9,
     "metadata": {},
     "output_type": "execute_result"
    }
   ],
   "source": [
    "# Zapisanie pełnych danych do zmiennych,\n",
    "# bo zaraz będziemy z nich wybierać tylko fragmenty do \n",
    "# klasyfikacji binarnej poszczególnych modeli\n",
    "\n",
    "docs = exp.docs\n",
    "meta_df = pd.DataFrame(exp.metadata['files'])\n",
    "feature_df = exp.feature_dataframe\n",
    "classes = np.unique(meta_df['class'])\n",
    "classes = classes[[6,1,2,3,4,5,0]]\n",
    "classes"
   ]
  },
  {
   "cell_type": "code",
   "execution_count": 10,
   "id": "62c6844f-a46a-45fe-adba-0ba6f09bebb8",
   "metadata": {
    "collapsed": true,
    "jupyter": {
     "outputs_hidden": true
    }
   },
   "outputs": [
    {
     "name": "stdout",
     "output_type": "stream",
     "text": [
      "No text subsampling with current setting: 'sample_type = 'none'.\n",
      "Proceeding with 2 classes.\n",
      "Proceeding with 2439 classes.\n",
      "Proceeding with GroupKFold cross-validation.\n"
     ]
    },
    {
     "data": {
      "application/vnd.jupyter.widget-view+json": {
       "model_id": "501b3ee1ba8348b78220fb4c57988651",
       "version_major": 2,
       "version_minor": 0
      },
      "text/plain": [
       "  0%|          | 0/1 [00:00<?, ?it/s]"
      ]
     },
     "metadata": {},
     "output_type": "display_data"
    },
    {
     "name": "stdout",
     "output_type": "stream",
     "text": [
      "'val_fraction' setting results in 0.0 validation samples. No nested validation will be performed.\n",
      "Train:4390, Val:0, Test:488\n"
     ]
    },
    {
     "name": "stderr",
     "output_type": "stream",
     "text": [
      "D:\\ProgramData\\Anaconda3\\envs\\clarin\\lib\\site-packages\\lightgbm\\engine.py:177: UserWarning: Found `num_iterations` in params. Will use it instead of argument\n",
      "  _log_warning(f\"Found `{alias}` in params. Will use it instead of argument\")\n"
     ]
    },
    {
     "name": "stdout",
     "output_type": "stream",
     "text": [
      "'val_fraction' setting results in 0.0 validation samples. No nested validation will be performed.\n",
      "Train:4390, Val:0, Test:488\n",
      "'val_fraction' setting results in 0.0 validation samples. No nested validation will be performed.\n",
      "Train:4390, Val:0, Test:488\n",
      "'val_fraction' setting results in 0.0 validation samples. No nested validation will be performed.\n",
      "Train:4390, Val:0, Test:488\n",
      "'val_fraction' setting results in 0.0 validation samples. No nested validation will be performed.\n",
      "Train:4390, Val:0, Test:488\n",
      "'val_fraction' setting results in 0.0 validation samples. No nested validation will be performed.\n",
      "Train:4390, Val:0, Test:488\n",
      "'val_fraction' setting results in 0.0 validation samples. No nested validation will be performed.\n",
      "Train:4390, Val:0, Test:488\n",
      "'val_fraction' setting results in 0.0 validation samples. No nested validation will be performed.\n",
      "Train:4390, Val:0, Test:488\n",
      "'val_fraction' setting results in 0.0 validation samples. No nested validation will be performed.\n",
      "Train:4390, Val:0, Test:488\n",
      "'val_fraction' setting results in 0.0 validation samples. No nested validation will be performed.\n",
      "Train:4392, Val:0, Test:486\n"
     ]
    },
    {
     "data": {
      "application/vnd.jupyter.widget-view+json": {
       "model_id": "bd7b161c1405482fa2f48f6ca185265b",
       "version_major": 2,
       "version_minor": 0
      },
      "text/plain": [
       "  0%|          | 0/10 [00:00<?, ?it/s]"
      ]
     },
     "metadata": {},
     "output_type": "display_data"
    },
    {
     "name": "stdout",
     "output_type": "stream",
     "text": [
      "Accuracy [0-1, higher better]: \t0.99 \t Baseline value:  0.50\n",
      "F1 [0-1, higher better]: \t\t0.99 \t Baseline value:  0.33\n",
      "Scores saved as explain_watermarking_july\\subsamples_none_10\\scores_class-class_group-term_22.pkl.\n",
      "Classifiers saved as explain_watermarking_july\\subsamples_none_10\\classifiers_class-class_group-term_22.pkl.\n",
      "Classifier parameters saved as 'explain_watermarking_july\\subsamples_none_10\\config_classifier_scheme_23.json'. It can be reloaded with '.load_params_classifier(filename)'.\n",
      "Cross-validation parameters saved as 'explain_watermarking_july\\subsamples_none_10\\config_cv_scheme_23.pkl'. It can be reloaded with '.load_params_cv(filename)'.\n",
      "No text subsampling with current setting: 'sample_type = 'none'.\n",
      "Proceeding with 2 classes.\n",
      "Proceeding with 2439 classes.\n",
      "Proceeding with GroupKFold cross-validation.\n"
     ]
    },
    {
     "name": "stderr",
     "output_type": "stream",
     "text": [
      "C:\\Users\\JOchab\\AppData\\Local\\Temp\\ipykernel_36184\\3970655721.py:14: FutureWarning: The frame.append method is deprecated and will be removed from pandas in a future version. Use pandas.concat instead.\n",
      "  all_scores = all_scores.append(exp.scores.df_all)\n"
     ]
    },
    {
     "data": {
      "application/vnd.jupyter.widget-view+json": {
       "model_id": "b6c9a7ece71f440695062aa3dc91ecc1",
       "version_major": 2,
       "version_minor": 0
      },
      "text/plain": [
       "  0%|          | 0/1 [00:00<?, ?it/s]"
      ]
     },
     "metadata": {},
     "output_type": "display_data"
    },
    {
     "name": "stderr",
     "output_type": "stream",
     "text": [
      "D:\\ProgramData\\Anaconda3\\envs\\clarin\\lib\\site-packages\\lightgbm\\engine.py:177: UserWarning: Found `num_iterations` in params. Will use it instead of argument\n",
      "  _log_warning(f\"Found `{alias}` in params. Will use it instead of argument\")\n"
     ]
    },
    {
     "name": "stdout",
     "output_type": "stream",
     "text": [
      "'val_fraction' setting results in 0.0 validation samples. No nested validation will be performed.\n",
      "Train:4390, Val:0, Test:488\n",
      "'val_fraction' setting results in 0.0 validation samples. No nested validation will be performed.\n",
      "Train:4390, Val:0, Test:488\n",
      "'val_fraction' setting results in 0.0 validation samples. No nested validation will be performed.\n",
      "Train:4390, Val:0, Test:488\n",
      "'val_fraction' setting results in 0.0 validation samples. No nested validation will be performed.\n",
      "Train:4390, Val:0, Test:488\n",
      "'val_fraction' setting results in 0.0 validation samples. No nested validation will be performed.\n",
      "Train:4390, Val:0, Test:488\n",
      "'val_fraction' setting results in 0.0 validation samples. No nested validation will be performed.\n",
      "Train:4390, Val:0, Test:488\n",
      "'val_fraction' setting results in 0.0 validation samples. No nested validation will be performed.\n",
      "Train:4390, Val:0, Test:488\n",
      "'val_fraction' setting results in 0.0 validation samples. No nested validation will be performed.\n",
      "Train:4390, Val:0, Test:488\n",
      "'val_fraction' setting results in 0.0 validation samples. No nested validation will be performed.\n",
      "Train:4390, Val:0, Test:488\n",
      "'val_fraction' setting results in 0.0 validation samples. No nested validation will be performed.\n",
      "Train:4392, Val:0, Test:486\n"
     ]
    },
    {
     "data": {
      "application/vnd.jupyter.widget-view+json": {
       "model_id": "8525374fe1714619844eeda013afc478",
       "version_major": 2,
       "version_minor": 0
      },
      "text/plain": [
       "  0%|          | 0/10 [00:00<?, ?it/s]"
      ]
     },
     "metadata": {},
     "output_type": "display_data"
    },
    {
     "name": "stdout",
     "output_type": "stream",
     "text": [
      "Accuracy [0-1, higher better]: \t0.99 \t Baseline value:  0.50\n",
      "F1 [0-1, higher better]: \t\t0.99 \t Baseline value:  0.33\n",
      "Scores saved as explain_watermarking_july\\subsamples_none_10\\scores_class-class_group-term_23.pkl.\n",
      "Classifiers saved as explain_watermarking_july\\subsamples_none_10\\classifiers_class-class_group-term_23.pkl.\n",
      "Classifier parameters saved as 'explain_watermarking_july\\subsamples_none_10\\config_classifier_scheme_24.json'. It can be reloaded with '.load_params_classifier(filename)'.\n",
      "Cross-validation parameters saved as 'explain_watermarking_july\\subsamples_none_10\\config_cv_scheme_24.pkl'. It can be reloaded with '.load_params_cv(filename)'.\n",
      "No text subsampling with current setting: 'sample_type = 'none'.\n",
      "Proceeding with 2 classes.\n",
      "Proceeding with 2439 classes.\n",
      "Proceeding with GroupKFold cross-validation.\n"
     ]
    },
    {
     "name": "stderr",
     "output_type": "stream",
     "text": [
      "C:\\Users\\JOchab\\AppData\\Local\\Temp\\ipykernel_36184\\3970655721.py:14: FutureWarning: The frame.append method is deprecated and will be removed from pandas in a future version. Use pandas.concat instead.\n",
      "  all_scores = all_scores.append(exp.scores.df_all)\n"
     ]
    },
    {
     "data": {
      "application/vnd.jupyter.widget-view+json": {
       "model_id": "6b99b53688694936a265891ad98d1348",
       "version_major": 2,
       "version_minor": 0
      },
      "text/plain": [
       "  0%|          | 0/1 [00:00<?, ?it/s]"
      ]
     },
     "metadata": {},
     "output_type": "display_data"
    },
    {
     "name": "stderr",
     "output_type": "stream",
     "text": [
      "D:\\ProgramData\\Anaconda3\\envs\\clarin\\lib\\site-packages\\lightgbm\\engine.py:177: UserWarning: Found `num_iterations` in params. Will use it instead of argument\n",
      "  _log_warning(f\"Found `{alias}` in params. Will use it instead of argument\")\n"
     ]
    },
    {
     "name": "stdout",
     "output_type": "stream",
     "text": [
      "'val_fraction' setting results in 0.0 validation samples. No nested validation will be performed.\n",
      "Train:4390, Val:0, Test:488\n",
      "'val_fraction' setting results in 0.0 validation samples. No nested validation will be performed.\n",
      "Train:4390, Val:0, Test:488\n",
      "'val_fraction' setting results in 0.0 validation samples. No nested validation will be performed.\n",
      "Train:4390, Val:0, Test:488\n",
      "'val_fraction' setting results in 0.0 validation samples. No nested validation will be performed.\n",
      "Train:4390, Val:0, Test:488\n",
      "'val_fraction' setting results in 0.0 validation samples. No nested validation will be performed.\n",
      "Train:4390, Val:0, Test:488\n",
      "'val_fraction' setting results in 0.0 validation samples. No nested validation will be performed.\n",
      "Train:4390, Val:0, Test:488\n",
      "'val_fraction' setting results in 0.0 validation samples. No nested validation will be performed.\n",
      "Train:4390, Val:0, Test:488\n",
      "'val_fraction' setting results in 0.0 validation samples. No nested validation will be performed.\n",
      "Train:4390, Val:0, Test:488\n",
      "'val_fraction' setting results in 0.0 validation samples. No nested validation will be performed.\n",
      "Train:4390, Val:0, Test:488\n",
      "'val_fraction' setting results in 0.0 validation samples. No nested validation will be performed.\n",
      "Train:4392, Val:0, Test:486\n"
     ]
    },
    {
     "data": {
      "application/vnd.jupyter.widget-view+json": {
       "model_id": "1c5e29f2ba434aae9356f73567e76574",
       "version_major": 2,
       "version_minor": 0
      },
      "text/plain": [
       "  0%|          | 0/10 [00:00<?, ?it/s]"
      ]
     },
     "metadata": {},
     "output_type": "display_data"
    },
    {
     "name": "stdout",
     "output_type": "stream",
     "text": [
      "Accuracy [0-1, higher better]: \t0.94 \t Baseline value:  0.50\n",
      "F1 [0-1, higher better]: \t\t0.93 \t Baseline value:  0.33\n",
      "Scores saved as explain_watermarking_july\\subsamples_none_10\\scores_class-class_group-term_24.pkl.\n",
      "Classifiers saved as explain_watermarking_july\\subsamples_none_10\\classifiers_class-class_group-term_24.pkl.\n",
      "Classifier parameters saved as 'explain_watermarking_july\\subsamples_none_10\\config_classifier_scheme_25.json'. It can be reloaded with '.load_params_classifier(filename)'.\n",
      "Cross-validation parameters saved as 'explain_watermarking_july\\subsamples_none_10\\config_cv_scheme_25.pkl'. It can be reloaded with '.load_params_cv(filename)'.\n",
      "No text subsampling with current setting: 'sample_type = 'none'.\n",
      "Proceeding with 2 classes.\n",
      "Proceeding with 2439 classes.\n",
      "Proceeding with GroupKFold cross-validation.\n"
     ]
    },
    {
     "name": "stderr",
     "output_type": "stream",
     "text": [
      "C:\\Users\\JOchab\\AppData\\Local\\Temp\\ipykernel_36184\\3970655721.py:14: FutureWarning: The frame.append method is deprecated and will be removed from pandas in a future version. Use pandas.concat instead.\n",
      "  all_scores = all_scores.append(exp.scores.df_all)\n"
     ]
    },
    {
     "data": {
      "application/vnd.jupyter.widget-view+json": {
       "model_id": "4db407ff02a4420e8b1a314aabda7654",
       "version_major": 2,
       "version_minor": 0
      },
      "text/plain": [
       "  0%|          | 0/1 [00:00<?, ?it/s]"
      ]
     },
     "metadata": {},
     "output_type": "display_data"
    },
    {
     "name": "stderr",
     "output_type": "stream",
     "text": [
      "D:\\ProgramData\\Anaconda3\\envs\\clarin\\lib\\site-packages\\lightgbm\\engine.py:177: UserWarning: Found `num_iterations` in params. Will use it instead of argument\n",
      "  _log_warning(f\"Found `{alias}` in params. Will use it instead of argument\")\n"
     ]
    },
    {
     "name": "stdout",
     "output_type": "stream",
     "text": [
      "'val_fraction' setting results in 0.0 validation samples. No nested validation will be performed.\n",
      "Train:4390, Val:0, Test:488\n",
      "'val_fraction' setting results in 0.0 validation samples. No nested validation will be performed.\n",
      "Train:4390, Val:0, Test:488\n",
      "'val_fraction' setting results in 0.0 validation samples. No nested validation will be performed.\n",
      "Train:4390, Val:0, Test:488\n",
      "'val_fraction' setting results in 0.0 validation samples. No nested validation will be performed.\n",
      "Train:4390, Val:0, Test:488\n",
      "'val_fraction' setting results in 0.0 validation samples. No nested validation will be performed.\n",
      "Train:4390, Val:0, Test:488\n",
      "'val_fraction' setting results in 0.0 validation samples. No nested validation will be performed.\n",
      "Train:4390, Val:0, Test:488\n",
      "'val_fraction' setting results in 0.0 validation samples. No nested validation will be performed.\n",
      "Train:4390, Val:0, Test:488\n",
      "'val_fraction' setting results in 0.0 validation samples. No nested validation will be performed.\n",
      "Train:4390, Val:0, Test:488\n",
      "'val_fraction' setting results in 0.0 validation samples. No nested validation will be performed.\n",
      "Train:4390, Val:0, Test:488\n",
      "'val_fraction' setting results in 0.0 validation samples. No nested validation will be performed.\n",
      "Train:4392, Val:0, Test:486\n"
     ]
    },
    {
     "data": {
      "application/vnd.jupyter.widget-view+json": {
       "model_id": "3fb1d1445a6447cca600e7d1fbe8eec0",
       "version_major": 2,
       "version_minor": 0
      },
      "text/plain": [
       "  0%|          | 0/10 [00:00<?, ?it/s]"
      ]
     },
     "metadata": {},
     "output_type": "display_data"
    },
    {
     "name": "stdout",
     "output_type": "stream",
     "text": [
      "Accuracy [0-1, higher better]: \t0.99 \t Baseline value:  0.50\n",
      "F1 [0-1, higher better]: \t\t0.99 \t Baseline value:  0.33\n",
      "Scores saved as explain_watermarking_july\\subsamples_none_10\\scores_class-class_group-term_25.pkl.\n",
      "Classifiers saved as explain_watermarking_july\\subsamples_none_10\\classifiers_class-class_group-term_25.pkl.\n",
      "Classifier parameters saved as 'explain_watermarking_july\\subsamples_none_10\\config_classifier_scheme_26.json'. It can be reloaded with '.load_params_classifier(filename)'.\n",
      "Cross-validation parameters saved as 'explain_watermarking_july\\subsamples_none_10\\config_cv_scheme_26.pkl'. It can be reloaded with '.load_params_cv(filename)'.\n",
      "No text subsampling with current setting: 'sample_type = 'none'.\n",
      "Proceeding with 2 classes.\n",
      "Proceeding with 2439 classes.\n",
      "Proceeding with GroupKFold cross-validation.\n"
     ]
    },
    {
     "name": "stderr",
     "output_type": "stream",
     "text": [
      "C:\\Users\\JOchab\\AppData\\Local\\Temp\\ipykernel_36184\\3970655721.py:14: FutureWarning: The frame.append method is deprecated and will be removed from pandas in a future version. Use pandas.concat instead.\n",
      "  all_scores = all_scores.append(exp.scores.df_all)\n"
     ]
    },
    {
     "data": {
      "application/vnd.jupyter.widget-view+json": {
       "model_id": "685b56404bff4c89984e6981746de3a3",
       "version_major": 2,
       "version_minor": 0
      },
      "text/plain": [
       "  0%|          | 0/1 [00:00<?, ?it/s]"
      ]
     },
     "metadata": {},
     "output_type": "display_data"
    },
    {
     "name": "stderr",
     "output_type": "stream",
     "text": [
      "D:\\ProgramData\\Anaconda3\\envs\\clarin\\lib\\site-packages\\lightgbm\\engine.py:177: UserWarning: Found `num_iterations` in params. Will use it instead of argument\n",
      "  _log_warning(f\"Found `{alias}` in params. Will use it instead of argument\")\n"
     ]
    },
    {
     "name": "stdout",
     "output_type": "stream",
     "text": [
      "'val_fraction' setting results in 0.0 validation samples. No nested validation will be performed.\n",
      "Train:4390, Val:0, Test:488\n",
      "'val_fraction' setting results in 0.0 validation samples. No nested validation will be performed.\n",
      "Train:4390, Val:0, Test:488\n",
      "'val_fraction' setting results in 0.0 validation samples. No nested validation will be performed.\n",
      "Train:4390, Val:0, Test:488\n",
      "'val_fraction' setting results in 0.0 validation samples. No nested validation will be performed.\n",
      "Train:4390, Val:0, Test:488\n",
      "'val_fraction' setting results in 0.0 validation samples. No nested validation will be performed.\n",
      "Train:4390, Val:0, Test:488\n",
      "'val_fraction' setting results in 0.0 validation samples. No nested validation will be performed.\n",
      "Train:4390, Val:0, Test:488\n",
      "'val_fraction' setting results in 0.0 validation samples. No nested validation will be performed.\n",
      "Train:4390, Val:0, Test:488\n",
      "'val_fraction' setting results in 0.0 validation samples. No nested validation will be performed.\n",
      "Train:4390, Val:0, Test:488\n",
      "'val_fraction' setting results in 0.0 validation samples. No nested validation will be performed.\n",
      "Train:4390, Val:0, Test:488\n",
      "'val_fraction' setting results in 0.0 validation samples. No nested validation will be performed.\n",
      "Train:4392, Val:0, Test:486\n"
     ]
    },
    {
     "data": {
      "application/vnd.jupyter.widget-view+json": {
       "model_id": "25927c6e62bc4599ad51ce6d0e6d41f0",
       "version_major": 2,
       "version_minor": 0
      },
      "text/plain": [
       "  0%|          | 0/10 [00:00<?, ?it/s]"
      ]
     },
     "metadata": {},
     "output_type": "display_data"
    },
    {
     "name": "stdout",
     "output_type": "stream",
     "text": [
      "Accuracy [0-1, higher better]: \t0.96 \t Baseline value:  0.50\n",
      "F1 [0-1, higher better]: \t\t0.96 \t Baseline value:  0.33\n",
      "Scores saved as explain_watermarking_july\\subsamples_none_10\\scores_class-class_group-term_26.pkl.\n",
      "Classifiers saved as explain_watermarking_july\\subsamples_none_10\\classifiers_class-class_group-term_26.pkl.\n",
      "Classifier parameters saved as 'explain_watermarking_july\\subsamples_none_10\\config_classifier_scheme_27.json'. It can be reloaded with '.load_params_classifier(filename)'.\n",
      "Cross-validation parameters saved as 'explain_watermarking_july\\subsamples_none_10\\config_cv_scheme_27.pkl'. It can be reloaded with '.load_params_cv(filename)'.\n",
      "No text subsampling with current setting: 'sample_type = 'none'.\n",
      "Proceeding with 2 classes.\n",
      "Proceeding with 2439 classes.\n",
      "Proceeding with GroupKFold cross-validation.\n"
     ]
    },
    {
     "name": "stderr",
     "output_type": "stream",
     "text": [
      "C:\\Users\\JOchab\\AppData\\Local\\Temp\\ipykernel_36184\\3970655721.py:14: FutureWarning: The frame.append method is deprecated and will be removed from pandas in a future version. Use pandas.concat instead.\n",
      "  all_scores = all_scores.append(exp.scores.df_all)\n"
     ]
    },
    {
     "data": {
      "application/vnd.jupyter.widget-view+json": {
       "model_id": "e95e949a11a84accaa1238c7aa30b341",
       "version_major": 2,
       "version_minor": 0
      },
      "text/plain": [
       "  0%|          | 0/1 [00:00<?, ?it/s]"
      ]
     },
     "metadata": {},
     "output_type": "display_data"
    },
    {
     "name": "stderr",
     "output_type": "stream",
     "text": [
      "D:\\ProgramData\\Anaconda3\\envs\\clarin\\lib\\site-packages\\lightgbm\\engine.py:177: UserWarning: Found `num_iterations` in params. Will use it instead of argument\n",
      "  _log_warning(f\"Found `{alias}` in params. Will use it instead of argument\")\n"
     ]
    },
    {
     "name": "stdout",
     "output_type": "stream",
     "text": [
      "'val_fraction' setting results in 0.0 validation samples. No nested validation will be performed.\n",
      "Train:4390, Val:0, Test:488\n",
      "'val_fraction' setting results in 0.0 validation samples. No nested validation will be performed.\n",
      "Train:4390, Val:0, Test:488\n",
      "'val_fraction' setting results in 0.0 validation samples. No nested validation will be performed.\n",
      "Train:4390, Val:0, Test:488\n",
      "'val_fraction' setting results in 0.0 validation samples. No nested validation will be performed.\n",
      "Train:4390, Val:0, Test:488\n",
      "'val_fraction' setting results in 0.0 validation samples. No nested validation will be performed.\n",
      "Train:4390, Val:0, Test:488\n",
      "'val_fraction' setting results in 0.0 validation samples. No nested validation will be performed.\n",
      "Train:4390, Val:0, Test:488\n",
      "'val_fraction' setting results in 0.0 validation samples. No nested validation will be performed.\n",
      "Train:4390, Val:0, Test:488\n",
      "'val_fraction' setting results in 0.0 validation samples. No nested validation will be performed.\n",
      "Train:4390, Val:0, Test:488\n",
      "'val_fraction' setting results in 0.0 validation samples. No nested validation will be performed.\n",
      "Train:4390, Val:0, Test:488\n",
      "'val_fraction' setting results in 0.0 validation samples. No nested validation will be performed.\n",
      "Train:4392, Val:0, Test:486\n"
     ]
    },
    {
     "data": {
      "application/vnd.jupyter.widget-view+json": {
       "model_id": "8c1a1e2c8c3340cbbda971acf80bae16",
       "version_major": 2,
       "version_minor": 0
      },
      "text/plain": [
       "  0%|          | 0/10 [00:00<?, ?it/s]"
      ]
     },
     "metadata": {},
     "output_type": "display_data"
    },
    {
     "name": "stdout",
     "output_type": "stream",
     "text": [
      "Accuracy [0-1, higher better]: \t0.94 \t Baseline value:  0.50\n",
      "F1 [0-1, higher better]: \t\t0.92 \t Baseline value:  0.33\n",
      "Scores saved as explain_watermarking_july\\subsamples_none_10\\scores_class-class_group-term_27.pkl.\n",
      "Classifiers saved as explain_watermarking_july\\subsamples_none_10\\classifiers_class-class_group-term_27.pkl.\n",
      "Classifier parameters saved as 'explain_watermarking_july\\subsamples_none_10\\config_classifier_scheme_28.json'. It can be reloaded with '.load_params_classifier(filename)'.\n",
      "Cross-validation parameters saved as 'explain_watermarking_july\\subsamples_none_10\\config_cv_scheme_28.pkl'. It can be reloaded with '.load_params_cv(filename)'.\n",
      "No text subsampling with current setting: 'sample_type = 'none'.\n",
      "Proceeding with 2 classes.\n",
      "Proceeding with 2439 classes.\n",
      "Proceeding with GroupKFold cross-validation.\n"
     ]
    },
    {
     "name": "stderr",
     "output_type": "stream",
     "text": [
      "C:\\Users\\JOchab\\AppData\\Local\\Temp\\ipykernel_36184\\3970655721.py:14: FutureWarning: The frame.append method is deprecated and will be removed from pandas in a future version. Use pandas.concat instead.\n",
      "  all_scores = all_scores.append(exp.scores.df_all)\n"
     ]
    },
    {
     "data": {
      "application/vnd.jupyter.widget-view+json": {
       "model_id": "1f675e4899a2462a8c7f2b4a787c55db",
       "version_major": 2,
       "version_minor": 0
      },
      "text/plain": [
       "  0%|          | 0/1 [00:00<?, ?it/s]"
      ]
     },
     "metadata": {},
     "output_type": "display_data"
    },
    {
     "name": "stderr",
     "output_type": "stream",
     "text": [
      "D:\\ProgramData\\Anaconda3\\envs\\clarin\\lib\\site-packages\\lightgbm\\engine.py:177: UserWarning: Found `num_iterations` in params. Will use it instead of argument\n",
      "  _log_warning(f\"Found `{alias}` in params. Will use it instead of argument\")\n"
     ]
    },
    {
     "name": "stdout",
     "output_type": "stream",
     "text": [
      "'val_fraction' setting results in 0.0 validation samples. No nested validation will be performed.\n",
      "Train:4390, Val:0, Test:488\n",
      "'val_fraction' setting results in 0.0 validation samples. No nested validation will be performed.\n",
      "Train:4390, Val:0, Test:488\n",
      "'val_fraction' setting results in 0.0 validation samples. No nested validation will be performed.\n",
      "Train:4390, Val:0, Test:488\n",
      "'val_fraction' setting results in 0.0 validation samples. No nested validation will be performed.\n",
      "Train:4390, Val:0, Test:488\n",
      "'val_fraction' setting results in 0.0 validation samples. No nested validation will be performed.\n",
      "Train:4390, Val:0, Test:488\n",
      "'val_fraction' setting results in 0.0 validation samples. No nested validation will be performed.\n",
      "Train:4390, Val:0, Test:488\n",
      "'val_fraction' setting results in 0.0 validation samples. No nested validation will be performed.\n",
      "Train:4390, Val:0, Test:488\n",
      "'val_fraction' setting results in 0.0 validation samples. No nested validation will be performed.\n",
      "Train:4390, Val:0, Test:488\n",
      "'val_fraction' setting results in 0.0 validation samples. No nested validation will be performed.\n",
      "Train:4390, Val:0, Test:488\n",
      "'val_fraction' setting results in 0.0 validation samples. No nested validation will be performed.\n",
      "Train:4392, Val:0, Test:486\n"
     ]
    },
    {
     "data": {
      "application/vnd.jupyter.widget-view+json": {
       "model_id": "dabf889eaa4f4dae96a29ac32d45bade",
       "version_major": 2,
       "version_minor": 0
      },
      "text/plain": [
       "  0%|          | 0/10 [00:00<?, ?it/s]"
      ]
     },
     "metadata": {},
     "output_type": "display_data"
    },
    {
     "name": "stdout",
     "output_type": "stream",
     "text": [
      "Accuracy [0-1, higher better]: \t0.90 \t Baseline value:  0.50\n",
      "F1 [0-1, higher better]: \t\t0.90 \t Baseline value:  0.33\n",
      "Scores saved as explain_watermarking_july\\subsamples_none_10\\scores_class-class_group-term_28.pkl.\n",
      "Classifiers saved as explain_watermarking_july\\subsamples_none_10\\classifiers_class-class_group-term_28.pkl.\n",
      "Classifier parameters saved as 'explain_watermarking_july\\subsamples_none_10\\config_classifier_scheme_29.json'. It can be reloaded with '.load_params_classifier(filename)'.\n",
      "Cross-validation parameters saved as 'explain_watermarking_july\\subsamples_none_10\\config_cv_scheme_29.pkl'. It can be reloaded with '.load_params_cv(filename)'.\n",
      "No text subsampling with current setting: 'sample_type = 'none'.\n",
      "Proceeding with 2 classes.\n",
      "Proceeding with 2439 classes.\n",
      "Proceeding with GroupKFold cross-validation.\n"
     ]
    },
    {
     "name": "stderr",
     "output_type": "stream",
     "text": [
      "C:\\Users\\JOchab\\AppData\\Local\\Temp\\ipykernel_36184\\3970655721.py:14: FutureWarning: The frame.append method is deprecated and will be removed from pandas in a future version. Use pandas.concat instead.\n",
      "  all_scores = all_scores.append(exp.scores.df_all)\n"
     ]
    },
    {
     "data": {
      "application/vnd.jupyter.widget-view+json": {
       "model_id": "6ae4b27090254fac9b6252337aaa5721",
       "version_major": 2,
       "version_minor": 0
      },
      "text/plain": [
       "  0%|          | 0/1 [00:00<?, ?it/s]"
      ]
     },
     "metadata": {},
     "output_type": "display_data"
    },
    {
     "name": "stderr",
     "output_type": "stream",
     "text": [
      "D:\\ProgramData\\Anaconda3\\envs\\clarin\\lib\\site-packages\\lightgbm\\engine.py:177: UserWarning: Found `num_iterations` in params. Will use it instead of argument\n",
      "  _log_warning(f\"Found `{alias}` in params. Will use it instead of argument\")\n"
     ]
    },
    {
     "name": "stdout",
     "output_type": "stream",
     "text": [
      "'val_fraction' setting results in 0.0 validation samples. No nested validation will be performed.\n",
      "Train:4390, Val:0, Test:488\n",
      "'val_fraction' setting results in 0.0 validation samples. No nested validation will be performed.\n",
      "Train:4390, Val:0, Test:488\n",
      "'val_fraction' setting results in 0.0 validation samples. No nested validation will be performed.\n",
      "Train:4390, Val:0, Test:488\n",
      "'val_fraction' setting results in 0.0 validation samples. No nested validation will be performed.\n",
      "Train:4390, Val:0, Test:488\n",
      "'val_fraction' setting results in 0.0 validation samples. No nested validation will be performed.\n",
      "Train:4390, Val:0, Test:488\n",
      "'val_fraction' setting results in 0.0 validation samples. No nested validation will be performed.\n",
      "Train:4390, Val:0, Test:488\n",
      "'val_fraction' setting results in 0.0 validation samples. No nested validation will be performed.\n",
      "Train:4390, Val:0, Test:488\n",
      "'val_fraction' setting results in 0.0 validation samples. No nested validation will be performed.\n",
      "Train:4390, Val:0, Test:488\n",
      "'val_fraction' setting results in 0.0 validation samples. No nested validation will be performed.\n",
      "Train:4390, Val:0, Test:488\n",
      "'val_fraction' setting results in 0.0 validation samples. No nested validation will be performed.\n",
      "Train:4392, Val:0, Test:486\n"
     ]
    },
    {
     "data": {
      "application/vnd.jupyter.widget-view+json": {
       "model_id": "43b754214c594a97b7e3fa21d9d129e6",
       "version_major": 2,
       "version_minor": 0
      },
      "text/plain": [
       "  0%|          | 0/10 [00:00<?, ?it/s]"
      ]
     },
     "metadata": {},
     "output_type": "display_data"
    },
    {
     "name": "stdout",
     "output_type": "stream",
     "text": [
      "Accuracy [0-1, higher better]: \t0.93 \t Baseline value:  0.50\n",
      "F1 [0-1, higher better]: \t\t0.92 \t Baseline value:  0.33\n",
      "Scores saved as explain_watermarking_july\\subsamples_none_10\\scores_class-class_group-term_29.pkl.\n",
      "Classifiers saved as explain_watermarking_july\\subsamples_none_10\\classifiers_class-class_group-term_29.pkl.\n",
      "Classifier parameters saved as 'explain_watermarking_july\\subsamples_none_10\\config_classifier_scheme_30.json'. It can be reloaded with '.load_params_classifier(filename)'.\n",
      "Cross-validation parameters saved as 'explain_watermarking_july\\subsamples_none_10\\config_cv_scheme_30.pkl'. It can be reloaded with '.load_params_cv(filename)'.\n",
      "No text subsampling with current setting: 'sample_type = 'none'.\n",
      "Proceeding with 2 classes.\n",
      "Proceeding with 2439 classes.\n",
      "Proceeding with GroupKFold cross-validation.\n"
     ]
    },
    {
     "name": "stderr",
     "output_type": "stream",
     "text": [
      "C:\\Users\\JOchab\\AppData\\Local\\Temp\\ipykernel_36184\\3970655721.py:14: FutureWarning: The frame.append method is deprecated and will be removed from pandas in a future version. Use pandas.concat instead.\n",
      "  all_scores = all_scores.append(exp.scores.df_all)\n"
     ]
    },
    {
     "data": {
      "application/vnd.jupyter.widget-view+json": {
       "model_id": "0ee452ceddf14fda93e33fdb433e8971",
       "version_major": 2,
       "version_minor": 0
      },
      "text/plain": [
       "  0%|          | 0/1 [00:00<?, ?it/s]"
      ]
     },
     "metadata": {},
     "output_type": "display_data"
    },
    {
     "name": "stderr",
     "output_type": "stream",
     "text": [
      "D:\\ProgramData\\Anaconda3\\envs\\clarin\\lib\\site-packages\\lightgbm\\engine.py:177: UserWarning: Found `num_iterations` in params. Will use it instead of argument\n",
      "  _log_warning(f\"Found `{alias}` in params. Will use it instead of argument\")\n"
     ]
    },
    {
     "name": "stdout",
     "output_type": "stream",
     "text": [
      "'val_fraction' setting results in 0.0 validation samples. No nested validation will be performed.\n",
      "Train:4390, Val:0, Test:488\n",
      "'val_fraction' setting results in 0.0 validation samples. No nested validation will be performed.\n",
      "Train:4390, Val:0, Test:488\n",
      "'val_fraction' setting results in 0.0 validation samples. No nested validation will be performed.\n",
      "Train:4390, Val:0, Test:488\n",
      "'val_fraction' setting results in 0.0 validation samples. No nested validation will be performed.\n",
      "Train:4390, Val:0, Test:488\n",
      "'val_fraction' setting results in 0.0 validation samples. No nested validation will be performed.\n",
      "Train:4390, Val:0, Test:488\n",
      "'val_fraction' setting results in 0.0 validation samples. No nested validation will be performed.\n",
      "Train:4390, Val:0, Test:488\n",
      "'val_fraction' setting results in 0.0 validation samples. No nested validation will be performed.\n",
      "Train:4390, Val:0, Test:488\n",
      "'val_fraction' setting results in 0.0 validation samples. No nested validation will be performed.\n",
      "Train:4390, Val:0, Test:488\n",
      "'val_fraction' setting results in 0.0 validation samples. No nested validation will be performed.\n",
      "Train:4390, Val:0, Test:488\n",
      "'val_fraction' setting results in 0.0 validation samples. No nested validation will be performed.\n",
      "Train:4392, Val:0, Test:486\n"
     ]
    },
    {
     "data": {
      "application/vnd.jupyter.widget-view+json": {
       "model_id": "9bf138c79ed5419d98a8aa45684b87fe",
       "version_major": 2,
       "version_minor": 0
      },
      "text/plain": [
       "  0%|          | 0/10 [00:00<?, ?it/s]"
      ]
     },
     "metadata": {},
     "output_type": "display_data"
    },
    {
     "name": "stdout",
     "output_type": "stream",
     "text": [
      "Accuracy [0-1, higher better]: \t0.91 \t Baseline value:  0.50\n",
      "F1 [0-1, higher better]: \t\t0.91 \t Baseline value:  0.33\n",
      "Scores saved as explain_watermarking_july\\subsamples_none_10\\scores_class-class_group-term_30.pkl.\n",
      "Classifiers saved as explain_watermarking_july\\subsamples_none_10\\classifiers_class-class_group-term_30.pkl.\n",
      "Classifier parameters saved as 'explain_watermarking_july\\subsamples_none_10\\config_classifier_scheme_31.json'. It can be reloaded with '.load_params_classifier(filename)'.\n",
      "Cross-validation parameters saved as 'explain_watermarking_july\\subsamples_none_10\\config_cv_scheme_31.pkl'. It can be reloaded with '.load_params_cv(filename)'.\n",
      "No text subsampling with current setting: 'sample_type = 'none'.\n",
      "Proceeding with 2 classes.\n",
      "Proceeding with 2439 classes.\n",
      "Proceeding with GroupKFold cross-validation.\n"
     ]
    },
    {
     "name": "stderr",
     "output_type": "stream",
     "text": [
      "C:\\Users\\JOchab\\AppData\\Local\\Temp\\ipykernel_36184\\3970655721.py:14: FutureWarning: The frame.append method is deprecated and will be removed from pandas in a future version. Use pandas.concat instead.\n",
      "  all_scores = all_scores.append(exp.scores.df_all)\n"
     ]
    },
    {
     "data": {
      "application/vnd.jupyter.widget-view+json": {
       "model_id": "e5df9a67bbf54e67b34c34814999e8bf",
       "version_major": 2,
       "version_minor": 0
      },
      "text/plain": [
       "  0%|          | 0/1 [00:00<?, ?it/s]"
      ]
     },
     "metadata": {},
     "output_type": "display_data"
    },
    {
     "name": "stderr",
     "output_type": "stream",
     "text": [
      "D:\\ProgramData\\Anaconda3\\envs\\clarin\\lib\\site-packages\\lightgbm\\engine.py:177: UserWarning: Found `num_iterations` in params. Will use it instead of argument\n",
      "  _log_warning(f\"Found `{alias}` in params. Will use it instead of argument\")\n"
     ]
    },
    {
     "name": "stdout",
     "output_type": "stream",
     "text": [
      "'val_fraction' setting results in 0.0 validation samples. No nested validation will be performed.\n",
      "Train:4390, Val:0, Test:488\n",
      "'val_fraction' setting results in 0.0 validation samples. No nested validation will be performed.\n",
      "Train:4390, Val:0, Test:488\n",
      "'val_fraction' setting results in 0.0 validation samples. No nested validation will be performed.\n",
      "Train:4390, Val:0, Test:488\n",
      "'val_fraction' setting results in 0.0 validation samples. No nested validation will be performed.\n",
      "Train:4390, Val:0, Test:488\n",
      "'val_fraction' setting results in 0.0 validation samples. No nested validation will be performed.\n",
      "Train:4390, Val:0, Test:488\n",
      "'val_fraction' setting results in 0.0 validation samples. No nested validation will be performed.\n",
      "Train:4390, Val:0, Test:488\n",
      "'val_fraction' setting results in 0.0 validation samples. No nested validation will be performed.\n",
      "Train:4390, Val:0, Test:488\n",
      "'val_fraction' setting results in 0.0 validation samples. No nested validation will be performed.\n",
      "Train:4390, Val:0, Test:488\n",
      "'val_fraction' setting results in 0.0 validation samples. No nested validation will be performed.\n",
      "Train:4390, Val:0, Test:488\n",
      "'val_fraction' setting results in 0.0 validation samples. No nested validation will be performed.\n",
      "Train:4392, Val:0, Test:486\n"
     ]
    },
    {
     "data": {
      "application/vnd.jupyter.widget-view+json": {
       "model_id": "40f8ed07b57d420db4c8f2a7c69cf5b8",
       "version_major": 2,
       "version_minor": 0
      },
      "text/plain": [
       "  0%|          | 0/10 [00:00<?, ?it/s]"
      ]
     },
     "metadata": {},
     "output_type": "display_data"
    },
    {
     "name": "stdout",
     "output_type": "stream",
     "text": [
      "Accuracy [0-1, higher better]: \t0.99 \t Baseline value:  0.50\n",
      "F1 [0-1, higher better]: \t\t0.99 \t Baseline value:  0.33\n",
      "Scores saved as explain_watermarking_july\\subsamples_none_10\\scores_class-class_group-term_31.pkl.\n",
      "Classifiers saved as explain_watermarking_july\\subsamples_none_10\\classifiers_class-class_group-term_31.pkl.\n",
      "Classifier parameters saved as 'explain_watermarking_july\\subsamples_none_10\\config_classifier_scheme_32.json'. It can be reloaded with '.load_params_classifier(filename)'.\n",
      "Cross-validation parameters saved as 'explain_watermarking_july\\subsamples_none_10\\config_cv_scheme_32.pkl'. It can be reloaded with '.load_params_cv(filename)'.\n",
      "No text subsampling with current setting: 'sample_type = 'none'.\n",
      "Proceeding with 2 classes.\n",
      "Proceeding with 2439 classes.\n",
      "Proceeding with GroupKFold cross-validation.\n"
     ]
    },
    {
     "name": "stderr",
     "output_type": "stream",
     "text": [
      "C:\\Users\\JOchab\\AppData\\Local\\Temp\\ipykernel_36184\\3970655721.py:14: FutureWarning: The frame.append method is deprecated and will be removed from pandas in a future version. Use pandas.concat instead.\n",
      "  all_scores = all_scores.append(exp.scores.df_all)\n"
     ]
    },
    {
     "data": {
      "application/vnd.jupyter.widget-view+json": {
       "model_id": "8f631ae1bcb14666a9fb65ad6401c346",
       "version_major": 2,
       "version_minor": 0
      },
      "text/plain": [
       "  0%|          | 0/1 [00:00<?, ?it/s]"
      ]
     },
     "metadata": {},
     "output_type": "display_data"
    },
    {
     "name": "stderr",
     "output_type": "stream",
     "text": [
      "D:\\ProgramData\\Anaconda3\\envs\\clarin\\lib\\site-packages\\lightgbm\\engine.py:177: UserWarning: Found `num_iterations` in params. Will use it instead of argument\n",
      "  _log_warning(f\"Found `{alias}` in params. Will use it instead of argument\")\n"
     ]
    },
    {
     "name": "stdout",
     "output_type": "stream",
     "text": [
      "'val_fraction' setting results in 0.0 validation samples. No nested validation will be performed.\n",
      "Train:4390, Val:0, Test:488\n",
      "'val_fraction' setting results in 0.0 validation samples. No nested validation will be performed.\n",
      "Train:4390, Val:0, Test:488\n",
      "'val_fraction' setting results in 0.0 validation samples. No nested validation will be performed.\n",
      "Train:4390, Val:0, Test:488\n",
      "'val_fraction' setting results in 0.0 validation samples. No nested validation will be performed.\n",
      "Train:4390, Val:0, Test:488\n",
      "'val_fraction' setting results in 0.0 validation samples. No nested validation will be performed.\n",
      "Train:4390, Val:0, Test:488\n",
      "'val_fraction' setting results in 0.0 validation samples. No nested validation will be performed.\n",
      "Train:4390, Val:0, Test:488\n",
      "'val_fraction' setting results in 0.0 validation samples. No nested validation will be performed.\n",
      "Train:4390, Val:0, Test:488\n",
      "'val_fraction' setting results in 0.0 validation samples. No nested validation will be performed.\n",
      "Train:4390, Val:0, Test:488\n",
      "'val_fraction' setting results in 0.0 validation samples. No nested validation will be performed.\n",
      "Train:4390, Val:0, Test:488\n",
      "'val_fraction' setting results in 0.0 validation samples. No nested validation will be performed.\n",
      "Train:4392, Val:0, Test:486\n"
     ]
    },
    {
     "data": {
      "application/vnd.jupyter.widget-view+json": {
       "model_id": "9b79448ca9aa471eb10c2ac7254ede2b",
       "version_major": 2,
       "version_minor": 0
      },
      "text/plain": [
       "  0%|          | 0/10 [00:00<?, ?it/s]"
      ]
     },
     "metadata": {},
     "output_type": "display_data"
    },
    {
     "name": "stdout",
     "output_type": "stream",
     "text": [
      "Accuracy [0-1, higher better]: \t0.99 \t Baseline value:  0.50\n",
      "F1 [0-1, higher better]: \t\t0.99 \t Baseline value:  0.33\n",
      "Scores saved as explain_watermarking_july\\subsamples_none_10\\scores_class-class_group-term_32.pkl.\n",
      "Classifiers saved as explain_watermarking_july\\subsamples_none_10\\classifiers_class-class_group-term_32.pkl.\n",
      "Classifier parameters saved as 'explain_watermarking_july\\subsamples_none_10\\config_classifier_scheme_33.json'. It can be reloaded with '.load_params_classifier(filename)'.\n",
      "Cross-validation parameters saved as 'explain_watermarking_july\\subsamples_none_10\\config_cv_scheme_33.pkl'. It can be reloaded with '.load_params_cv(filename)'.\n",
      "No text subsampling with current setting: 'sample_type = 'none'.\n",
      "Proceeding with 2 classes.\n",
      "Proceeding with 2439 classes.\n",
      "Proceeding with GroupKFold cross-validation.\n"
     ]
    },
    {
     "name": "stderr",
     "output_type": "stream",
     "text": [
      "C:\\Users\\JOchab\\AppData\\Local\\Temp\\ipykernel_36184\\3970655721.py:14: FutureWarning: The frame.append method is deprecated and will be removed from pandas in a future version. Use pandas.concat instead.\n",
      "  all_scores = all_scores.append(exp.scores.df_all)\n"
     ]
    },
    {
     "data": {
      "application/vnd.jupyter.widget-view+json": {
       "model_id": "d12623599086485aa7fd2d5ce1a5b1b9",
       "version_major": 2,
       "version_minor": 0
      },
      "text/plain": [
       "  0%|          | 0/1 [00:00<?, ?it/s]"
      ]
     },
     "metadata": {},
     "output_type": "display_data"
    },
    {
     "name": "stderr",
     "output_type": "stream",
     "text": [
      "D:\\ProgramData\\Anaconda3\\envs\\clarin\\lib\\site-packages\\lightgbm\\engine.py:177: UserWarning: Found `num_iterations` in params. Will use it instead of argument\n",
      "  _log_warning(f\"Found `{alias}` in params. Will use it instead of argument\")\n"
     ]
    },
    {
     "name": "stdout",
     "output_type": "stream",
     "text": [
      "'val_fraction' setting results in 0.0 validation samples. No nested validation will be performed.\n",
      "Train:4390, Val:0, Test:488\n",
      "'val_fraction' setting results in 0.0 validation samples. No nested validation will be performed.\n",
      "Train:4390, Val:0, Test:488\n",
      "'val_fraction' setting results in 0.0 validation samples. No nested validation will be performed.\n",
      "Train:4390, Val:0, Test:488\n",
      "'val_fraction' setting results in 0.0 validation samples. No nested validation will be performed.\n",
      "Train:4390, Val:0, Test:488\n",
      "'val_fraction' setting results in 0.0 validation samples. No nested validation will be performed.\n",
      "Train:4390, Val:0, Test:488\n",
      "'val_fraction' setting results in 0.0 validation samples. No nested validation will be performed.\n",
      "Train:4390, Val:0, Test:488\n",
      "'val_fraction' setting results in 0.0 validation samples. No nested validation will be performed.\n",
      "Train:4390, Val:0, Test:488\n",
      "'val_fraction' setting results in 0.0 validation samples. No nested validation will be performed.\n",
      "Train:4390, Val:0, Test:488\n",
      "'val_fraction' setting results in 0.0 validation samples. No nested validation will be performed.\n",
      "Train:4390, Val:0, Test:488\n",
      "'val_fraction' setting results in 0.0 validation samples. No nested validation will be performed.\n",
      "Train:4392, Val:0, Test:486\n"
     ]
    },
    {
     "data": {
      "application/vnd.jupyter.widget-view+json": {
       "model_id": "a4ef6f7c9c45498e952df3e675a7277f",
       "version_major": 2,
       "version_minor": 0
      },
      "text/plain": [
       "  0%|          | 0/10 [00:00<?, ?it/s]"
      ]
     },
     "metadata": {},
     "output_type": "display_data"
    },
    {
     "name": "stdout",
     "output_type": "stream",
     "text": [
      "Accuracy [0-1, higher better]: \t0.97 \t Baseline value:  0.50\n",
      "F1 [0-1, higher better]: \t\t0.97 \t Baseline value:  0.33\n",
      "Scores saved as explain_watermarking_july\\subsamples_none_10\\scores_class-class_group-term_33.pkl.\n",
      "Classifiers saved as explain_watermarking_july\\subsamples_none_10\\classifiers_class-class_group-term_33.pkl.\n",
      "Classifier parameters saved as 'explain_watermarking_july\\subsamples_none_10\\config_classifier_scheme_34.json'. It can be reloaded with '.load_params_classifier(filename)'.\n",
      "Cross-validation parameters saved as 'explain_watermarking_july\\subsamples_none_10\\config_cv_scheme_34.pkl'. It can be reloaded with '.load_params_cv(filename)'.\n",
      "No text subsampling with current setting: 'sample_type = 'none'.\n",
      "Proceeding with 2 classes.\n",
      "Proceeding with 2439 classes.\n",
      "Proceeding with GroupKFold cross-validation.\n"
     ]
    },
    {
     "name": "stderr",
     "output_type": "stream",
     "text": [
      "C:\\Users\\JOchab\\AppData\\Local\\Temp\\ipykernel_36184\\3970655721.py:14: FutureWarning: The frame.append method is deprecated and will be removed from pandas in a future version. Use pandas.concat instead.\n",
      "  all_scores = all_scores.append(exp.scores.df_all)\n"
     ]
    },
    {
     "data": {
      "application/vnd.jupyter.widget-view+json": {
       "model_id": "136aedf79dec42e4b7f7710753828d2d",
       "version_major": 2,
       "version_minor": 0
      },
      "text/plain": [
       "  0%|          | 0/1 [00:00<?, ?it/s]"
      ]
     },
     "metadata": {},
     "output_type": "display_data"
    },
    {
     "name": "stderr",
     "output_type": "stream",
     "text": [
      "D:\\ProgramData\\Anaconda3\\envs\\clarin\\lib\\site-packages\\lightgbm\\engine.py:177: UserWarning: Found `num_iterations` in params. Will use it instead of argument\n",
      "  _log_warning(f\"Found `{alias}` in params. Will use it instead of argument\")\n"
     ]
    },
    {
     "name": "stdout",
     "output_type": "stream",
     "text": [
      "'val_fraction' setting results in 0.0 validation samples. No nested validation will be performed.\n",
      "Train:4390, Val:0, Test:488\n",
      "'val_fraction' setting results in 0.0 validation samples. No nested validation will be performed.\n",
      "Train:4390, Val:0, Test:488\n",
      "'val_fraction' setting results in 0.0 validation samples. No nested validation will be performed.\n",
      "Train:4390, Val:0, Test:488\n",
      "'val_fraction' setting results in 0.0 validation samples. No nested validation will be performed.\n",
      "Train:4390, Val:0, Test:488\n",
      "'val_fraction' setting results in 0.0 validation samples. No nested validation will be performed.\n",
      "Train:4390, Val:0, Test:488\n",
      "'val_fraction' setting results in 0.0 validation samples. No nested validation will be performed.\n",
      "Train:4390, Val:0, Test:488\n",
      "'val_fraction' setting results in 0.0 validation samples. No nested validation will be performed.\n",
      "Train:4390, Val:0, Test:488\n",
      "'val_fraction' setting results in 0.0 validation samples. No nested validation will be performed.\n",
      "Train:4390, Val:0, Test:488\n",
      "'val_fraction' setting results in 0.0 validation samples. No nested validation will be performed.\n",
      "Train:4390, Val:0, Test:488\n",
      "'val_fraction' setting results in 0.0 validation samples. No nested validation will be performed.\n",
      "Train:4392, Val:0, Test:486\n"
     ]
    },
    {
     "data": {
      "application/vnd.jupyter.widget-view+json": {
       "model_id": "099eb5aedb2b40c48085e79070e62ea1",
       "version_major": 2,
       "version_minor": 0
      },
      "text/plain": [
       "  0%|          | 0/10 [00:00<?, ?it/s]"
      ]
     },
     "metadata": {},
     "output_type": "display_data"
    },
    {
     "name": "stdout",
     "output_type": "stream",
     "text": [
      "Accuracy [0-1, higher better]: \t0.93 \t Baseline value:  0.50\n",
      "F1 [0-1, higher better]: \t\t0.93 \t Baseline value:  0.33\n",
      "Scores saved as explain_watermarking_july\\subsamples_none_10\\scores_class-class_group-term_34.pkl.\n",
      "Classifiers saved as explain_watermarking_july\\subsamples_none_10\\classifiers_class-class_group-term_34.pkl.\n",
      "Classifier parameters saved as 'explain_watermarking_july\\subsamples_none_10\\config_classifier_scheme_35.json'. It can be reloaded with '.load_params_classifier(filename)'.\n",
      "Cross-validation parameters saved as 'explain_watermarking_july\\subsamples_none_10\\config_cv_scheme_35.pkl'. It can be reloaded with '.load_params_cv(filename)'.\n",
      "No text subsampling with current setting: 'sample_type = 'none'.\n",
      "Proceeding with 2 classes.\n",
      "Proceeding with 2439 classes.\n",
      "Proceeding with GroupKFold cross-validation.\n"
     ]
    },
    {
     "name": "stderr",
     "output_type": "stream",
     "text": [
      "C:\\Users\\JOchab\\AppData\\Local\\Temp\\ipykernel_36184\\3970655721.py:14: FutureWarning: The frame.append method is deprecated and will be removed from pandas in a future version. Use pandas.concat instead.\n",
      "  all_scores = all_scores.append(exp.scores.df_all)\n"
     ]
    },
    {
     "data": {
      "application/vnd.jupyter.widget-view+json": {
       "model_id": "8e6514277a154867b7be6c616321a318",
       "version_major": 2,
       "version_minor": 0
      },
      "text/plain": [
       "  0%|          | 0/1 [00:00<?, ?it/s]"
      ]
     },
     "metadata": {},
     "output_type": "display_data"
    },
    {
     "name": "stderr",
     "output_type": "stream",
     "text": [
      "D:\\ProgramData\\Anaconda3\\envs\\clarin\\lib\\site-packages\\lightgbm\\engine.py:177: UserWarning: Found `num_iterations` in params. Will use it instead of argument\n",
      "  _log_warning(f\"Found `{alias}` in params. Will use it instead of argument\")\n"
     ]
    },
    {
     "name": "stdout",
     "output_type": "stream",
     "text": [
      "'val_fraction' setting results in 0.0 validation samples. No nested validation will be performed.\n",
      "Train:4390, Val:0, Test:488\n",
      "'val_fraction' setting results in 0.0 validation samples. No nested validation will be performed.\n",
      "Train:4390, Val:0, Test:488\n",
      "'val_fraction' setting results in 0.0 validation samples. No nested validation will be performed.\n",
      "Train:4390, Val:0, Test:488\n",
      "'val_fraction' setting results in 0.0 validation samples. No nested validation will be performed.\n",
      "Train:4390, Val:0, Test:488\n",
      "'val_fraction' setting results in 0.0 validation samples. No nested validation will be performed.\n",
      "Train:4390, Val:0, Test:488\n",
      "'val_fraction' setting results in 0.0 validation samples. No nested validation will be performed.\n",
      "Train:4390, Val:0, Test:488\n",
      "'val_fraction' setting results in 0.0 validation samples. No nested validation will be performed.\n",
      "Train:4390, Val:0, Test:488\n",
      "'val_fraction' setting results in 0.0 validation samples. No nested validation will be performed.\n",
      "Train:4390, Val:0, Test:488\n",
      "'val_fraction' setting results in 0.0 validation samples. No nested validation will be performed.\n",
      "Train:4390, Val:0, Test:488\n",
      "'val_fraction' setting results in 0.0 validation samples. No nested validation will be performed.\n",
      "Train:4392, Val:0, Test:486\n"
     ]
    },
    {
     "data": {
      "application/vnd.jupyter.widget-view+json": {
       "model_id": "b2ddbd3f196148a6ac7b5cc1ecf45153",
       "version_major": 2,
       "version_minor": 0
      },
      "text/plain": [
       "  0%|          | 0/10 [00:00<?, ?it/s]"
      ]
     },
     "metadata": {},
     "output_type": "display_data"
    },
    {
     "name": "stdout",
     "output_type": "stream",
     "text": [
      "Accuracy [0-1, higher better]: \t0.98 \t Baseline value:  0.50\n",
      "F1 [0-1, higher better]: \t\t0.98 \t Baseline value:  0.33\n",
      "Scores saved as explain_watermarking_july\\subsamples_none_10\\scores_class-class_group-term_35.pkl.\n",
      "Classifiers saved as explain_watermarking_july\\subsamples_none_10\\classifiers_class-class_group-term_35.pkl.\n",
      "Classifier parameters saved as 'explain_watermarking_july\\subsamples_none_10\\config_classifier_scheme_36.json'. It can be reloaded with '.load_params_classifier(filename)'.\n",
      "Cross-validation parameters saved as 'explain_watermarking_july\\subsamples_none_10\\config_cv_scheme_36.pkl'. It can be reloaded with '.load_params_cv(filename)'.\n",
      "No text subsampling with current setting: 'sample_type = 'none'.\n",
      "Proceeding with 2 classes.\n",
      "Proceeding with 2439 classes.\n",
      "Proceeding with GroupKFold cross-validation.\n"
     ]
    },
    {
     "name": "stderr",
     "output_type": "stream",
     "text": [
      "C:\\Users\\JOchab\\AppData\\Local\\Temp\\ipykernel_36184\\3970655721.py:14: FutureWarning: The frame.append method is deprecated and will be removed from pandas in a future version. Use pandas.concat instead.\n",
      "  all_scores = all_scores.append(exp.scores.df_all)\n"
     ]
    },
    {
     "data": {
      "application/vnd.jupyter.widget-view+json": {
       "model_id": "acb6416438a843adb75911f9041ebaa4",
       "version_major": 2,
       "version_minor": 0
      },
      "text/plain": [
       "  0%|          | 0/1 [00:00<?, ?it/s]"
      ]
     },
     "metadata": {},
     "output_type": "display_data"
    },
    {
     "name": "stderr",
     "output_type": "stream",
     "text": [
      "D:\\ProgramData\\Anaconda3\\envs\\clarin\\lib\\site-packages\\lightgbm\\engine.py:177: UserWarning: Found `num_iterations` in params. Will use it instead of argument\n",
      "  _log_warning(f\"Found `{alias}` in params. Will use it instead of argument\")\n"
     ]
    },
    {
     "name": "stdout",
     "output_type": "stream",
     "text": [
      "'val_fraction' setting results in 0.0 validation samples. No nested validation will be performed.\n",
      "Train:4390, Val:0, Test:488\n",
      "'val_fraction' setting results in 0.0 validation samples. No nested validation will be performed.\n",
      "Train:4390, Val:0, Test:488\n",
      "'val_fraction' setting results in 0.0 validation samples. No nested validation will be performed.\n",
      "Train:4390, Val:0, Test:488\n",
      "'val_fraction' setting results in 0.0 validation samples. No nested validation will be performed.\n",
      "Train:4390, Val:0, Test:488\n",
      "'val_fraction' setting results in 0.0 validation samples. No nested validation will be performed.\n",
      "Train:4390, Val:0, Test:488\n",
      "'val_fraction' setting results in 0.0 validation samples. No nested validation will be performed.\n",
      "Train:4390, Val:0, Test:488\n",
      "'val_fraction' setting results in 0.0 validation samples. No nested validation will be performed.\n",
      "Train:4390, Val:0, Test:488\n",
      "'val_fraction' setting results in 0.0 validation samples. No nested validation will be performed.\n",
      "Train:4390, Val:0, Test:488\n",
      "'val_fraction' setting results in 0.0 validation samples. No nested validation will be performed.\n",
      "Train:4390, Val:0, Test:488\n",
      "'val_fraction' setting results in 0.0 validation samples. No nested validation will be performed.\n",
      "Train:4392, Val:0, Test:486\n"
     ]
    },
    {
     "data": {
      "application/vnd.jupyter.widget-view+json": {
       "model_id": "1a2f9a2cf82b40f38ced86eaa2f9860e",
       "version_major": 2,
       "version_minor": 0
      },
      "text/plain": [
       "  0%|          | 0/10 [00:00<?, ?it/s]"
      ]
     },
     "metadata": {},
     "output_type": "display_data"
    },
    {
     "name": "stdout",
     "output_type": "stream",
     "text": [
      "Accuracy [0-1, higher better]: \t0.99 \t Baseline value:  0.50\n",
      "F1 [0-1, higher better]: \t\t0.99 \t Baseline value:  0.33\n",
      "Scores saved as explain_watermarking_july\\subsamples_none_10\\scores_class-class_group-term_36.pkl.\n",
      "Classifiers saved as explain_watermarking_july\\subsamples_none_10\\classifiers_class-class_group-term_36.pkl.\n",
      "Classifier parameters saved as 'explain_watermarking_july\\subsamples_none_10\\config_classifier_scheme_37.json'. It can be reloaded with '.load_params_classifier(filename)'.\n",
      "Cross-validation parameters saved as 'explain_watermarking_july\\subsamples_none_10\\config_cv_scheme_37.pkl'. It can be reloaded with '.load_params_cv(filename)'.\n",
      "No text subsampling with current setting: 'sample_type = 'none'.\n",
      "Proceeding with 2 classes.\n",
      "Proceeding with 2439 classes.\n",
      "Proceeding with GroupKFold cross-validation.\n"
     ]
    },
    {
     "name": "stderr",
     "output_type": "stream",
     "text": [
      "C:\\Users\\JOchab\\AppData\\Local\\Temp\\ipykernel_36184\\3970655721.py:14: FutureWarning: The frame.append method is deprecated and will be removed from pandas in a future version. Use pandas.concat instead.\n",
      "  all_scores = all_scores.append(exp.scores.df_all)\n"
     ]
    },
    {
     "data": {
      "application/vnd.jupyter.widget-view+json": {
       "model_id": "70b72ba6b0a74209aa7f9eeec25944b8",
       "version_major": 2,
       "version_minor": 0
      },
      "text/plain": [
       "  0%|          | 0/1 [00:00<?, ?it/s]"
      ]
     },
     "metadata": {},
     "output_type": "display_data"
    },
    {
     "name": "stderr",
     "output_type": "stream",
     "text": [
      "D:\\ProgramData\\Anaconda3\\envs\\clarin\\lib\\site-packages\\lightgbm\\engine.py:177: UserWarning: Found `num_iterations` in params. Will use it instead of argument\n",
      "  _log_warning(f\"Found `{alias}` in params. Will use it instead of argument\")\n"
     ]
    },
    {
     "name": "stdout",
     "output_type": "stream",
     "text": [
      "'val_fraction' setting results in 0.0 validation samples. No nested validation will be performed.\n",
      "Train:4390, Val:0, Test:488\n",
      "'val_fraction' setting results in 0.0 validation samples. No nested validation will be performed.\n",
      "Train:4390, Val:0, Test:488\n",
      "'val_fraction' setting results in 0.0 validation samples. No nested validation will be performed.\n",
      "Train:4390, Val:0, Test:488\n",
      "'val_fraction' setting results in 0.0 validation samples. No nested validation will be performed.\n",
      "Train:4390, Val:0, Test:488\n",
      "'val_fraction' setting results in 0.0 validation samples. No nested validation will be performed.\n",
      "Train:4390, Val:0, Test:488\n",
      "'val_fraction' setting results in 0.0 validation samples. No nested validation will be performed.\n",
      "Train:4390, Val:0, Test:488\n",
      "'val_fraction' setting results in 0.0 validation samples. No nested validation will be performed.\n",
      "Train:4390, Val:0, Test:488\n",
      "'val_fraction' setting results in 0.0 validation samples. No nested validation will be performed.\n",
      "Train:4390, Val:0, Test:488\n",
      "'val_fraction' setting results in 0.0 validation samples. No nested validation will be performed.\n",
      "Train:4390, Val:0, Test:488\n",
      "'val_fraction' setting results in 0.0 validation samples. No nested validation will be performed.\n",
      "Train:4392, Val:0, Test:486\n"
     ]
    },
    {
     "data": {
      "application/vnd.jupyter.widget-view+json": {
       "model_id": "046947c7152f483e8ad481ce873a4656",
       "version_major": 2,
       "version_minor": 0
      },
      "text/plain": [
       "  0%|          | 0/10 [00:00<?, ?it/s]"
      ]
     },
     "metadata": {},
     "output_type": "display_data"
    },
    {
     "name": "stdout",
     "output_type": "stream",
     "text": [
      "Accuracy [0-1, higher better]: \t0.86 \t Baseline value:  0.50\n",
      "F1 [0-1, higher better]: \t\t0.81 \t Baseline value:  0.33\n",
      "Scores saved as explain_watermarking_july\\subsamples_none_10\\scores_class-class_group-term_37.pkl.\n",
      "Classifiers saved as explain_watermarking_july\\subsamples_none_10\\classifiers_class-class_group-term_37.pkl.\n",
      "Classifier parameters saved as 'explain_watermarking_july\\subsamples_none_10\\config_classifier_scheme_38.json'. It can be reloaded with '.load_params_classifier(filename)'.\n",
      "Cross-validation parameters saved as 'explain_watermarking_july\\subsamples_none_10\\config_cv_scheme_38.pkl'. It can be reloaded with '.load_params_cv(filename)'.\n",
      "No text subsampling with current setting: 'sample_type = 'none'.\n",
      "Proceeding with 2 classes.\n",
      "Proceeding with 2439 classes.\n",
      "Proceeding with GroupKFold cross-validation.\n"
     ]
    },
    {
     "name": "stderr",
     "output_type": "stream",
     "text": [
      "C:\\Users\\JOchab\\AppData\\Local\\Temp\\ipykernel_36184\\3970655721.py:14: FutureWarning: The frame.append method is deprecated and will be removed from pandas in a future version. Use pandas.concat instead.\n",
      "  all_scores = all_scores.append(exp.scores.df_all)\n"
     ]
    },
    {
     "data": {
      "application/vnd.jupyter.widget-view+json": {
       "model_id": "d30d25234b9f489ca191994a0caeadc4",
       "version_major": 2,
       "version_minor": 0
      },
      "text/plain": [
       "  0%|          | 0/1 [00:00<?, ?it/s]"
      ]
     },
     "metadata": {},
     "output_type": "display_data"
    },
    {
     "name": "stderr",
     "output_type": "stream",
     "text": [
      "D:\\ProgramData\\Anaconda3\\envs\\clarin\\lib\\site-packages\\lightgbm\\engine.py:177: UserWarning: Found `num_iterations` in params. Will use it instead of argument\n",
      "  _log_warning(f\"Found `{alias}` in params. Will use it instead of argument\")\n"
     ]
    },
    {
     "name": "stdout",
     "output_type": "stream",
     "text": [
      "'val_fraction' setting results in 0.0 validation samples. No nested validation will be performed.\n",
      "Train:4390, Val:0, Test:488\n",
      "'val_fraction' setting results in 0.0 validation samples. No nested validation will be performed.\n",
      "Train:4390, Val:0, Test:488\n",
      "'val_fraction' setting results in 0.0 validation samples. No nested validation will be performed.\n",
      "Train:4390, Val:0, Test:488\n",
      "'val_fraction' setting results in 0.0 validation samples. No nested validation will be performed.\n",
      "Train:4390, Val:0, Test:488\n",
      "'val_fraction' setting results in 0.0 validation samples. No nested validation will be performed.\n",
      "Train:4390, Val:0, Test:488\n",
      "'val_fraction' setting results in 0.0 validation samples. No nested validation will be performed.\n",
      "Train:4390, Val:0, Test:488\n",
      "'val_fraction' setting results in 0.0 validation samples. No nested validation will be performed.\n",
      "Train:4390, Val:0, Test:488\n",
      "'val_fraction' setting results in 0.0 validation samples. No nested validation will be performed.\n",
      "Train:4390, Val:0, Test:488\n",
      "'val_fraction' setting results in 0.0 validation samples. No nested validation will be performed.\n",
      "Train:4390, Val:0, Test:488\n",
      "'val_fraction' setting results in 0.0 validation samples. No nested validation will be performed.\n",
      "Train:4392, Val:0, Test:486\n"
     ]
    },
    {
     "data": {
      "application/vnd.jupyter.widget-view+json": {
       "model_id": "326127ed21d14ef4bc05e8878b963b1d",
       "version_major": 2,
       "version_minor": 0
      },
      "text/plain": [
       "  0%|          | 0/10 [00:00<?, ?it/s]"
      ]
     },
     "metadata": {},
     "output_type": "display_data"
    },
    {
     "name": "stdout",
     "output_type": "stream",
     "text": [
      "Accuracy [0-1, higher better]: \t0.98 \t Baseline value:  0.50\n",
      "F1 [0-1, higher better]: \t\t0.98 \t Baseline value:  0.33\n",
      "Scores saved as explain_watermarking_july\\subsamples_none_10\\scores_class-class_group-term_38.pkl.\n",
      "Classifiers saved as explain_watermarking_july\\subsamples_none_10\\classifiers_class-class_group-term_38.pkl.\n",
      "Classifier parameters saved as 'explain_watermarking_july\\subsamples_none_10\\config_classifier_scheme_39.json'. It can be reloaded with '.load_params_classifier(filename)'.\n",
      "Cross-validation parameters saved as 'explain_watermarking_july\\subsamples_none_10\\config_cv_scheme_39.pkl'. It can be reloaded with '.load_params_cv(filename)'.\n",
      "No text subsampling with current setting: 'sample_type = 'none'.\n",
      "Proceeding with 2 classes.\n",
      "Proceeding with 2439 classes.\n",
      "Proceeding with GroupKFold cross-validation.\n"
     ]
    },
    {
     "name": "stderr",
     "output_type": "stream",
     "text": [
      "C:\\Users\\JOchab\\AppData\\Local\\Temp\\ipykernel_36184\\3970655721.py:14: FutureWarning: The frame.append method is deprecated and will be removed from pandas in a future version. Use pandas.concat instead.\n",
      "  all_scores = all_scores.append(exp.scores.df_all)\n"
     ]
    },
    {
     "data": {
      "application/vnd.jupyter.widget-view+json": {
       "model_id": "a19cd117e88a4230b4740a9be44fbc43",
       "version_major": 2,
       "version_minor": 0
      },
      "text/plain": [
       "  0%|          | 0/1 [00:00<?, ?it/s]"
      ]
     },
     "metadata": {},
     "output_type": "display_data"
    },
    {
     "name": "stdout",
     "output_type": "stream",
     "text": [
      "'val_fraction' setting results in 0.0 validation samples. No nested validation will be performed.\n",
      "Train:4390, Val:0, Test:488\n"
     ]
    },
    {
     "name": "stderr",
     "output_type": "stream",
     "text": [
      "D:\\ProgramData\\Anaconda3\\envs\\clarin\\lib\\site-packages\\lightgbm\\engine.py:177: UserWarning: Found `num_iterations` in params. Will use it instead of argument\n",
      "  _log_warning(f\"Found `{alias}` in params. Will use it instead of argument\")\n"
     ]
    },
    {
     "name": "stdout",
     "output_type": "stream",
     "text": [
      "'val_fraction' setting results in 0.0 validation samples. No nested validation will be performed.\n",
      "Train:4390, Val:0, Test:488\n",
      "'val_fraction' setting results in 0.0 validation samples. No nested validation will be performed.\n",
      "Train:4390, Val:0, Test:488\n",
      "'val_fraction' setting results in 0.0 validation samples. No nested validation will be performed.\n",
      "Train:4390, Val:0, Test:488\n",
      "'val_fraction' setting results in 0.0 validation samples. No nested validation will be performed.\n",
      "Train:4390, Val:0, Test:488\n",
      "'val_fraction' setting results in 0.0 validation samples. No nested validation will be performed.\n",
      "Train:4390, Val:0, Test:488\n",
      "'val_fraction' setting results in 0.0 validation samples. No nested validation will be performed.\n",
      "Train:4390, Val:0, Test:488\n",
      "'val_fraction' setting results in 0.0 validation samples. No nested validation will be performed.\n",
      "Train:4390, Val:0, Test:488\n",
      "'val_fraction' setting results in 0.0 validation samples. No nested validation will be performed.\n",
      "Train:4390, Val:0, Test:488\n",
      "'val_fraction' setting results in 0.0 validation samples. No nested validation will be performed.\n",
      "Train:4392, Val:0, Test:486\n"
     ]
    },
    {
     "data": {
      "application/vnd.jupyter.widget-view+json": {
       "model_id": "dfe43453b483456e9e6d8dd7e88ba4a9",
       "version_major": 2,
       "version_minor": 0
      },
      "text/plain": [
       "  0%|          | 0/10 [00:00<?, ?it/s]"
      ]
     },
     "metadata": {},
     "output_type": "display_data"
    },
    {
     "name": "stdout",
     "output_type": "stream",
     "text": [
      "Accuracy [0-1, higher better]: \t0.98 \t Baseline value:  0.50\n",
      "F1 [0-1, higher better]: \t\t0.98 \t Baseline value:  0.33\n",
      "Scores saved as explain_watermarking_july\\subsamples_none_10\\scores_class-class_group-term_39.pkl.\n",
      "Classifiers saved as explain_watermarking_july\\subsamples_none_10\\classifiers_class-class_group-term_39.pkl.\n",
      "Classifier parameters saved as 'explain_watermarking_july\\subsamples_none_10\\config_classifier_scheme_40.json'. It can be reloaded with '.load_params_classifier(filename)'.\n",
      "Cross-validation parameters saved as 'explain_watermarking_july\\subsamples_none_10\\config_cv_scheme_40.pkl'. It can be reloaded with '.load_params_cv(filename)'.\n"
     ]
    },
    {
     "name": "stderr",
     "output_type": "stream",
     "text": [
      "C:\\Users\\JOchab\\AppData\\Local\\Temp\\ipykernel_36184\\3970655721.py:14: FutureWarning: The frame.append method is deprecated and will be removed from pandas in a future version. Use pandas.concat instead.\n",
      "  all_scores = all_scores.append(exp.scores.df_all)\n"
     ]
    },
    {
     "name": "stdout",
     "output_type": "stream",
     "text": [
      "No text subsampling with current setting: 'sample_type = 'none'.\n",
      "Proceeding with 2 classes.\n",
      "Proceeding with 2439 classes.\n",
      "Proceeding with GroupKFold cross-validation.\n"
     ]
    },
    {
     "data": {
      "application/vnd.jupyter.widget-view+json": {
       "model_id": "a7375d554691467eb579f89c383710ed",
       "version_major": 2,
       "version_minor": 0
      },
      "text/plain": [
       "  0%|          | 0/1 [00:00<?, ?it/s]"
      ]
     },
     "metadata": {},
     "output_type": "display_data"
    },
    {
     "name": "stdout",
     "output_type": "stream",
     "text": [
      "'val_fraction' setting results in 0.0 validation samples. No nested validation will be performed.\n",
      "Train:4390, Val:0, Test:488\n"
     ]
    },
    {
     "name": "stderr",
     "output_type": "stream",
     "text": [
      "D:\\ProgramData\\Anaconda3\\envs\\clarin\\lib\\site-packages\\lightgbm\\engine.py:177: UserWarning: Found `num_iterations` in params. Will use it instead of argument\n",
      "  _log_warning(f\"Found `{alias}` in params. Will use it instead of argument\")\n"
     ]
    },
    {
     "name": "stdout",
     "output_type": "stream",
     "text": [
      "'val_fraction' setting results in 0.0 validation samples. No nested validation will be performed.\n",
      "Train:4390, Val:0, Test:488\n",
      "'val_fraction' setting results in 0.0 validation samples. No nested validation will be performed.\n",
      "Train:4390, Val:0, Test:488\n",
      "'val_fraction' setting results in 0.0 validation samples. No nested validation will be performed.\n",
      "Train:4390, Val:0, Test:488\n",
      "'val_fraction' setting results in 0.0 validation samples. No nested validation will be performed.\n",
      "Train:4390, Val:0, Test:488\n",
      "'val_fraction' setting results in 0.0 validation samples. No nested validation will be performed.\n",
      "Train:4390, Val:0, Test:488\n",
      "'val_fraction' setting results in 0.0 validation samples. No nested validation will be performed.\n",
      "Train:4390, Val:0, Test:488\n",
      "'val_fraction' setting results in 0.0 validation samples. No nested validation will be performed.\n",
      "Train:4390, Val:0, Test:488\n",
      "'val_fraction' setting results in 0.0 validation samples. No nested validation will be performed.\n",
      "Train:4390, Val:0, Test:488\n",
      "'val_fraction' setting results in 0.0 validation samples. No nested validation will be performed.\n",
      "Train:4392, Val:0, Test:486\n"
     ]
    },
    {
     "data": {
      "application/vnd.jupyter.widget-view+json": {
       "model_id": "63b253017aeb415995e4febe397bfb20",
       "version_major": 2,
       "version_minor": 0
      },
      "text/plain": [
       "  0%|          | 0/10 [00:00<?, ?it/s]"
      ]
     },
     "metadata": {},
     "output_type": "display_data"
    },
    {
     "name": "stdout",
     "output_type": "stream",
     "text": [
      "Accuracy [0-1, higher better]: \t1.00 \t Baseline value:  0.50\n",
      "F1 [0-1, higher better]: \t\t1.00 \t Baseline value:  0.33\n",
      "Scores saved as explain_watermarking_july\\subsamples_none_10\\scores_class-class_group-term_40.pkl.\n",
      "Classifiers saved as explain_watermarking_july\\subsamples_none_10\\classifiers_class-class_group-term_40.pkl.\n",
      "Classifier parameters saved as 'explain_watermarking_july\\subsamples_none_10\\config_classifier_scheme_41.json'. It can be reloaded with '.load_params_classifier(filename)'.\n",
      "Cross-validation parameters saved as 'explain_watermarking_july\\subsamples_none_10\\config_cv_scheme_41.pkl'. It can be reloaded with '.load_params_cv(filename)'.\n",
      "No text subsampling with current setting: 'sample_type = 'none'.\n",
      "Proceeding with 2 classes.\n",
      "Proceeding with 2439 classes.\n",
      "Proceeding with GroupKFold cross-validation.\n"
     ]
    },
    {
     "name": "stderr",
     "output_type": "stream",
     "text": [
      "C:\\Users\\JOchab\\AppData\\Local\\Temp\\ipykernel_36184\\3970655721.py:14: FutureWarning: The frame.append method is deprecated and will be removed from pandas in a future version. Use pandas.concat instead.\n",
      "  all_scores = all_scores.append(exp.scores.df_all)\n"
     ]
    },
    {
     "data": {
      "application/vnd.jupyter.widget-view+json": {
       "model_id": "a1e8ba0617074f5ca4c72c6037a890c1",
       "version_major": 2,
       "version_minor": 0
      },
      "text/plain": [
       "  0%|          | 0/1 [00:00<?, ?it/s]"
      ]
     },
     "metadata": {},
     "output_type": "display_data"
    },
    {
     "name": "stdout",
     "output_type": "stream",
     "text": [
      "'val_fraction' setting results in 0.0 validation samples. No nested validation will be performed.\n",
      "Train:4390, Val:0, Test:488\n"
     ]
    },
    {
     "name": "stderr",
     "output_type": "stream",
     "text": [
      "D:\\ProgramData\\Anaconda3\\envs\\clarin\\lib\\site-packages\\lightgbm\\engine.py:177: UserWarning: Found `num_iterations` in params. Will use it instead of argument\n",
      "  _log_warning(f\"Found `{alias}` in params. Will use it instead of argument\")\n"
     ]
    },
    {
     "name": "stdout",
     "output_type": "stream",
     "text": [
      "'val_fraction' setting results in 0.0 validation samples. No nested validation will be performed.\n",
      "Train:4390, Val:0, Test:488\n",
      "'val_fraction' setting results in 0.0 validation samples. No nested validation will be performed.\n",
      "Train:4390, Val:0, Test:488\n",
      "'val_fraction' setting results in 0.0 validation samples. No nested validation will be performed.\n",
      "Train:4390, Val:0, Test:488\n",
      "'val_fraction' setting results in 0.0 validation samples. No nested validation will be performed.\n",
      "Train:4390, Val:0, Test:488\n",
      "'val_fraction' setting results in 0.0 validation samples. No nested validation will be performed.\n",
      "Train:4390, Val:0, Test:488\n",
      "'val_fraction' setting results in 0.0 validation samples. No nested validation will be performed.\n",
      "Train:4390, Val:0, Test:488\n",
      "'val_fraction' setting results in 0.0 validation samples. No nested validation will be performed.\n",
      "Train:4390, Val:0, Test:488\n",
      "'val_fraction' setting results in 0.0 validation samples. No nested validation will be performed.\n",
      "Train:4390, Val:0, Test:488\n",
      "'val_fraction' setting results in 0.0 validation samples. No nested validation will be performed.\n",
      "Train:4392, Val:0, Test:486\n"
     ]
    },
    {
     "data": {
      "application/vnd.jupyter.widget-view+json": {
       "model_id": "6c63d0caa0f64bdd8103f2ed897ecb26",
       "version_major": 2,
       "version_minor": 0
      },
      "text/plain": [
       "  0%|          | 0/10 [00:00<?, ?it/s]"
      ]
     },
     "metadata": {},
     "output_type": "display_data"
    },
    {
     "name": "stdout",
     "output_type": "stream",
     "text": [
      "Accuracy [0-1, higher better]: \t0.99 \t Baseline value:  0.50\n",
      "F1 [0-1, higher better]: \t\t0.99 \t Baseline value:  0.33\n",
      "Scores saved as explain_watermarking_july\\subsamples_none_10\\scores_class-class_group-term_41.pkl.\n",
      "Classifiers saved as explain_watermarking_july\\subsamples_none_10\\classifiers_class-class_group-term_41.pkl.\n",
      "Classifier parameters saved as 'explain_watermarking_july\\subsamples_none_10\\config_classifier_scheme_42.json'. It can be reloaded with '.load_params_classifier(filename)'.\n",
      "Cross-validation parameters saved as 'explain_watermarking_july\\subsamples_none_10\\config_cv_scheme_42.pkl'. It can be reloaded with '.load_params_cv(filename)'.\n",
      "No text subsampling with current setting: 'sample_type = 'none'.\n",
      "Proceeding with 2 classes.\n",
      "Proceeding with 2439 classes.\n",
      "Proceeding with GroupKFold cross-validation.\n"
     ]
    },
    {
     "name": "stderr",
     "output_type": "stream",
     "text": [
      "C:\\Users\\JOchab\\AppData\\Local\\Temp\\ipykernel_36184\\3970655721.py:14: FutureWarning: The frame.append method is deprecated and will be removed from pandas in a future version. Use pandas.concat instead.\n",
      "  all_scores = all_scores.append(exp.scores.df_all)\n"
     ]
    },
    {
     "data": {
      "application/vnd.jupyter.widget-view+json": {
       "model_id": "816ef7527e144d20bbe0ae97e988a8b3",
       "version_major": 2,
       "version_minor": 0
      },
      "text/plain": [
       "  0%|          | 0/1 [00:00<?, ?it/s]"
      ]
     },
     "metadata": {},
     "output_type": "display_data"
    },
    {
     "name": "stderr",
     "output_type": "stream",
     "text": [
      "D:\\ProgramData\\Anaconda3\\envs\\clarin\\lib\\site-packages\\lightgbm\\engine.py:177: UserWarning: Found `num_iterations` in params. Will use it instead of argument\n",
      "  _log_warning(f\"Found `{alias}` in params. Will use it instead of argument\")\n"
     ]
    },
    {
     "name": "stdout",
     "output_type": "stream",
     "text": [
      "'val_fraction' setting results in 0.0 validation samples. No nested validation will be performed.\n",
      "Train:4390, Val:0, Test:488\n",
      "'val_fraction' setting results in 0.0 validation samples. No nested validation will be performed.\n",
      "Train:4390, Val:0, Test:488\n",
      "'val_fraction' setting results in 0.0 validation samples. No nested validation will be performed.\n",
      "Train:4390, Val:0, Test:488\n",
      "'val_fraction' setting results in 0.0 validation samples. No nested validation will be performed.\n",
      "Train:4390, Val:0, Test:488\n",
      "'val_fraction' setting results in 0.0 validation samples. No nested validation will be performed.\n",
      "Train:4390, Val:0, Test:488\n",
      "'val_fraction' setting results in 0.0 validation samples. No nested validation will be performed.\n",
      "Train:4390, Val:0, Test:488\n",
      "'val_fraction' setting results in 0.0 validation samples. No nested validation will be performed.\n",
      "Train:4390, Val:0, Test:488\n",
      "'val_fraction' setting results in 0.0 validation samples. No nested validation will be performed.\n",
      "Train:4390, Val:0, Test:488\n",
      "'val_fraction' setting results in 0.0 validation samples. No nested validation will be performed.\n",
      "Train:4390, Val:0, Test:488\n",
      "'val_fraction' setting results in 0.0 validation samples. No nested validation will be performed.\n",
      "Train:4392, Val:0, Test:486\n"
     ]
    },
    {
     "data": {
      "application/vnd.jupyter.widget-view+json": {
       "model_id": "e2e43c5a96d240d99976eab285835018",
       "version_major": 2,
       "version_minor": 0
      },
      "text/plain": [
       "  0%|          | 0/10 [00:00<?, ?it/s]"
      ]
     },
     "metadata": {},
     "output_type": "display_data"
    },
    {
     "name": "stdout",
     "output_type": "stream",
     "text": [
      "Accuracy [0-1, higher better]: \t0.88 \t Baseline value:  0.50\n",
      "F1 [0-1, higher better]: \t\t0.88 \t Baseline value:  0.33\n",
      "Scores saved as explain_watermarking_july\\subsamples_none_10\\scores_class-class_group-term_42.pkl.\n",
      "Classifiers saved as explain_watermarking_july\\subsamples_none_10\\classifiers_class-class_group-term_42.pkl.\n",
      "Classifier parameters saved as 'explain_watermarking_july\\subsamples_none_10\\config_classifier_scheme_43.json'. It can be reloaded with '.load_params_classifier(filename)'.\n",
      "Cross-validation parameters saved as 'explain_watermarking_july\\subsamples_none_10\\config_cv_scheme_43.pkl'. It can be reloaded with '.load_params_cv(filename)'.\n"
     ]
    },
    {
     "name": "stderr",
     "output_type": "stream",
     "text": [
      "C:\\Users\\JOchab\\AppData\\Local\\Temp\\ipykernel_36184\\3970655721.py:14: FutureWarning: The frame.append method is deprecated and will be removed from pandas in a future version. Use pandas.concat instead.\n",
      "  all_scores = all_scores.append(exp.scores.df_all)\n"
     ]
    }
   ],
   "source": [
    "all_scores = pd.DataFrame()\n",
    "for i in range(len(classes)):\n",
    "    for j in range(i+1,len(classes)):\n",
    "# i=6\n",
    "# j=6\n",
    "        exp.docs = [docs[index] for index in np.flatnonzero((meta_df['class'] == classes[i]) | (meta_df['class'] == classes[j]))]\n",
    "        exp.metadata['files'] = meta_df[(meta_df['class'] == classes[i]) | (meta_df['class'] == classes[j])].to_dict(orient = 'list')\n",
    "        exp.feature_dataframe = feature_df[(meta_df['class'] == classes[i]) | (meta_df['class'] == classes[j])]\n",
    "        exp.feature_dataframe = exp.feature_dataframe.reset_index(drop = True)\n",
    "        exp.texts_subsample()\n",
    "        exp.cv_scheme['n_splits'] = 10\n",
    "        exp.classify(group_category='term',save_to_file=True)\n",
    "        exp.scores.df_all[\"pair\"] = classes[i]+' '+classes[j]\n",
    "        all_scores = all_scores.append(exp.scores.df_all)"
   ]
  },
  {
   "cell_type": "code",
   "execution_count": 12,
   "id": "9dc39ca6-0ef0-4c6f-91a6-571ac8b83aa4",
   "metadata": {},
   "outputs": [
    {
     "name": "stdout",
     "output_type": "stream",
     "text": [
      "0.0 0.99 0.99 1.00 0.99 1.00 1.00\n",
      "0.0 0.0 0.90 1.00 0.91 0.99 0.99\n",
      "0.0 0.0 0.0 1.00 0.93 0.99 0.99\n",
      "0.0 0.0 0.0 0.0 1.00 0.98 0.98\n",
      "0.0 0.0 0.0 0.0 0.0 1.00 0.99\n",
      "0.0 0.0 0.0 0.0 0.0 0.0 0.89\n",
      "0.0 0.0 0.0 0.0 0.0 0.0 0.0\n"
     ]
    }
   ],
   "source": [
    "# Wypisanie macierzy trójkątnej z wynikami \n",
    "\n",
    "arr = np.zeros((len(classes),len(classes)))\n",
    "for i in range(len(classes)):\n",
    "    for j in range(i+1,len(classes)):\n",
    "        arr[i,j] = all_scores[all_scores.pair == classes[i]+' '+classes[j]].acc.mean()\n",
    "# print(arr)\n",
    "\n",
    "# Function to round each element to two significant digits\n",
    "def format_to_significant_digits(arr, significant_digits):\n",
    "    formatted_array = []\n",
    "    for row in arr:\n",
    "        formatted_row = []\n",
    "        for num in row:\n",
    "            if num != 0:\n",
    "                # Determine the power of 10 of the number\n",
    "                power = np.floor(np.log10(abs(num)))\n",
    "                # Calculate the number of decimal places to retain\n",
    "                decimals = significant_digits - int(power) - 1\n",
    "                # Format the number to the calculated decimal places\n",
    "                formatted_row.append(f\"{num:.{decimals}f}\")\n",
    "            else:\n",
    "                formatted_row.append(f\"{num:.{significant_digits - 1}f}\")\n",
    "        formatted_array.append(formatted_row)\n",
    "    return np.array(formatted_array)\n",
    "\n",
    "# Apply the function to the array\n",
    "formatted_array = format_to_significant_digits(arr, 2)\n",
    "\n",
    "# Display the result\n",
    "for row in formatted_array:\n",
    "    print(\" \".join(row))\n"
   ]
  },
  {
   "cell_type": "code",
   "execution_count": 11,
   "id": "c7b3978c-eccd-44e8-a2f9-316d6dfad3a3",
   "metadata": {},
   "outputs": [
    {
     "name": "stdout",
     "output_type": "stream",
     "text": [
      "Loaded scores from explain_watermarking_july\\subsamples_none_10\\scores_class-class_group-term.pkl. Printing scores:\n",
      "Accuracy [0-1, higher better]: \t0.99 \t Baseline value:  0.50\n",
      "F1 [0-1, higher better]: \t\t0.99 \t Baseline value:  0.33\n",
      "Loaded cross-validated classifiers from explain_watermarking_july\\subsamples_none_10\\classifiers_class-class_group-term.pkl.\n",
      "Proceeding with 2 classes.\n"
     ]
    },
    {
     "data": {
      "text/plain": [
       "{0: ['orca'], 1: ['falcon']}"
      ]
     },
     "execution_count": 11,
     "metadata": {},
     "output_type": "execute_result"
    }
   ],
   "source": [
    "# w folderze 'subsamples_none_{sample_length}' powinny się zapisać pliki z wynikami\n",
    "# Uwaga: jeśli powtarzasz eksperymenty, to pliki się nie nadpisują, tylko zwiększają numerek\n",
    "# w tym wypadku każdy wynik z całej podwójnej pętli będzie miał własny plik\n",
    "\n",
    "# Tutaj można je pojedynczo załadować\n",
    "exp.scores_load(postfix='_class-class_group-term')\n",
    "exp.classifiers_load(postfix='_class-class_group-term')\n",
    "exp.classes_used"
   ]
  },
  {
   "cell_type": "code",
   "execution_count": 12,
   "id": "000feae1-f498-4414-8eff-7111423de35d",
   "metadata": {},
   "outputs": [],
   "source": [
    "# Z wyjaśnialnością jeszcze nie doszedłem do ładu,\n",
    "# ale część wykresów można zrobić jak poniżej\n",
    "\n",
    "import shap\n",
    "output_names=[i[0] for i in exp.classes_used.values() if len(i)]\n",
    "record = exp.classifiers[0]\n",
    "model = record['trained_model']\n",
    "test_index = record['test_index']\n",
    "x_test =exp.feature_dataframe.iloc[test_index,:]\n",
    "# shap_values.output_names = output_names"
   ]
  },
  {
   "cell_type": "code",
   "execution_count": 13,
   "id": "7da3741e-9c58-48ba-b2d3-c28e3743a23b",
   "metadata": {},
   "outputs": [],
   "source": [
    "explainer = shap.TreeExplainer(model,x_test)\n",
    "shap_values = explainer(x_test)"
   ]
  },
  {
   "cell_type": "code",
   "execution_count": 14,
   "id": "9782930e-bef9-43e8-b611-88d6e996e6b4",
   "metadata": {},
   "outputs": [
    {
     "data": {
      "image/png": "[encoded data removed]",
      "text/plain": [
       "<Figure size 800x650 with 1 Axes>"
      ]
     },
     "metadata": {},
     "output_type": "display_data"
    }
   ],
   "source": [
    "shap.plots.bar(shap_values)"
   ]
  },
  {
   "cell_type": "code",
   "execution_count": 16,
   "id": "29b9a7ae-db4d-4524-a903-d75bf09992fd",
   "metadata": {},
   "outputs": [
    {
     "data": {
      "image/png": "[encoded data removed]",
      "text/plain": [
       "<Figure size 800x550 with 2 Axes>"
      ]
     },
     "metadata": {},
     "output_type": "display_data"
    }
   ],
   "source": [
    "shap.plots.beeswarm(shap_values)"
   ]
  }
 ],
 "metadata": {
  "kernelspec": {
   "display_name": "Python 3 (ipykernel)",
   "language": "python",
   "name": "python3"
  },
  "language_info": {
   "codemirror_mode": {
    "name": "ipython",
    "version": 3
   },
   "file_extension": ".py",
   "mimetype": "text/x-python",
   "name": "python",
   "nbconvert_exporter": "python",
   "pygments_lexer": "ipython3",
   "version": "3.9.10"
  }
 },
 "nbformat": 4,
 "nbformat_minor": 5
}
